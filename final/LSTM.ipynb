{
  "cells": [
    {
      "cell_type": "markdown",
      "metadata": {
        "id": "view-in-github",
        "colab_type": "text"
      },
      "source": [
        "<a href=\"https://colab.research.google.com/github/mukaseevru/skillfactory_rds/blob/master/final/LSTM.ipynb\" target=\"_parent\"><img src=\"https://colab.research.google.com/assets/colab-badge.svg\" alt=\"Open In Colab\"/></a>"
      ]
    },
    {
      "cell_type": "markdown",
      "source": [
        "Поддержка Google drive"
      ],
      "metadata": {
        "id": "uNstuCZ30hYZ"
      }
    },
    {
      "cell_type": "code",
      "execution_count": null,
      "metadata": {
        "colab": {
          "base_uri": "https://localhost:8080/"
        },
        "id": "4iIkazdQLFX1",
        "outputId": "8e9c8340-3039-408d-ec57-94ffa8f2514b"
      },
      "outputs": [
        {
          "output_type": "stream",
          "name": "stdout",
          "text": [
            "Mounted at /content/drive\n"
          ]
        }
      ],
      "source": [
        "from google.colab import drive\n",
        "drive.mount('/content/drive')"
      ]
    },
    {
      "cell_type": "markdown",
      "metadata": {
        "id": "gNLnBKtsxEDu"
      },
      "source": [
        "# Imports\n",
        "Импортируем необходимые библиотеки"
      ]
    },
    {
      "cell_type": "code",
      "execution_count": null,
      "metadata": {
        "id": "WjSocV36vR5H"
      },
      "outputs": [],
      "source": [
        "import os\n",
        "import re\n",
        "import csv\n",
        "import numpy as np\n",
        "import pandas as pd\n",
        "# import codecs\n",
        "from string import punctuation\n",
        "from collections import defaultdict\n",
        "# from tqdm import tqdm\n",
        "from sklearn.preprocessing import StandardScaler\n",
        "from nltk.corpus import stopwords\n",
        "from nltk.stem import SnowballStemmer\n",
        "from keras.preprocessing.text import Tokenizer\n",
        "from keras.preprocessing.sequence import pad_sequences\n",
        "from keras.layers import Dense, Input, Embedding, Dropout, Activation, LSTM, Lambda\n",
        "from keras.layers.merge import concatenate\n",
        "from keras.models import Model\n",
        "from keras.layers import BatchNormalization\n",
        "from keras.callbacks import EarlyStopping, ModelCheckpoint\n",
        "# from keras.layers.convolutional import Conv1D\n",
        "from keras.layers.pooling import GlobalAveragePooling1D\n",
        "import keras.backend as K"
      ]
    },
    {
      "cell_type": "markdown",
      "metadata": {
        "id": "fApaD4W5xBkm"
      },
      "source": [
        "# Settings\n",
        "Ниже установим необходимые настройки модели"
      ]
    },
    {
      "cell_type": "code",
      "execution_count": null,
      "metadata": {
        "colab": {
          "base_uri": "https://localhost:8080/"
        },
        "id": "H8qB_Z2cviqm",
        "outputId": "c3bbaaed-3d66-42c1-a3b6-760b29919f51"
      },
      "outputs": [
        {
          "output_type": "stream",
          "name": "stdout",
          "text": [
            "lstm_231_144_0.33_0.38\n"
          ]
        }
      ],
      "source": [
        "PATH = '/content/drive/MyDrive/Colab Notebooks/skillfactory/Project-Final/'\n",
        "PATH_DATA = PATH + 'data/'\n",
        "embedding_file = PATH_DATA + 'glove.840B.300d.txt'\n",
        "train_data_file = PATH_DATA + 'train.csv'\n",
        "test_data_file = PATH_DATA + 'test.csv'\n",
        "max_sequence_length = 60\n",
        "max_num_words = 200_000 # Всего около 201000 уникальных слов в обучающем датасете. 200000 слов достаточно для токенизации\n",
        "embedding_dim = 300\n",
        "validation_split_ratio = 0.1\n",
        "num_lstm = np.random.randint(175, 275)\n",
        "num_dense = np.random.randint(100, 150)\n",
        "rate_drop_lstm = 0.15 + np.random.rand() * 0.25\n",
        "rate_drop_dense = 0.15 + np.random.rand() * 0.25\n",
        "lstm_name = 'lstm_{:d}_{:d}_{:.2f}_{:.2f}'.format(num_lstm, num_dense, rate_drop_lstm, rate_drop_dense)\n",
        "act_f = 'relu'\n",
        "re_weight = True\n",
        "np.random.seed(21)\n",
        "\n",
        "print(lstm_name)"
      ]
    },
    {
      "cell_type": "markdown",
      "metadata": {
        "id": "J5BynRAcxRUc"
      },
      "source": [
        "# Functions\n",
        "Определим необходимые функции"
      ]
    },
    {
      "cell_type": "code",
      "execution_count": null,
      "metadata": {
        "id": "JUbaeSYXxUBB"
      },
      "outputs": [],
      "source": [
        "def text_to_wordlist(text, remove_stopwords=False, stem_words=False):\n",
        "    '''\n",
        "    Функция очистки текста. В качестве опции удаление стопслов и\n",
        "    привидение слов в начальную форму\n",
        "    '''\n",
        "    text = text.lower().split()\n",
        "    # Опционально, удаление стоп слов\n",
        "    if remove_stopwords:\n",
        "        stop_words = set(stopwords.words(\"english\"))\n",
        "        text = [w for w in text if not w in stop_words]\n",
        "    text = \" \".join(text)\n",
        "    # Удаление пунктуации\n",
        "    text = \"\".join([c for c in text if c not in punctuation])\n",
        "    # Очистка текста\n",
        "    text = re.sub(r\"[^A-Za-z0-9^,!.\\/'+-=]\", \" \", text)\n",
        "    text = re.sub(r\"what's\", \"what is \", text)\n",
        "    text = re.sub(r\"\\'s\", \" \", text)\n",
        "    text = re.sub(r\"\\'ve\", \" have \", text)\n",
        "    text = re.sub(r\"can't\", \"cannot \", text)\n",
        "    text = re.sub(r\"n't\", \" not \", text)\n",
        "    text = re.sub(r\"i'm\", \"i am \", text)\n",
        "    text = re.sub(r\"\\'re\", \" are \", text)\n",
        "    text = re.sub(r\"\\'d\", \" would \", text)\n",
        "    text = re.sub(r\"\\'ll\", \" will \", text)\n",
        "    text = re.sub(r\",\", \" \", text)\n",
        "    text = re.sub(r\"\\.\", \" \", text)\n",
        "    text = re.sub(r\"!\", \" ! \", text)\n",
        "    text = re.sub(r\"\\/\", \" \", text)\n",
        "    text = re.sub(r\"\\^\", \" ^ \", text)\n",
        "    text = re.sub(r\"\\+\", \" + \", text)\n",
        "    text = re.sub(r\"\\-\", \" - \", text)\n",
        "    text = re.sub(r\"\\=\", \" = \", text)\n",
        "    text = re.sub(r\"'\", \" \", text)\n",
        "    text = re.sub(r\":\", \" : \", text)\n",
        "    text = re.sub(r\"(\\d+)(k)\", r\"\\g<1>000\", text)\n",
        "    text = re.sub(r\" e g \", \" eg \", text)\n",
        "    text = re.sub(r\" b g \", \" bg \", text)\n",
        "    text = re.sub(r\" u s \", \" american \", text)\n",
        "    text = re.sub(r\" 9 11 \", \"911\", text)\n",
        "    text = re.sub(r\"e - mail\", \"email\", text)\n",
        "    text = re.sub(r\"j k\", \"jk\", text)\n",
        "    text = re.sub(r\"\\s{2,}\", \" \", text)\n",
        "    # Опционально, привидение слов к начальном форме\n",
        "    if stem_words:\n",
        "        text = text.split()\n",
        "        stemmer = SnowballStemmer('english')\n",
        "        stemmed_words = [stemmer.stem(word) for word in text]\n",
        "        text = \" \".join(stemmed_words)\n",
        "    return(text)\n",
        "\n",
        "\n",
        "def q1_q2_intersect(row):\n",
        "    '''\n",
        "    Функция расчета пересечений\n",
        "    '''\n",
        "    return(len(set(q_dict[row['question1']]).intersection(set(q_dict[row['question2']]))))\n",
        "\n",
        "\n",
        "def q1_freq(row):\n",
        "    '''\n",
        "    Функция расчета частотности question1\n",
        "    '''\n",
        "    return(len(q_dict[row['question1']]))\n",
        "\n",
        "\n",
        "def q2_freq(row):\n",
        "    '''\n",
        "    Функция расчета частотности question2\n",
        "    '''\n",
        "    return(len(q_dict[row['question2']]))"
      ]
    },
    {
      "cell_type": "markdown",
      "metadata": {
        "id": "zeZO49Lmw8YP"
      },
      "source": [
        "# Create word embedding dictionary\n",
        "Для создания используется файл 'glove.840B.300d.txt'"
      ]
    },
    {
      "cell_type": "code",
      "execution_count": null,
      "metadata": {
        "colab": {
          "base_uri": "https://localhost:8080/"
        },
        "id": "B_wnfnq_wrwn",
        "outputId": "de2bc1ff-cac6-4025-cf9d-bd6181bc0f47"
      },
      "outputs": [
        {
          "output_type": "stream",
          "name": "stdout",
          "text": [
            "Found 2195892 word vectors.\n"
          ]
        }
      ],
      "source": [
        "embeddings_index = {}\n",
        "f = open(embedding_file, encoding='utf-8')\n",
        "\n",
        "# for line in tqdm(f):\n",
        "for line in f:\n",
        "    values = line.split()\n",
        "    # word = values[0]\n",
        "    word = ''.join(values[:-300])   \n",
        "    # coefs = np.asarray(values[1:], dtype='float32')\n",
        "    coefs = np.asarray(values[-300:], dtype='float32')\n",
        "    embeddings_index[word] = coefs\n",
        "f.close()\n",
        "\n",
        "print(f'Found {len(embeddings_index)} word vectors.')"
      ]
    },
    {
      "cell_type": "markdown",
      "metadata": {
        "id": "vrw44v_dw4xR"
      },
      "source": [
        "# Process text in dataset\n",
        "Обработка текста в датасете"
      ]
    },
    {
      "cell_type": "code",
      "execution_count": null,
      "metadata": {
        "id": "8DoH1UdGxO2C"
      },
      "outputs": [],
      "source": [
        "train_texts_1 = [] \n",
        "train_texts_2 = []\n",
        "train_labels = []\n",
        "\n",
        "df_train = pd.read_csv(train_data_file, encoding='utf-8')\n",
        "df_train = df_train.fillna('empty')\n",
        "train_q1 = df_train['question1'].values\n",
        "train_q2 = df_train['question2'].values\n",
        "train_labels = df_train['is_duplicate'].values"
      ]
    },
    {
      "cell_type": "code",
      "source": [
        "df_train.head()"
      ],
      "metadata": {
        "colab": {
          "base_uri": "https://localhost:8080/",
          "height": 204
        },
        "id": "RNDpJ5uvxC-O",
        "outputId": "5e0386d5-c38b-4a80-ad50-4ca80c53c5a3"
      },
      "execution_count": null,
      "outputs": [
        {
          "output_type": "execute_result",
          "data": {
            "text/html": [
              "\n",
              "  <div id=\"df-60181a28-39da-4e62-9aa9-eda3c5b2a947\">\n",
              "    <div class=\"colab-df-container\">\n",
              "      <div>\n",
              "<style scoped>\n",
              "    .dataframe tbody tr th:only-of-type {\n",
              "        vertical-align: middle;\n",
              "    }\n",
              "\n",
              "    .dataframe tbody tr th {\n",
              "        vertical-align: top;\n",
              "    }\n",
              "\n",
              "    .dataframe thead th {\n",
              "        text-align: right;\n",
              "    }\n",
              "</style>\n",
              "<table border=\"1\" class=\"dataframe\">\n",
              "  <thead>\n",
              "    <tr style=\"text-align: right;\">\n",
              "      <th></th>\n",
              "      <th>id</th>\n",
              "      <th>qid1</th>\n",
              "      <th>qid2</th>\n",
              "      <th>question1</th>\n",
              "      <th>question2</th>\n",
              "      <th>is_duplicate</th>\n",
              "    </tr>\n",
              "  </thead>\n",
              "  <tbody>\n",
              "    <tr>\n",
              "      <th>0</th>\n",
              "      <td>0</td>\n",
              "      <td>1</td>\n",
              "      <td>2</td>\n",
              "      <td>What is the step by step guide to invest in sh...</td>\n",
              "      <td>What is the step by step guide to invest in sh...</td>\n",
              "      <td>0</td>\n",
              "    </tr>\n",
              "    <tr>\n",
              "      <th>1</th>\n",
              "      <td>1</td>\n",
              "      <td>3</td>\n",
              "      <td>4</td>\n",
              "      <td>What is the story of Kohinoor (Koh-i-Noor) Dia...</td>\n",
              "      <td>What would happen if the Indian government sto...</td>\n",
              "      <td>0</td>\n",
              "    </tr>\n",
              "    <tr>\n",
              "      <th>2</th>\n",
              "      <td>2</td>\n",
              "      <td>5</td>\n",
              "      <td>6</td>\n",
              "      <td>How can I increase the speed of my internet co...</td>\n",
              "      <td>How can Internet speed be increased by hacking...</td>\n",
              "      <td>0</td>\n",
              "    </tr>\n",
              "    <tr>\n",
              "      <th>3</th>\n",
              "      <td>3</td>\n",
              "      <td>7</td>\n",
              "      <td>8</td>\n",
              "      <td>Why am I mentally very lonely? How can I solve...</td>\n",
              "      <td>Find the remainder when [math]23^{24}[/math] i...</td>\n",
              "      <td>0</td>\n",
              "    </tr>\n",
              "    <tr>\n",
              "      <th>4</th>\n",
              "      <td>4</td>\n",
              "      <td>9</td>\n",
              "      <td>10</td>\n",
              "      <td>Which one dissolve in water quikly sugar, salt...</td>\n",
              "      <td>Which fish would survive in salt water?</td>\n",
              "      <td>0</td>\n",
              "    </tr>\n",
              "  </tbody>\n",
              "</table>\n",
              "</div>\n",
              "      <button class=\"colab-df-convert\" onclick=\"convertToInteractive('df-60181a28-39da-4e62-9aa9-eda3c5b2a947')\"\n",
              "              title=\"Convert this dataframe to an interactive table.\"\n",
              "              style=\"display:none;\">\n",
              "        \n",
              "  <svg xmlns=\"http://www.w3.org/2000/svg\" height=\"24px\"viewBox=\"0 0 24 24\"\n",
              "       width=\"24px\">\n",
              "    <path d=\"M0 0h24v24H0V0z\" fill=\"none\"/>\n",
              "    <path d=\"M18.56 5.44l.94 2.06.94-2.06 2.06-.94-2.06-.94-.94-2.06-.94 2.06-2.06.94zm-11 1L8.5 8.5l.94-2.06 2.06-.94-2.06-.94L8.5 2.5l-.94 2.06-2.06.94zm10 10l.94 2.06.94-2.06 2.06-.94-2.06-.94-.94-2.06-.94 2.06-2.06.94z\"/><path d=\"M17.41 7.96l-1.37-1.37c-.4-.4-.92-.59-1.43-.59-.52 0-1.04.2-1.43.59L10.3 9.45l-7.72 7.72c-.78.78-.78 2.05 0 2.83L4 21.41c.39.39.9.59 1.41.59.51 0 1.02-.2 1.41-.59l7.78-7.78 2.81-2.81c.8-.78.8-2.07 0-2.86zM5.41 20L4 18.59l7.72-7.72 1.47 1.35L5.41 20z\"/>\n",
              "  </svg>\n",
              "      </button>\n",
              "      \n",
              "  <style>\n",
              "    .colab-df-container {\n",
              "      display:flex;\n",
              "      flex-wrap:wrap;\n",
              "      gap: 12px;\n",
              "    }\n",
              "\n",
              "    .colab-df-convert {\n",
              "      background-color: #E8F0FE;\n",
              "      border: none;\n",
              "      border-radius: 50%;\n",
              "      cursor: pointer;\n",
              "      display: none;\n",
              "      fill: #1967D2;\n",
              "      height: 32px;\n",
              "      padding: 0 0 0 0;\n",
              "      width: 32px;\n",
              "    }\n",
              "\n",
              "    .colab-df-convert:hover {\n",
              "      background-color: #E2EBFA;\n",
              "      box-shadow: 0px 1px 2px rgba(60, 64, 67, 0.3), 0px 1px 3px 1px rgba(60, 64, 67, 0.15);\n",
              "      fill: #174EA6;\n",
              "    }\n",
              "\n",
              "    [theme=dark] .colab-df-convert {\n",
              "      background-color: #3B4455;\n",
              "      fill: #D2E3FC;\n",
              "    }\n",
              "\n",
              "    [theme=dark] .colab-df-convert:hover {\n",
              "      background-color: #434B5C;\n",
              "      box-shadow: 0px 1px 3px 1px rgba(0, 0, 0, 0.15);\n",
              "      filter: drop-shadow(0px 1px 2px rgba(0, 0, 0, 0.3));\n",
              "      fill: #FFFFFF;\n",
              "    }\n",
              "  </style>\n",
              "\n",
              "      <script>\n",
              "        const buttonEl =\n",
              "          document.querySelector('#df-60181a28-39da-4e62-9aa9-eda3c5b2a947 button.colab-df-convert');\n",
              "        buttonEl.style.display =\n",
              "          google.colab.kernel.accessAllowed ? 'block' : 'none';\n",
              "\n",
              "        async function convertToInteractive(key) {\n",
              "          const element = document.querySelector('#df-60181a28-39da-4e62-9aa9-eda3c5b2a947');\n",
              "          const dataTable =\n",
              "            await google.colab.kernel.invokeFunction('convertToInteractive',\n",
              "                                                     [key], {});\n",
              "          if (!dataTable) return;\n",
              "\n",
              "          const docLinkHtml = 'Like what you see? Visit the ' +\n",
              "            '<a target=\"_blank\" href=https://colab.research.google.com/notebooks/data_table.ipynb>data table notebook</a>'\n",
              "            + ' to learn more about interactive tables.';\n",
              "          element.innerHTML = '';\n",
              "          dataTable['output_type'] = 'display_data';\n",
              "          await google.colab.output.renderOutput(dataTable, element);\n",
              "          const docLink = document.createElement('div');\n",
              "          docLink.innerHTML = docLinkHtml;\n",
              "          element.appendChild(docLink);\n",
              "        }\n",
              "      </script>\n",
              "    </div>\n",
              "  </div>\n",
              "  "
            ],
            "text/plain": [
              "   id  qid1  qid2                                          question1  \\\n",
              "0   0     1     2  What is the step by step guide to invest in sh...   \n",
              "1   1     3     4  What is the story of Kohinoor (Koh-i-Noor) Dia...   \n",
              "2   2     5     6  How can I increase the speed of my internet co...   \n",
              "3   3     7     8  Why am I mentally very lonely? How can I solve...   \n",
              "4   4     9    10  Which one dissolve in water quikly sugar, salt...   \n",
              "\n",
              "                                           question2  is_duplicate  \n",
              "0  What is the step by step guide to invest in sh...             0  \n",
              "1  What would happen if the Indian government sto...             0  \n",
              "2  How can Internet speed be increased by hacking...             0  \n",
              "3  Find the remainder when [math]23^{24}[/math] i...             0  \n",
              "4            Which fish would survive in salt water?             0  "
            ]
          },
          "metadata": {},
          "execution_count": 7
        }
      ]
    },
    {
      "cell_type": "code",
      "source": [
        "df_train.info()"
      ],
      "metadata": {
        "colab": {
          "base_uri": "https://localhost:8080/"
        },
        "id": "pOXOjsI1zCva",
        "outputId": "a8f831ab-3767-44ec-9afe-5516b8de6c09"
      },
      "execution_count": null,
      "outputs": [
        {
          "output_type": "stream",
          "name": "stdout",
          "text": [
            "<class 'pandas.core.frame.DataFrame'>\n",
            "RangeIndex: 404290 entries, 0 to 404289\n",
            "Data columns (total 6 columns):\n",
            " #   Column        Non-Null Count   Dtype \n",
            "---  ------        --------------   ----- \n",
            " 0   id            404290 non-null  int64 \n",
            " 1   qid1          404290 non-null  int64 \n",
            " 2   qid2          404290 non-null  int64 \n",
            " 3   question1     404290 non-null  object\n",
            " 4   question2     404290 non-null  object\n",
            " 5   is_duplicate  404290 non-null  int64 \n",
            "dtypes: int64(4), object(2)\n",
            "memory usage: 18.5+ MB\n"
          ]
        }
      ]
    },
    {
      "cell_type": "code",
      "execution_count": null,
      "metadata": {
        "colab": {
          "base_uri": "https://localhost:8080/"
        },
        "id": "1bOzT1w1yTpp",
        "outputId": "3878cca8-5c23-4da7-d234-4057af1d3680"
      },
      "outputs": [
        {
          "output_type": "stream",
          "name": "stdout",
          "text": [
            "404290 texts are found in train.csv\n"
          ]
        }
      ],
      "source": [
        "for text in train_q1:\n",
        "    train_texts_1.append(text_to_wordlist(text, remove_stopwords=False, stem_words=False))\n",
        "    \n",
        "for text in train_q2:\n",
        "    train_texts_2.append(text_to_wordlist(text, remove_stopwords=False, stem_words=False))\n",
        "\n",
        "print(f'{len(train_texts_1)} texts are found in train.csv')"
      ]
    },
    {
      "cell_type": "code",
      "execution_count": null,
      "metadata": {
        "id": "5F9qsW8iyugB"
      },
      "outputs": [],
      "source": [
        "test_texts_1 = []\n",
        "test_texts_2 = []\n",
        "test_ids = []\n",
        "\n",
        "df_test = pd.read_csv(test_data_file, encoding='utf-8', low_memory=False)\n",
        "df_test = df_test.fillna('empty')\n",
        "test_q1 = df_test['question1'].values\n",
        "test_q2 = df_test['question2'].values\n",
        "test_ids = df_test['test_id'].values"
      ]
    },
    {
      "cell_type": "code",
      "source": [
        "df_test.head()"
      ],
      "metadata": {
        "colab": {
          "base_uri": "https://localhost:8080/",
          "height": 204
        },
        "id": "1XxsRSGjyyBX",
        "outputId": "3d9fb498-abd8-4225-a138-19973f12bed2"
      },
      "execution_count": null,
      "outputs": [
        {
          "output_type": "execute_result",
          "data": {
            "text/html": [
              "\n",
              "  <div id=\"df-0aeebd7c-7972-4085-bd95-b91e3852c96d\">\n",
              "    <div class=\"colab-df-container\">\n",
              "      <div>\n",
              "<style scoped>\n",
              "    .dataframe tbody tr th:only-of-type {\n",
              "        vertical-align: middle;\n",
              "    }\n",
              "\n",
              "    .dataframe tbody tr th {\n",
              "        vertical-align: top;\n",
              "    }\n",
              "\n",
              "    .dataframe thead th {\n",
              "        text-align: right;\n",
              "    }\n",
              "</style>\n",
              "<table border=\"1\" class=\"dataframe\">\n",
              "  <thead>\n",
              "    <tr style=\"text-align: right;\">\n",
              "      <th></th>\n",
              "      <th>test_id</th>\n",
              "      <th>question1</th>\n",
              "      <th>question2</th>\n",
              "    </tr>\n",
              "  </thead>\n",
              "  <tbody>\n",
              "    <tr>\n",
              "      <th>0</th>\n",
              "      <td>0</td>\n",
              "      <td>How does the Surface Pro himself 4 compare wit...</td>\n",
              "      <td>Why did Microsoft choose core m3 and not core ...</td>\n",
              "    </tr>\n",
              "    <tr>\n",
              "      <th>1</th>\n",
              "      <td>1</td>\n",
              "      <td>Should I have a hair transplant at age 24? How...</td>\n",
              "      <td>How much cost does hair transplant require?</td>\n",
              "    </tr>\n",
              "    <tr>\n",
              "      <th>2</th>\n",
              "      <td>2</td>\n",
              "      <td>What but is the best way to send money from Ch...</td>\n",
              "      <td>What you send money to China?</td>\n",
              "    </tr>\n",
              "    <tr>\n",
              "      <th>3</th>\n",
              "      <td>3</td>\n",
              "      <td>Which food not emulsifiers?</td>\n",
              "      <td>What foods fibre?</td>\n",
              "    </tr>\n",
              "    <tr>\n",
              "      <th>4</th>\n",
              "      <td>4</td>\n",
              "      <td>How \"aberystwyth\" start reading?</td>\n",
              "      <td>How their can I start reading?</td>\n",
              "    </tr>\n",
              "  </tbody>\n",
              "</table>\n",
              "</div>\n",
              "      <button class=\"colab-df-convert\" onclick=\"convertToInteractive('df-0aeebd7c-7972-4085-bd95-b91e3852c96d')\"\n",
              "              title=\"Convert this dataframe to an interactive table.\"\n",
              "              style=\"display:none;\">\n",
              "        \n",
              "  <svg xmlns=\"http://www.w3.org/2000/svg\" height=\"24px\"viewBox=\"0 0 24 24\"\n",
              "       width=\"24px\">\n",
              "    <path d=\"M0 0h24v24H0V0z\" fill=\"none\"/>\n",
              "    <path d=\"M18.56 5.44l.94 2.06.94-2.06 2.06-.94-2.06-.94-.94-2.06-.94 2.06-2.06.94zm-11 1L8.5 8.5l.94-2.06 2.06-.94-2.06-.94L8.5 2.5l-.94 2.06-2.06.94zm10 10l.94 2.06.94-2.06 2.06-.94-2.06-.94-.94-2.06-.94 2.06-2.06.94z\"/><path d=\"M17.41 7.96l-1.37-1.37c-.4-.4-.92-.59-1.43-.59-.52 0-1.04.2-1.43.59L10.3 9.45l-7.72 7.72c-.78.78-.78 2.05 0 2.83L4 21.41c.39.39.9.59 1.41.59.51 0 1.02-.2 1.41-.59l7.78-7.78 2.81-2.81c.8-.78.8-2.07 0-2.86zM5.41 20L4 18.59l7.72-7.72 1.47 1.35L5.41 20z\"/>\n",
              "  </svg>\n",
              "      </button>\n",
              "      \n",
              "  <style>\n",
              "    .colab-df-container {\n",
              "      display:flex;\n",
              "      flex-wrap:wrap;\n",
              "      gap: 12px;\n",
              "    }\n",
              "\n",
              "    .colab-df-convert {\n",
              "      background-color: #E8F0FE;\n",
              "      border: none;\n",
              "      border-radius: 50%;\n",
              "      cursor: pointer;\n",
              "      display: none;\n",
              "      fill: #1967D2;\n",
              "      height: 32px;\n",
              "      padding: 0 0 0 0;\n",
              "      width: 32px;\n",
              "    }\n",
              "\n",
              "    .colab-df-convert:hover {\n",
              "      background-color: #E2EBFA;\n",
              "      box-shadow: 0px 1px 2px rgba(60, 64, 67, 0.3), 0px 1px 3px 1px rgba(60, 64, 67, 0.15);\n",
              "      fill: #174EA6;\n",
              "    }\n",
              "\n",
              "    [theme=dark] .colab-df-convert {\n",
              "      background-color: #3B4455;\n",
              "      fill: #D2E3FC;\n",
              "    }\n",
              "\n",
              "    [theme=dark] .colab-df-convert:hover {\n",
              "      background-color: #434B5C;\n",
              "      box-shadow: 0px 1px 3px 1px rgba(0, 0, 0, 0.15);\n",
              "      filter: drop-shadow(0px 1px 2px rgba(0, 0, 0, 0.3));\n",
              "      fill: #FFFFFF;\n",
              "    }\n",
              "  </style>\n",
              "\n",
              "      <script>\n",
              "        const buttonEl =\n",
              "          document.querySelector('#df-0aeebd7c-7972-4085-bd95-b91e3852c96d button.colab-df-convert');\n",
              "        buttonEl.style.display =\n",
              "          google.colab.kernel.accessAllowed ? 'block' : 'none';\n",
              "\n",
              "        async function convertToInteractive(key) {\n",
              "          const element = document.querySelector('#df-0aeebd7c-7972-4085-bd95-b91e3852c96d');\n",
              "          const dataTable =\n",
              "            await google.colab.kernel.invokeFunction('convertToInteractive',\n",
              "                                                     [key], {});\n",
              "          if (!dataTable) return;\n",
              "\n",
              "          const docLinkHtml = 'Like what you see? Visit the ' +\n",
              "            '<a target=\"_blank\" href=https://colab.research.google.com/notebooks/data_table.ipynb>data table notebook</a>'\n",
              "            + ' to learn more about interactive tables.';\n",
              "          element.innerHTML = '';\n",
              "          dataTable['output_type'] = 'display_data';\n",
              "          await google.colab.output.renderOutput(dataTable, element);\n",
              "          const docLink = document.createElement('div');\n",
              "          docLink.innerHTML = docLinkHtml;\n",
              "          element.appendChild(docLink);\n",
              "        }\n",
              "      </script>\n",
              "    </div>\n",
              "  </div>\n",
              "  "
            ],
            "text/plain": [
              "   test_id                                          question1  \\\n",
              "0        0  How does the Surface Pro himself 4 compare wit...   \n",
              "1        1  Should I have a hair transplant at age 24? How...   \n",
              "2        2  What but is the best way to send money from Ch...   \n",
              "3        3                        Which food not emulsifiers?   \n",
              "4        4                   How \"aberystwyth\" start reading?   \n",
              "\n",
              "                                           question2  \n",
              "0  Why did Microsoft choose core m3 and not core ...  \n",
              "1        How much cost does hair transplant require?  \n",
              "2                      What you send money to China?  \n",
              "3                                  What foods fibre?  \n",
              "4                     How their can I start reading?  "
            ]
          },
          "metadata": {},
          "execution_count": 11
        }
      ]
    },
    {
      "cell_type": "code",
      "source": [
        "df_test.info()"
      ],
      "metadata": {
        "colab": {
          "base_uri": "https://localhost:8080/"
        },
        "id": "HWeYHuNMzAM6",
        "outputId": "4c98ff91-6bcc-4632-efc6-cf97e8ce092f"
      },
      "execution_count": null,
      "outputs": [
        {
          "output_type": "stream",
          "name": "stdout",
          "text": [
            "<class 'pandas.core.frame.DataFrame'>\n",
            "RangeIndex: 2345796 entries, 0 to 2345795\n",
            "Data columns (total 3 columns):\n",
            " #   Column     Dtype \n",
            "---  ------     ----- \n",
            " 0   test_id    int64 \n",
            " 1   question1  object\n",
            " 2   question2  object\n",
            "dtypes: int64(1), object(2)\n",
            "memory usage: 53.7+ MB\n"
          ]
        }
      ]
    },
    {
      "cell_type": "code",
      "execution_count": null,
      "metadata": {
        "colab": {
          "base_uri": "https://localhost:8080/"
        },
        "id": "uYcq_Nq-y9pw",
        "outputId": "b0322f8f-e224-4873-92ba-c1493d3cdc7c"
      },
      "outputs": [
        {
          "output_type": "stream",
          "name": "stdout",
          "text": [
            "2345796 texts are found in test.csv\n"
          ]
        }
      ],
      "source": [
        "for text in test_q1:\n",
        "    test_texts_1.append(text_to_wordlist(text, remove_stopwords=False, stem_words=False))\n",
        "    \n",
        "for text in test_q2:\n",
        "    test_texts_2.append(text_to_wordlist(text, remove_stopwords=False, stem_words=False))\n",
        "\n",
        "print(f'{len(test_texts_1)} texts are found in test.csv')"
      ]
    },
    {
      "cell_type": "markdown",
      "metadata": {
        "id": "XdUtXZP61t9K"
      },
      "source": [
        "# Tokenize words in all sentences\n",
        "Проведем токенезацию текста"
      ]
    },
    {
      "cell_type": "code",
      "execution_count": null,
      "metadata": {
        "colab": {
          "base_uri": "https://localhost:8080/"
        },
        "id": "5iGQeCMj1smb",
        "outputId": "0573abff-769e-4293-b8c5-72a02efe211c"
      },
      "outputs": [
        {
          "output_type": "stream",
          "name": "stdout",
          "text": [
            "159606 unique tokens are found\n"
          ]
        }
      ],
      "source": [
        "tokenizer = Tokenizer(num_words=max_num_words)\n",
        "tokenizer.fit_on_texts(train_texts_1 + train_texts_2 + test_texts_1 + test_texts_2)\n",
        "\n",
        "train_sequences_1 = tokenizer.texts_to_sequences(train_texts_1)\n",
        "train_sequences_2 = tokenizer.texts_to_sequences(train_texts_2)\n",
        "test_sequences_1 = tokenizer.texts_to_sequences(test_texts_1)\n",
        "test_sequences_2 = tokenizer.texts_to_sequences(test_texts_2)\n",
        "\n",
        "word_index = tokenizer.word_index\n",
        "print(f'{len(word_index)} unique tokens are found')"
      ]
    },
    {
      "cell_type": "code",
      "execution_count": null,
      "metadata": {
        "colab": {
          "base_uri": "https://localhost:8080/"
        },
        "id": "aZZrb7Xd2AZy",
        "outputId": "bf74163e-e745-42d9-cc8e-23af6021d2ed"
      },
      "outputs": [
        {
          "output_type": "stream",
          "name": "stdout",
          "text": [
            "Shape of train data tensor: (404290, 60)\n",
            "Shape of train labels tensor: (404290,)\n",
            "Shape of test data tensor: (2345796, 60)\n",
            "Shape of test ids tensor:(2345796,)\n"
          ]
        }
      ],
      "source": [
        "# pad all train with Max_Sequence_Length\n",
        "train_data_1 = pad_sequences(train_sequences_1, maxlen=max_sequence_length)\n",
        "train_data_2 = pad_sequences(train_sequences_2, maxlen=max_sequence_length)\n",
        "print(f'Shape of train data tensor: {train_data_1.shape}')\n",
        "print(f'Shape of train labels tensor: {train_labels.shape}')\n",
        "\n",
        "# pad all test with Max_Sequence_Length\n",
        "test_data_1 = pad_sequences(test_sequences_1, maxlen=max_sequence_length)\n",
        "test_data_2 = pad_sequences(test_sequences_2, maxlen=max_sequence_length)\n",
        "print(f'Shape of test data tensor: {test_data_2.shape}')\n",
        "print(f'Shape of test ids tensor:{test_ids.shape}')"
      ]
    },
    {
      "cell_type": "markdown",
      "metadata": {
        "id": "Q7KDNQC82rur"
      },
      "source": [
        "# Leaky features"
      ]
    },
    {
      "cell_type": "code",
      "execution_count": null,
      "metadata": {
        "colab": {
          "base_uri": "https://localhost:8080/",
          "height": 204
        },
        "id": "QUvpTbOm2rFH",
        "outputId": "91e1647c-d0ac-4495-c272-1b253a75a898"
      },
      "outputs": [
        {
          "output_type": "execute_result",
          "data": {
            "text/html": [
              "\n",
              "  <div id=\"df-20b17bb6-3114-4e49-b626-9401da58bf78\">\n",
              "    <div class=\"colab-df-container\">\n",
              "      <div>\n",
              "<style scoped>\n",
              "    .dataframe tbody tr th:only-of-type {\n",
              "        vertical-align: middle;\n",
              "    }\n",
              "\n",
              "    .dataframe tbody tr th {\n",
              "        vertical-align: top;\n",
              "    }\n",
              "\n",
              "    .dataframe thead th {\n",
              "        text-align: right;\n",
              "    }\n",
              "</style>\n",
              "<table border=\"1\" class=\"dataframe\">\n",
              "  <thead>\n",
              "    <tr style=\"text-align: right;\">\n",
              "      <th></th>\n",
              "      <th>question1</th>\n",
              "      <th>question2</th>\n",
              "    </tr>\n",
              "  </thead>\n",
              "  <tbody>\n",
              "    <tr>\n",
              "      <th>0</th>\n",
              "      <td>What is the step by step guide to invest in sh...</td>\n",
              "      <td>What is the step by step guide to invest in sh...</td>\n",
              "    </tr>\n",
              "    <tr>\n",
              "      <th>1</th>\n",
              "      <td>What is the story of Kohinoor (Koh-i-Noor) Dia...</td>\n",
              "      <td>What would happen if the Indian government sto...</td>\n",
              "    </tr>\n",
              "    <tr>\n",
              "      <th>2</th>\n",
              "      <td>How can I increase the speed of my internet co...</td>\n",
              "      <td>How can Internet speed be increased by hacking...</td>\n",
              "    </tr>\n",
              "    <tr>\n",
              "      <th>3</th>\n",
              "      <td>Why am I mentally very lonely? How can I solve...</td>\n",
              "      <td>Find the remainder when [math]23^{24}[/math] i...</td>\n",
              "    </tr>\n",
              "    <tr>\n",
              "      <th>4</th>\n",
              "      <td>Which one dissolve in water quikly sugar, salt...</td>\n",
              "      <td>Which fish would survive in salt water?</td>\n",
              "    </tr>\n",
              "  </tbody>\n",
              "</table>\n",
              "</div>\n",
              "      <button class=\"colab-df-convert\" onclick=\"convertToInteractive('df-20b17bb6-3114-4e49-b626-9401da58bf78')\"\n",
              "              title=\"Convert this dataframe to an interactive table.\"\n",
              "              style=\"display:none;\">\n",
              "        \n",
              "  <svg xmlns=\"http://www.w3.org/2000/svg\" height=\"24px\"viewBox=\"0 0 24 24\"\n",
              "       width=\"24px\">\n",
              "    <path d=\"M0 0h24v24H0V0z\" fill=\"none\"/>\n",
              "    <path d=\"M18.56 5.44l.94 2.06.94-2.06 2.06-.94-2.06-.94-.94-2.06-.94 2.06-2.06.94zm-11 1L8.5 8.5l.94-2.06 2.06-.94-2.06-.94L8.5 2.5l-.94 2.06-2.06.94zm10 10l.94 2.06.94-2.06 2.06-.94-2.06-.94-.94-2.06-.94 2.06-2.06.94z\"/><path d=\"M17.41 7.96l-1.37-1.37c-.4-.4-.92-.59-1.43-.59-.52 0-1.04.2-1.43.59L10.3 9.45l-7.72 7.72c-.78.78-.78 2.05 0 2.83L4 21.41c.39.39.9.59 1.41.59.51 0 1.02-.2 1.41-.59l7.78-7.78 2.81-2.81c.8-.78.8-2.07 0-2.86zM5.41 20L4 18.59l7.72-7.72 1.47 1.35L5.41 20z\"/>\n",
              "  </svg>\n",
              "      </button>\n",
              "      \n",
              "  <style>\n",
              "    .colab-df-container {\n",
              "      display:flex;\n",
              "      flex-wrap:wrap;\n",
              "      gap: 12px;\n",
              "    }\n",
              "\n",
              "    .colab-df-convert {\n",
              "      background-color: #E8F0FE;\n",
              "      border: none;\n",
              "      border-radius: 50%;\n",
              "      cursor: pointer;\n",
              "      display: none;\n",
              "      fill: #1967D2;\n",
              "      height: 32px;\n",
              "      padding: 0 0 0 0;\n",
              "      width: 32px;\n",
              "    }\n",
              "\n",
              "    .colab-df-convert:hover {\n",
              "      background-color: #E2EBFA;\n",
              "      box-shadow: 0px 1px 2px rgba(60, 64, 67, 0.3), 0px 1px 3px 1px rgba(60, 64, 67, 0.15);\n",
              "      fill: #174EA6;\n",
              "    }\n",
              "\n",
              "    [theme=dark] .colab-df-convert {\n",
              "      background-color: #3B4455;\n",
              "      fill: #D2E3FC;\n",
              "    }\n",
              "\n",
              "    [theme=dark] .colab-df-convert:hover {\n",
              "      background-color: #434B5C;\n",
              "      box-shadow: 0px 1px 3px 1px rgba(0, 0, 0, 0.15);\n",
              "      filter: drop-shadow(0px 1px 2px rgba(0, 0, 0, 0.3));\n",
              "      fill: #FFFFFF;\n",
              "    }\n",
              "  </style>\n",
              "\n",
              "      <script>\n",
              "        const buttonEl =\n",
              "          document.querySelector('#df-20b17bb6-3114-4e49-b626-9401da58bf78 button.colab-df-convert');\n",
              "        buttonEl.style.display =\n",
              "          google.colab.kernel.accessAllowed ? 'block' : 'none';\n",
              "\n",
              "        async function convertToInteractive(key) {\n",
              "          const element = document.querySelector('#df-20b17bb6-3114-4e49-b626-9401da58bf78');\n",
              "          const dataTable =\n",
              "            await google.colab.kernel.invokeFunction('convertToInteractive',\n",
              "                                                     [key], {});\n",
              "          if (!dataTable) return;\n",
              "\n",
              "          const docLinkHtml = 'Like what you see? Visit the ' +\n",
              "            '<a target=\"_blank\" href=https://colab.research.google.com/notebooks/data_table.ipynb>data table notebook</a>'\n",
              "            + ' to learn more about interactive tables.';\n",
              "          element.innerHTML = '';\n",
              "          dataTable['output_type'] = 'display_data';\n",
              "          await google.colab.output.renderOutput(dataTable, element);\n",
              "          const docLink = document.createElement('div');\n",
              "          docLink.innerHTML = docLinkHtml;\n",
              "          element.appendChild(docLink);\n",
              "        }\n",
              "      </script>\n",
              "    </div>\n",
              "  </div>\n",
              "  "
            ],
            "text/plain": [
              "                                           question1  \\\n",
              "0  What is the step by step guide to invest in sh...   \n",
              "1  What is the story of Kohinoor (Koh-i-Noor) Dia...   \n",
              "2  How can I increase the speed of my internet co...   \n",
              "3  Why am I mentally very lonely? How can I solve...   \n",
              "4  Which one dissolve in water quikly sugar, salt...   \n",
              "\n",
              "                                           question2  \n",
              "0  What is the step by step guide to invest in sh...  \n",
              "1  What would happen if the Indian government sto...  \n",
              "2  How can Internet speed be increased by hacking...  \n",
              "3  Find the remainder when [math]23^{24}[/math] i...  \n",
              "4            Which fish would survive in salt water?  "
            ]
          },
          "metadata": {},
          "execution_count": 16
        }
      ],
      "source": [
        "questions = pd.concat([df_train[['question1', 'question2']], \\\n",
        "                       df_test[['question1', 'question2']]], axis=0).reset_index(drop='index')\n",
        "questions.head()"
      ]
    },
    {
      "cell_type": "code",
      "source": [
        "q_dict = defaultdict(set)\n",
        "for i in range(questions.shape[0]):\n",
        "    q_dict[questions.question1[i]].add(questions.question2[i])\n",
        "    q_dict[questions.question2[i]].add(questions.question1[i])"
      ],
      "metadata": {
        "id": "0aoPIwJyC_3G"
      },
      "execution_count": null,
      "outputs": []
    },
    {
      "cell_type": "code",
      "source": [
        "print(questions.question1[0])\n",
        "q_dict[questions.question1[0]]"
      ],
      "metadata": {
        "colab": {
          "base_uri": "https://localhost:8080/"
        },
        "id": "nEPiz8s-JZyP",
        "outputId": "db1362ab-4a58-45c3-9ba4-e00dce3f797e"
      },
      "execution_count": null,
      "outputs": [
        {
          "output_type": "stream",
          "name": "stdout",
          "text": [
            "What is the step by step guide to invest in share market in india?\n"
          ]
        },
        {
          "output_type": "execute_result",
          "data": {
            "text/plain": [
              "{'What is the step by step guide to invest in share market?'}"
            ]
          },
          "metadata": {},
          "execution_count": 18
        }
      ]
    },
    {
      "cell_type": "code",
      "source": [
        "print(questions.question2[0])\n",
        "q_dict[questions.question2[0]]"
      ],
      "metadata": {
        "colab": {
          "base_uri": "https://localhost:8080/"
        },
        "id": "baZd632BDMHy",
        "outputId": "838071ee-da78-49ec-a5cc-e39f265a8de9"
      },
      "execution_count": null,
      "outputs": [
        {
          "output_type": "stream",
          "name": "stdout",
          "text": [
            "What is the step by step guide to invest in share market?\n"
          ]
        },
        {
          "output_type": "execute_result",
          "data": {
            "text/plain": [
              "{'What is my literal step by step guide (which website, how to open accounts, etc) on how to invest in index-managed ETFs? I live in Canada.',\n",
              " 'What is the step by step guide to invest in share market in india?'}"
            ]
          },
          "metadata": {},
          "execution_count": 19
        }
      ]
    },
    {
      "cell_type": "code",
      "execution_count": null,
      "metadata": {
        "id": "yH3gZ96b26hk"
      },
      "outputs": [],
      "source": [
        "df_train['q1_q2_intersect'] = df_train.apply(q1_q2_intersect, axis=1)\n",
        "df_train['q1_freq'] = df_train.apply(q1_freq, axis=1)\n",
        "df_train['q2_freq'] = df_train.apply(q2_freq, axis=1)\n",
        "\n",
        "df_test['q1_q2_intersect'] = df_test.apply(q1_q2_intersect, axis=1)\n",
        "df_test['q1_freq'] = df_test.apply(q1_freq, axis=1)\n",
        "df_test['q2_freq'] = df_test.apply(q2_freq, axis=1)"
      ]
    },
    {
      "cell_type": "code",
      "execution_count": null,
      "metadata": {
        "colab": {
          "base_uri": "https://localhost:8080/",
          "height": 204
        },
        "id": "bgc_wjdd3ylO",
        "outputId": "27442ae3-677e-4e9f-b3f9-7c6eecc5b95b"
      },
      "outputs": [
        {
          "output_type": "execute_result",
          "data": {
            "text/html": [
              "\n",
              "  <div id=\"df-2c76469b-7830-4892-bb80-fd40348414aa\">\n",
              "    <div class=\"colab-df-container\">\n",
              "      <div>\n",
              "<style scoped>\n",
              "    .dataframe tbody tr th:only-of-type {\n",
              "        vertical-align: middle;\n",
              "    }\n",
              "\n",
              "    .dataframe tbody tr th {\n",
              "        vertical-align: top;\n",
              "    }\n",
              "\n",
              "    .dataframe thead th {\n",
              "        text-align: right;\n",
              "    }\n",
              "</style>\n",
              "<table border=\"1\" class=\"dataframe\">\n",
              "  <thead>\n",
              "    <tr style=\"text-align: right;\">\n",
              "      <th></th>\n",
              "      <th>q1_q2_intersect</th>\n",
              "      <th>q1_freq</th>\n",
              "      <th>q2_freq</th>\n",
              "    </tr>\n",
              "  </thead>\n",
              "  <tbody>\n",
              "    <tr>\n",
              "      <th>0</th>\n",
              "      <td>0</td>\n",
              "      <td>1</td>\n",
              "      <td>2</td>\n",
              "    </tr>\n",
              "    <tr>\n",
              "      <th>1</th>\n",
              "      <td>0</td>\n",
              "      <td>8</td>\n",
              "      <td>3</td>\n",
              "    </tr>\n",
              "    <tr>\n",
              "      <th>2</th>\n",
              "      <td>0</td>\n",
              "      <td>2</td>\n",
              "      <td>1</td>\n",
              "    </tr>\n",
              "    <tr>\n",
              "      <th>3</th>\n",
              "      <td>0</td>\n",
              "      <td>1</td>\n",
              "      <td>1</td>\n",
              "    </tr>\n",
              "    <tr>\n",
              "      <th>4</th>\n",
              "      <td>0</td>\n",
              "      <td>3</td>\n",
              "      <td>1</td>\n",
              "    </tr>\n",
              "  </tbody>\n",
              "</table>\n",
              "</div>\n",
              "      <button class=\"colab-df-convert\" onclick=\"convertToInteractive('df-2c76469b-7830-4892-bb80-fd40348414aa')\"\n",
              "              title=\"Convert this dataframe to an interactive table.\"\n",
              "              style=\"display:none;\">\n",
              "        \n",
              "  <svg xmlns=\"http://www.w3.org/2000/svg\" height=\"24px\"viewBox=\"0 0 24 24\"\n",
              "       width=\"24px\">\n",
              "    <path d=\"M0 0h24v24H0V0z\" fill=\"none\"/>\n",
              "    <path d=\"M18.56 5.44l.94 2.06.94-2.06 2.06-.94-2.06-.94-.94-2.06-.94 2.06-2.06.94zm-11 1L8.5 8.5l.94-2.06 2.06-.94-2.06-.94L8.5 2.5l-.94 2.06-2.06.94zm10 10l.94 2.06.94-2.06 2.06-.94-2.06-.94-.94-2.06-.94 2.06-2.06.94z\"/><path d=\"M17.41 7.96l-1.37-1.37c-.4-.4-.92-.59-1.43-.59-.52 0-1.04.2-1.43.59L10.3 9.45l-7.72 7.72c-.78.78-.78 2.05 0 2.83L4 21.41c.39.39.9.59 1.41.59.51 0 1.02-.2 1.41-.59l7.78-7.78 2.81-2.81c.8-.78.8-2.07 0-2.86zM5.41 20L4 18.59l7.72-7.72 1.47 1.35L5.41 20z\"/>\n",
              "  </svg>\n",
              "      </button>\n",
              "      \n",
              "  <style>\n",
              "    .colab-df-container {\n",
              "      display:flex;\n",
              "      flex-wrap:wrap;\n",
              "      gap: 12px;\n",
              "    }\n",
              "\n",
              "    .colab-df-convert {\n",
              "      background-color: #E8F0FE;\n",
              "      border: none;\n",
              "      border-radius: 50%;\n",
              "      cursor: pointer;\n",
              "      display: none;\n",
              "      fill: #1967D2;\n",
              "      height: 32px;\n",
              "      padding: 0 0 0 0;\n",
              "      width: 32px;\n",
              "    }\n",
              "\n",
              "    .colab-df-convert:hover {\n",
              "      background-color: #E2EBFA;\n",
              "      box-shadow: 0px 1px 2px rgba(60, 64, 67, 0.3), 0px 1px 3px 1px rgba(60, 64, 67, 0.15);\n",
              "      fill: #174EA6;\n",
              "    }\n",
              "\n",
              "    [theme=dark] .colab-df-convert {\n",
              "      background-color: #3B4455;\n",
              "      fill: #D2E3FC;\n",
              "    }\n",
              "\n",
              "    [theme=dark] .colab-df-convert:hover {\n",
              "      background-color: #434B5C;\n",
              "      box-shadow: 0px 1px 3px 1px rgba(0, 0, 0, 0.15);\n",
              "      filter: drop-shadow(0px 1px 2px rgba(0, 0, 0, 0.3));\n",
              "      fill: #FFFFFF;\n",
              "    }\n",
              "  </style>\n",
              "\n",
              "      <script>\n",
              "        const buttonEl =\n",
              "          document.querySelector('#df-2c76469b-7830-4892-bb80-fd40348414aa button.colab-df-convert');\n",
              "        buttonEl.style.display =\n",
              "          google.colab.kernel.accessAllowed ? 'block' : 'none';\n",
              "\n",
              "        async function convertToInteractive(key) {\n",
              "          const element = document.querySelector('#df-2c76469b-7830-4892-bb80-fd40348414aa');\n",
              "          const dataTable =\n",
              "            await google.colab.kernel.invokeFunction('convertToInteractive',\n",
              "                                                     [key], {});\n",
              "          if (!dataTable) return;\n",
              "\n",
              "          const docLinkHtml = 'Like what you see? Visit the ' +\n",
              "            '<a target=\"_blank\" href=https://colab.research.google.com/notebooks/data_table.ipynb>data table notebook</a>'\n",
              "            + ' to learn more about interactive tables.';\n",
              "          element.innerHTML = '';\n",
              "          dataTable['output_type'] = 'display_data';\n",
              "          await google.colab.output.renderOutput(dataTable, element);\n",
              "          const docLink = document.createElement('div');\n",
              "          docLink.innerHTML = docLinkHtml;\n",
              "          element.appendChild(docLink);\n",
              "        }\n",
              "      </script>\n",
              "    </div>\n",
              "  </div>\n",
              "  "
            ],
            "text/plain": [
              "   q1_q2_intersect  q1_freq  q2_freq\n",
              "0                0        1        2\n",
              "1                0        8        3\n",
              "2                0        2        1\n",
              "3                0        1        1\n",
              "4                0        3        1"
            ]
          },
          "metadata": {},
          "execution_count": 21
        }
      ],
      "source": [
        "train_leaks = df_train[['q1_q2_intersect', 'q1_freq', 'q2_freq']]\n",
        "test_leaks = df_test[['q1_q2_intersect', 'q1_freq', 'q2_freq']]\n",
        "train_leaks.head()"
      ]
    },
    {
      "cell_type": "code",
      "execution_count": null,
      "metadata": {
        "id": "qf7BiUae4A67",
        "colab": {
          "base_uri": "https://localhost:8080/"
        },
        "outputId": "6b8aad9f-8249-487a-c6be-4922b3e5c824"
      },
      "outputs": [
        {
          "output_type": "stream",
          "name": "stderr",
          "text": [
            "/usr/local/lib/python3.7/dist-packages/sklearn/base.py:444: UserWarning: X has feature names, but StandardScaler was fitted without feature names\n",
            "  f\"X has feature names, but {self.__class__.__name__} was fitted without\"\n",
            "/usr/local/lib/python3.7/dist-packages/sklearn/base.py:444: UserWarning: X has feature names, but StandardScaler was fitted without feature names\n",
            "  f\"X has feature names, but {self.__class__.__name__} was fitted without\"\n"
          ]
        }
      ],
      "source": [
        "ss = StandardScaler()\n",
        "ss.fit(np.vstack((train_leaks, test_leaks)))\n",
        "train_leaks = ss.transform(train_leaks)\n",
        "test_leaks = ss.transform(test_leaks)"
      ]
    },
    {
      "cell_type": "markdown",
      "metadata": {
        "id": "w44x9PuC4E_-"
      },
      "source": [
        "# Create embedding matrix for embedding layer\n",
        "Создадим матрицу эмбеддингов по нашим словам"
      ]
    },
    {
      "cell_type": "code",
      "execution_count": null,
      "metadata": {
        "colab": {
          "base_uri": "https://localhost:8080/"
        },
        "id": "HGBjtqyj4R3c",
        "outputId": "d6400fa1-c772-46b8-9854-f76e761f88c6"
      },
      "outputs": [
        {
          "output_type": "stream",
          "name": "stdout",
          "text": [
            "Null word embeddings: 68603\n"
          ]
        }
      ],
      "source": [
        "num_words = min(max_num_words, len(word_index))+1\n",
        "embedding_matrix = np.zeros((num_words, embedding_dim))\n",
        "for word, i in word_index.items():\n",
        "    embedding_vector = embeddings_index.get(word)\n",
        "    if embedding_vector is not None:\n",
        "        embedding_matrix[i] = embedding_vector\n",
        "print(f'Null word embeddings: {np.sum(np.sum(embedding_matrix, axis=1) == 0)}')"
      ]
    },
    {
      "cell_type": "markdown",
      "metadata": {
        "id": "ctWXFfiv5BRd"
      },
      "source": [
        "# Train Validation split"
      ]
    },
    {
      "cell_type": "code",
      "source": [
        "perm = np.random.permutation(len(train_data_1))\n",
        "idx_train = perm[:int(len(train_data_1)*(1-validation_split_ratio))]\n",
        "idx_val = perm[int(len(train_data_1)*(1-validation_split_ratio)):]"
      ],
      "metadata": {
        "id": "8HwwUSXiSOJf"
      },
      "execution_count": null,
      "outputs": []
    },
    {
      "cell_type": "code",
      "execution_count": null,
      "metadata": {
        "id": "3X3w6VmA5C1u"
      },
      "outputs": [],
      "source": [
        "data_1_train = np.vstack((train_data_1[idx_train], train_data_2[idx_train]))\n",
        "data_2_train = np.vstack((train_data_2[idx_train], train_data_1[idx_train]))\n",
        "leaks_train = np.vstack((train_leaks[idx_train], train_leaks[idx_train]))\n",
        "labels_train = np.concatenate((train_labels[idx_train], train_labels[idx_train]))\n",
        "\n",
        "data_1_val = np.vstack((train_data_1[idx_val], train_data_2[idx_val]))\n",
        "data_2_val = np.vstack((train_data_2[idx_val], train_data_1[idx_val]))\n",
        "leaks_val = np.vstack((train_leaks[idx_val], train_leaks[idx_val]))\n",
        "labels_val = np.concatenate((train_labels[idx_val], train_labels[idx_val]))"
      ]
    },
    {
      "cell_type": "code",
      "execution_count": null,
      "metadata": {
        "id": "b2TkDr2S5PWl"
      },
      "outputs": [],
      "source": [
        "weight_val = np.ones(len(labels_val))\n",
        "if re_weight:\n",
        "    weight_val *= 0.471544715\n",
        "    weight_val[labels_val==0] = 1.309033281"
      ]
    },
    {
      "cell_type": "code",
      "source": [
        "weight_val"
      ],
      "metadata": {
        "colab": {
          "base_uri": "https://localhost:8080/"
        },
        "id": "yHBWCm5jZFS8",
        "outputId": "087cb6a1-0573-44d5-f47f-18a8a043e50c"
      },
      "execution_count": null,
      "outputs": [
        {
          "output_type": "execute_result",
          "data": {
            "text/plain": [
              "array([1.30903328, 1.30903328, 1.30903328, ..., 0.47154472, 0.47154472,\n",
              "       1.30903328])"
            ]
          },
          "metadata": {},
          "execution_count": 27
        }
      ]
    },
    {
      "cell_type": "markdown",
      "metadata": {
        "id": "um3FjzgG5Qtf"
      },
      "source": [
        "# The embedding layer containing the word vectors\n",
        "Определим архитектуру нейронной сети"
      ]
    },
    {
      "cell_type": "code",
      "execution_count": null,
      "metadata": {
        "colab": {
          "base_uri": "https://localhost:8080/"
        },
        "id": "chH6h3G655D_",
        "outputId": "1091fe1e-46d2-4917-e847-73c399e818ba"
      },
      "outputs": [
        {
          "output_type": "stream",
          "name": "stdout",
          "text": [
            "WARNING:tensorflow:Layer lstm will not use cuDNN kernels since it doesn't meet the criteria. It will use a generic GPU kernel as fallback when running on GPU.\n"
          ]
        }
      ],
      "source": [
        "emb_layer = Embedding(\n",
        "    input_dim=num_words,\n",
        "    output_dim=embedding_dim,\n",
        "    weights=[embedding_matrix],\n",
        "    input_length=max_sequence_length,\n",
        "    trainable=False\n",
        ")    \n",
        "\n",
        "# LSTM layer\n",
        "lstm_layer = LSTM(num_lstm, dropout=rate_drop_lstm, recurrent_dropout=rate_drop_lstm)\n",
        "\n",
        "# Define inputs\n",
        "seq1 = Input(shape=(max_sequence_length,), dtype='int32')\n",
        "seq2 = Input(shape=(max_sequence_length,), dtype='int32')\n",
        "\n",
        "# Run inputs through embedding\n",
        "emb1 = emb_layer(seq1)\n",
        "emb2 = emb_layer(seq2)\n",
        "\n",
        "# Run through LSTM layers\n",
        "lstm_a = lstm_layer(emb1)\n",
        "# glob1a = GlobalAveragePooling1D()(lstm_a)\n",
        "lstm_b = lstm_layer(emb2)\n",
        "# glob1b = GlobalAveragePooling1D()(lstm_b)\n",
        "\n",
        "magic_input = Input(shape=(train_leaks.shape[1],))\n",
        "# magic_dense = BatchNormalization()(magic_input)\n",
        "magic_dense = Dense(int(num_dense/2), activation=act_f)(magic_input)\n",
        "\n",
        "merged = concatenate([lstm_a, lstm_b, magic_dense])\n",
        "merged = BatchNormalization()(merged)\n",
        "merged = Dropout(rate_drop_dense)(merged)\n",
        "\n",
        "merged = Dense(num_dense, activation=act_f)(merged)\n",
        "merged = BatchNormalization()(merged)\n",
        "merged = Dropout(rate_drop_dense)(merged)\n",
        "\n",
        "preds = Dense(1, activation='sigmoid')(merged)"
      ]
    },
    {
      "cell_type": "code",
      "execution_count": null,
      "metadata": {
        "id": "X5xmMGnB562Z"
      },
      "outputs": [],
      "source": [
        "# Add class weight\n",
        "if re_weight:\n",
        "    class_weight = {0: 1.309033281, 1: 0.471544715}\n",
        "else:\n",
        "    class_weight = None"
      ]
    },
    {
      "cell_type": "markdown",
      "metadata": {
        "id": "354B0xeB59RX"
      },
      "source": [
        "# Train the model\n",
        "Проведем обучение модели"
      ]
    },
    {
      "cell_type": "code",
      "execution_count": null,
      "metadata": {
        "id": "t9f_c__n6Qkf"
      },
      "outputs": [],
      "source": [
        "model = Model(inputs=[seq1, seq2, magic_input], outputs=preds)\n",
        "model.compile(loss='binary_crossentropy', optimizer='nadam', metrics=['acc'])"
      ]
    },
    {
      "cell_type": "code",
      "execution_count": null,
      "metadata": {
        "id": "UnsqTfe_60gG"
      },
      "outputs": [],
      "source": [
        "# Set early stopping (large patience should be useful)\n",
        "early_stopping = EarlyStopping(monitor='val_loss', patience=10)\n",
        "bst_model_path = PATH + 'result/' + lstm_name + '.h5'\n",
        "model_checkpoint = ModelCheckpoint(bst_model_path, save_best_only=True, save_weights_only=True)"
      ]
    },
    {
      "cell_type": "code",
      "execution_count": null,
      "metadata": {
        "colab": {
          "base_uri": "https://localhost:8080/"
        },
        "id": "NZ5WIybf7DVm",
        "outputId": "de8c2707-5e80-41e8-de27-579c91aec5fb"
      },
      "outputs": [
        {
          "output_type": "stream",
          "name": "stdout",
          "text": [
            "Epoch 1/200\n",
            "356/356 [==============================] - 187s 501ms/step - loss: 0.2889 - acc: 0.8203 - val_loss: 0.2891 - val_acc: 0.8011\n",
            "Epoch 2/200\n",
            "356/356 [==============================] - 171s 480ms/step - loss: 0.2451 - acc: 0.8342 - val_loss: 0.2327 - val_acc: 0.8368\n",
            "Epoch 3/200\n",
            "356/356 [==============================] - 169s 474ms/step - loss: 0.2339 - acc: 0.8377 - val_loss: 0.2212 - val_acc: 0.8427\n",
            "Epoch 4/200\n",
            "356/356 [==============================] - 169s 473ms/step - loss: 0.2252 - acc: 0.8415 - val_loss: 0.2167 - val_acc: 0.8473\n",
            "Epoch 5/200\n",
            "356/356 [==============================] - 169s 474ms/step - loss: 0.2182 - acc: 0.8448 - val_loss: 0.2140 - val_acc: 0.8477\n",
            "Epoch 6/200\n",
            "356/356 [==============================] - 170s 478ms/step - loss: 0.2129 - acc: 0.8478 - val_loss: 0.2054 - val_acc: 0.8449\n",
            "Epoch 7/200\n",
            "356/356 [==============================] - 167s 470ms/step - loss: 0.2079 - acc: 0.8504 - val_loss: 0.2063 - val_acc: 0.8630\n",
            "Epoch 8/200\n",
            "356/356 [==============================] - 168s 473ms/step - loss: 0.2038 - acc: 0.8533 - val_loss: 0.2017 - val_acc: 0.8571\n",
            "Epoch 9/200\n",
            "356/356 [==============================] - 168s 472ms/step - loss: 0.2003 - acc: 0.8559 - val_loss: 0.2015 - val_acc: 0.8644\n",
            "Epoch 10/200\n",
            "356/356 [==============================] - 168s 473ms/step - loss: 0.1966 - acc: 0.8581 - val_loss: 0.1969 - val_acc: 0.8604\n",
            "Epoch 11/200\n",
            "356/356 [==============================] - 166s 467ms/step - loss: 0.1936 - acc: 0.8598 - val_loss: 0.2022 - val_acc: 0.8712\n",
            "Epoch 12/200\n",
            "356/356 [==============================] - 169s 474ms/step - loss: 0.1907 - acc: 0.8618 - val_loss: 0.1943 - val_acc: 0.8589\n",
            "Epoch 13/200\n",
            "356/356 [==============================] - 167s 468ms/step - loss: 0.1883 - acc: 0.8634 - val_loss: 0.1978 - val_acc: 0.8666\n",
            "Epoch 14/200\n",
            "356/356 [==============================] - 166s 467ms/step - loss: 0.1862 - acc: 0.8655 - val_loss: 0.2009 - val_acc: 0.8731\n",
            "Epoch 15/200\n",
            "356/356 [==============================] - 166s 467ms/step - loss: 0.1832 - acc: 0.8674 - val_loss: 0.1970 - val_acc: 0.8713\n",
            "Epoch 16/200\n",
            "356/356 [==============================] - 166s 468ms/step - loss: 0.1815 - acc: 0.8691 - val_loss: 0.1978 - val_acc: 0.8708\n",
            "Epoch 17/200\n",
            "356/356 [==============================] - 168s 472ms/step - loss: 0.1795 - acc: 0.8701 - val_loss: 0.1928 - val_acc: 0.8699\n",
            "Epoch 18/200\n",
            "356/356 [==============================] - 167s 468ms/step - loss: 0.1773 - acc: 0.8718 - val_loss: 0.1936 - val_acc: 0.8712\n",
            "Epoch 19/200\n",
            "356/356 [==============================] - 166s 467ms/step - loss: 0.1760 - acc: 0.8726 - val_loss: 0.1994 - val_acc: 0.8744\n",
            "Epoch 20/200\n",
            "356/356 [==============================] - 166s 467ms/step - loss: 0.1742 - acc: 0.8742 - val_loss: 0.1971 - val_acc: 0.8723\n",
            "Epoch 21/200\n",
            "356/356 [==============================] - 166s 467ms/step - loss: 0.1727 - acc: 0.8753 - val_loss: 0.1994 - val_acc: 0.8731\n",
            "Epoch 22/200\n",
            "356/356 [==============================] - 167s 468ms/step - loss: 0.1712 - acc: 0.8762 - val_loss: 0.2021 - val_acc: 0.8763\n",
            "Epoch 23/200\n",
            "356/356 [==============================] - 168s 472ms/step - loss: 0.1696 - acc: 0.8778 - val_loss: 0.1900 - val_acc: 0.8689\n",
            "Epoch 24/200\n",
            "356/356 [==============================] - 167s 468ms/step - loss: 0.1685 - acc: 0.8787 - val_loss: 0.1995 - val_acc: 0.8745\n",
            "Epoch 25/200\n",
            "356/356 [==============================] - 166s 468ms/step - loss: 0.1674 - acc: 0.8796 - val_loss: 0.1984 - val_acc: 0.8757\n",
            "Epoch 26/200\n",
            "356/356 [==============================] - 167s 468ms/step - loss: 0.1661 - acc: 0.8804 - val_loss: 0.1962 - val_acc: 0.8749\n",
            "Epoch 27/200\n",
            "356/356 [==============================] - 167s 468ms/step - loss: 0.1652 - acc: 0.8815 - val_loss: 0.1916 - val_acc: 0.8704\n",
            "Epoch 28/200\n",
            "356/356 [==============================] - 166s 468ms/step - loss: 0.1638 - acc: 0.8822 - val_loss: 0.1960 - val_acc: 0.8750\n",
            "Epoch 29/200\n",
            "356/356 [==============================] - 166s 467ms/step - loss: 0.1632 - acc: 0.8830 - val_loss: 0.2009 - val_acc: 0.8766\n",
            "Epoch 30/200\n",
            "356/356 [==============================] - 167s 468ms/step - loss: 0.1619 - acc: 0.8841 - val_loss: 0.1957 - val_acc: 0.8740\n",
            "Epoch 31/200\n",
            "356/356 [==============================] - 166s 467ms/step - loss: 0.1614 - acc: 0.8843 - val_loss: 0.1952 - val_acc: 0.8738\n",
            "Epoch 32/200\n",
            "356/356 [==============================] - 167s 468ms/step - loss: 0.1605 - acc: 0.8848 - val_loss: 0.1969 - val_acc: 0.8744\n",
            "Epoch 33/200\n",
            "356/356 [==============================] - 167s 468ms/step - loss: 0.1598 - acc: 0.8859 - val_loss: 0.1992 - val_acc: 0.8750\n"
          ]
        }
      ],
      "source": [
        "hist = model.fit([data_1_train, data_2_train, leaks_train], labels_train, \\\n",
        "                 validation_data=([data_1_val, data_2_val, leaks_val], labels_val, weight_val), \\\n",
        "                 epochs=200, batch_size=2048, shuffle=True, class_weight=class_weight, \\\n",
        "                 callbacks=[early_stopping, model_checkpoint])"
      ]
    },
    {
      "cell_type": "code",
      "execution_count": null,
      "metadata": {
        "id": "fJoKPsOD7HWV"
      },
      "outputs": [],
      "source": [
        "model.load_weights(bst_model_path)\n",
        "bst_val_score = min(hist.history['val_loss'])"
      ]
    },
    {
      "cell_type": "markdown",
      "metadata": {
        "id": "f79ErzLm7JOg"
      },
      "source": [
        "# Make the submission\n",
        "Сделаем файл с предсказаниями для kaggle"
      ]
    },
    {
      "cell_type": "code",
      "execution_count": null,
      "metadata": {
        "colab": {
          "base_uri": "https://localhost:8080/"
        },
        "id": "_cGt-AsQLC8f",
        "outputId": "8fc80d43-ec75-4afd-c267-a6303cc73617"
      },
      "outputs": [
        {
          "output_type": "stream",
          "name": "stdout",
          "text": [
            "287/287 [==============================] - 133s 461ms/step\n",
            "287/287 [==============================] - 132s 461ms/step\n"
          ]
        }
      ],
      "source": [
        "preds = model.predict([test_data_1, test_data_2, test_leaks], batch_size=8192, verbose=1)\n",
        "preds += model.predict([test_data_2, test_data_1, test_leaks], batch_size=8192, verbose=1)\n",
        "preds /= 2"
      ]
    },
    {
      "cell_type": "code",
      "execution_count": null,
      "metadata": {
        "id": "0pI_be1d7RU2"
      },
      "outputs": [],
      "source": [
        "submission = pd.DataFrame({'test_id': test_ids,\n",
        "                           'is_duplicate': preds.ravel()})\n",
        "submission.to_csv(PATH + f'result/{bst_val_score}_{lstm_name}_with_glove_embedding.csv', index=False)"
      ]
    },
    {
      "cell_type": "markdown",
      "source": [
        "# Conclusion\n",
        "\n",
        "Заключение\n",
        "1. Удалось создать модель, которая предсказывает вероятность дубликата вопроса.\n",
        "2. Ошибка модели в соревновании на kaggle составила: 0.18611 (680 место в Private из 3295, ТОП-20%).\n",
        "3. Модель планируется использовать для предсказания вероятности повтора закупок, используя информацию из назначения платежей.\n",
        "4. Для использования модели реализован сервис, написанный на Flask: [server.py](https://github.com/mukaseevru/skillfactory_rds/blob/master/final/server.py) Запускать можно в докер контейнере."
      ],
      "metadata": {
        "id": "n7uhKcsAonhh"
      }
    }
  ],
  "metadata": {
    "colab": {
      "collapsed_sections": [],
      "machine_shape": "hm",
      "name": "LSTM.ipynb",
      "provenance": [],
      "authorship_tag": "ABX9TyON21wUPy2BIbUTmh55PZAI",
      "include_colab_link": true
    },
    "kernelspec": {
      "display_name": "Python 3",
      "name": "python3"
    },
    "language_info": {
      "name": "python"
    },
    "accelerator": "GPU"
  },
  "nbformat": 4,
  "nbformat_minor": 0
}