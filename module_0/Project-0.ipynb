{
 "cells": [
  {
   "cell_type": "markdown",
   "metadata": {},
   "source": [
    "# Угадай число!"
   ]
  },
  {
   "cell_type": "markdown",
   "metadata": {},
   "source": [
    "#### Импортируем библиотеку Numpy"
   ]
  },
  {
   "cell_type": "code",
   "execution_count": 1,
   "metadata": {},
   "outputs": [],
   "source": [
    "import numpy as np"
   ]
  },
  {
   "cell_type": "markdown",
   "metadata": {},
   "source": [
    "#### Определяем функцию подсчета результата"
   ]
  },
  {
   "cell_type": "code",
   "execution_count": 2,
   "metadata": {},
   "outputs": [],
   "source": [
    "def game_score(game_core):\n",
    "    '''Запускаем игру 1000 раз, чтобы узнать, как быстро игра угадывает число\n",
    "    Функция принимает функцию, которая реализует игру.\n",
    "    Функция возвращает среднее количествово попыток.\n",
    "    '''\n",
    "    count_list = []\n",
    "    np.random.seed(42)  # фиксируем RANDOM SEED, чтобы эксперимент был воспроизводим\n",
    "    random_numbers = np.random.randint(1,101, size=(1000))\n",
    "    \n",
    "    for number in random_numbers:\n",
    "        count_list.append(game_core(number))\n",
    "    score = int(np.mean(count_list))\n",
    "    \n",
    "    return(score)"
   ]
  },
  {
   "cell_type": "markdown",
   "metadata": {},
   "source": [
    "#### Определяем функцию игры"
   ]
  },
  {
   "cell_type": "code",
   "execution_count": 3,
   "metadata": {},
   "outputs": [],
   "source": [
    "def game_core(number):\n",
    "    '''Устанавливаем минимальное и максимальное возможное значение.\n",
    "    На каждом этапе уменьшаем диапазон в 2 раза с учетом ответа больше/меньше.\n",
    "    Функция принимает загаданное число и возвращает число попыток.\n",
    "    '''\n",
    "    count = 1\n",
    "    min_value = 1\n",
    "    max_value = 100\n",
    "    predict = 50\n",
    "    \n",
    "    while predict != number:\n",
    "        if number > predict:\n",
    "            min_value = predict + 1\n",
    "        elif number < predict:\n",
    "            max_value = predict - 1\n",
    "        count += 1\n",
    "        predict = (min_value+max_value) // 2\n",
    "\n",
    "    return(count)"
   ]
  },
  {
   "cell_type": "code",
   "execution_count": 4,
   "metadata": {},
   "outputs": [
    {
     "name": "stdout",
     "output_type": "stream",
     "text": [
      "Алгоритм угадывает число в среднем за 5 попыток\n"
     ]
    }
   ],
   "source": [
    "# Проверяем\n",
    "print('Алгоритм угадывает число в среднем за {} попыток'.format(game_score(game_core)))"
   ]
  },
  {
   "cell_type": "code",
   "execution_count": null,
   "metadata": {},
   "outputs": [],
   "source": []
  }
 ],
 "metadata": {
  "kernelspec": {
   "display_name": "Python 3",
   "language": "python",
   "name": "python3"
  },
  "language_info": {
   "codemirror_mode": {
    "name": "ipython",
    "version": 3
   },
   "file_extension": ".py",
   "mimetype": "text/x-python",
   "name": "python",
   "nbconvert_exporter": "python",
   "pygments_lexer": "ipython3",
   "version": "3.7.7"
  }
 },
 "nbformat": 4,
 "nbformat_minor": 4
}
