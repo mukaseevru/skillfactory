{
 "cells": [
  {
   "cell_type": "code",
   "execution_count": 1,
   "metadata": {
    "_cell_guid": "b1076dfc-b9ad-4769-8c92-a6c4dae69d19",
    "_uuid": "8f2839f25d086af736a60e9eeb907d3b93b6e0e5",
    "colab": {},
    "colab_type": "code",
    "id": "U2D2gTdJVp90"
   },
   "outputs": [],
   "source": [
    "import numpy as np\n",
    "import pandas as pd\n",
    "from collections import Counter\n",
    "import datetime\n",
    "import itertools"
   ]
  },
  {
   "cell_type": "code",
   "execution_count": 2,
   "metadata": {
    "_cell_guid": "79c7e3d0-c299-4dcb-8224-4455121ee9b0",
    "_uuid": "d629ff2d2480ee46fbb7e2d37f6b5fab8052498a",
    "colab": {},
    "colab_type": "code",
    "id": "oyGfxL3eVp9-"
   },
   "outputs": [
    {
     "data": {
      "text/html": [
       "<div>\n",
       "<style scoped>\n",
       "    .dataframe tbody tr th:only-of-type {\n",
       "        vertical-align: middle;\n",
       "    }\n",
       "\n",
       "    .dataframe tbody tr th {\n",
       "        vertical-align: top;\n",
       "    }\n",
       "\n",
       "    .dataframe thead th {\n",
       "        text-align: right;\n",
       "    }\n",
       "</style>\n",
       "<table border=\"1\" class=\"dataframe\">\n",
       "  <thead>\n",
       "    <tr style=\"text-align: right;\">\n",
       "      <th></th>\n",
       "      <th>imdb_id</th>\n",
       "      <th>budget</th>\n",
       "      <th>revenue</th>\n",
       "      <th>original_title</th>\n",
       "      <th>cast</th>\n",
       "      <th>director</th>\n",
       "      <th>tagline</th>\n",
       "      <th>overview</th>\n",
       "      <th>runtime</th>\n",
       "      <th>genres</th>\n",
       "      <th>production_companies</th>\n",
       "      <th>release_date</th>\n",
       "      <th>vote_average</th>\n",
       "      <th>release_year</th>\n",
       "    </tr>\n",
       "  </thead>\n",
       "  <tbody>\n",
       "    <tr>\n",
       "      <th>424</th>\n",
       "      <td>tt1438254</td>\n",
       "      <td>44000000</td>\n",
       "      <td>48190704</td>\n",
       "      <td>Charlie St. Cloud</td>\n",
       "      <td>Zac Efron|Amanda Crew|Kim Basinger|Chris Masso...</td>\n",
       "      <td>Burr Steers</td>\n",
       "      <td>Life is for living</td>\n",
       "      <td>Accomplished sailor Charlie St. Cloud has the ...</td>\n",
       "      <td>99</td>\n",
       "      <td>Drama</td>\n",
       "      <td>Universal Pictures|Marc Platt Productions|Rela...</td>\n",
       "      <td>5/1/2010</td>\n",
       "      <td>6.8</td>\n",
       "      <td>2010</td>\n",
       "    </tr>\n",
       "    <tr>\n",
       "      <th>723</th>\n",
       "      <td>tt1298650</td>\n",
       "      <td>380000000</td>\n",
       "      <td>1021683000</td>\n",
       "      <td>Pirates of the Caribbean: On Stranger Tides</td>\n",
       "      <td>Johnny Depp|PenÃ©lope Cruz|Geoffrey Rush|Ian M...</td>\n",
       "      <td>Rob Marshall</td>\n",
       "      <td>Live Forever Or Die Trying.</td>\n",
       "      <td>Captain Jack Sparrow crosses paths with a woma...</td>\n",
       "      <td>136</td>\n",
       "      <td>Adventure|Action|Fantasy</td>\n",
       "      <td>Walt Disney Pictures|Jerry Bruckheimer Films|M...</td>\n",
       "      <td>5/11/2011</td>\n",
       "      <td>6.3</td>\n",
       "      <td>2011</td>\n",
       "    </tr>\n",
       "    <tr>\n",
       "      <th>713</th>\n",
       "      <td>tt1027862</td>\n",
       "      <td>21000000</td>\n",
       "      <td>17600000</td>\n",
       "      <td>Swing Vote</td>\n",
       "      <td>Kevin Costner|Madeline Carroll|Paula Patton|Ke...</td>\n",
       "      <td>Joshua Michael Stern</td>\n",
       "      <td>One ordinary guy is giving the candidates a re...</td>\n",
       "      <td>In a remarkable turn of events, the result of ...</td>\n",
       "      <td>120</td>\n",
       "      <td>Drama|Comedy</td>\n",
       "      <td>Touchstone Pictures</td>\n",
       "      <td>8/1/2008</td>\n",
       "      <td>5.7</td>\n",
       "      <td>2008</td>\n",
       "    </tr>\n",
       "    <tr>\n",
       "      <th>1256</th>\n",
       "      <td>tt1517260</td>\n",
       "      <td>44000000</td>\n",
       "      <td>63327201</td>\n",
       "      <td>The Host</td>\n",
       "      <td>Saoirse Ronan|Diane Kruger|Jake Abel|William H...</td>\n",
       "      <td>Andrew Niccol</td>\n",
       "      <td>You will be one of us</td>\n",
       "      <td>A parasitic alien soul is injected into the bo...</td>\n",
       "      <td>125</td>\n",
       "      <td>Action|Adventure|Romance|Science Fiction|Thriller</td>\n",
       "      <td>Nick Wechsler Productions|Open Road Films|Silv...</td>\n",
       "      <td>3/22/2013</td>\n",
       "      <td>6.0</td>\n",
       "      <td>2013</td>\n",
       "    </tr>\n",
       "    <tr>\n",
       "      <th>1705</th>\n",
       "      <td>tt0472062</td>\n",
       "      <td>75000000</td>\n",
       "      <td>119000410</td>\n",
       "      <td>Charlie Wilson's War</td>\n",
       "      <td>Tom Hanks|Philip Seymour Hoffman|Julia Roberts...</td>\n",
       "      <td>Mike Nichols</td>\n",
       "      <td>Based on a true story. You think we could make...</td>\n",
       "      <td>The true story of Texas congressman Charlie Wi...</td>\n",
       "      <td>102</td>\n",
       "      <td>Comedy|Drama|History</td>\n",
       "      <td>Universal Pictures|Participant Productions|Pla...</td>\n",
       "      <td>12/19/2007</td>\n",
       "      <td>6.3</td>\n",
       "      <td>2007</td>\n",
       "    </tr>\n",
       "  </tbody>\n",
       "</table>\n",
       "</div>"
      ],
      "text/plain": [
       "        imdb_id     budget     revenue  \\\n",
       "424   tt1438254   44000000    48190704   \n",
       "723   tt1298650  380000000  1021683000   \n",
       "713   tt1027862   21000000    17600000   \n",
       "1256  tt1517260   44000000    63327201   \n",
       "1705  tt0472062   75000000   119000410   \n",
       "\n",
       "                                   original_title  \\\n",
       "424                             Charlie St. Cloud   \n",
       "723   Pirates of the Caribbean: On Stranger Tides   \n",
       "713                                    Swing Vote   \n",
       "1256                                     The Host   \n",
       "1705                         Charlie Wilson's War   \n",
       "\n",
       "                                                   cast              director  \\\n",
       "424   Zac Efron|Amanda Crew|Kim Basinger|Chris Masso...           Burr Steers   \n",
       "723   Johnny Depp|PenÃ©lope Cruz|Geoffrey Rush|Ian M...          Rob Marshall   \n",
       "713   Kevin Costner|Madeline Carroll|Paula Patton|Ke...  Joshua Michael Stern   \n",
       "1256  Saoirse Ronan|Diane Kruger|Jake Abel|William H...         Andrew Niccol   \n",
       "1705  Tom Hanks|Philip Seymour Hoffman|Julia Roberts...          Mike Nichols   \n",
       "\n",
       "                                                tagline  \\\n",
       "424                                  Life is for living   \n",
       "723                         Live Forever Or Die Trying.   \n",
       "713   One ordinary guy is giving the candidates a re...   \n",
       "1256                              You will be one of us   \n",
       "1705  Based on a true story. You think we could make...   \n",
       "\n",
       "                                               overview  runtime  \\\n",
       "424   Accomplished sailor Charlie St. Cloud has the ...       99   \n",
       "723   Captain Jack Sparrow crosses paths with a woma...      136   \n",
       "713   In a remarkable turn of events, the result of ...      120   \n",
       "1256  A parasitic alien soul is injected into the bo...      125   \n",
       "1705  The true story of Texas congressman Charlie Wi...      102   \n",
       "\n",
       "                                                 genres  \\\n",
       "424                                               Drama   \n",
       "723                            Adventure|Action|Fantasy   \n",
       "713                                        Drama|Comedy   \n",
       "1256  Action|Adventure|Romance|Science Fiction|Thriller   \n",
       "1705                               Comedy|Drama|History   \n",
       "\n",
       "                                   production_companies release_date  \\\n",
       "424   Universal Pictures|Marc Platt Productions|Rela...     5/1/2010   \n",
       "723   Walt Disney Pictures|Jerry Bruckheimer Films|M...    5/11/2011   \n",
       "713                                 Touchstone Pictures     8/1/2008   \n",
       "1256  Nick Wechsler Productions|Open Road Films|Silv...    3/22/2013   \n",
       "1705  Universal Pictures|Participant Productions|Pla...   12/19/2007   \n",
       "\n",
       "      vote_average  release_year  \n",
       "424            6.8          2010  \n",
       "723            6.3          2011  \n",
       "713            5.7          2008  \n",
       "1256           6.0          2013  \n",
       "1705           6.3          2007  "
      ]
     },
     "execution_count": 2,
     "metadata": {},
     "output_type": "execute_result"
    }
   ],
   "source": [
    "data = pd.read_csv('movie_bd_v5.csv')\n",
    "data.sample(5)"
   ]
  },
  {
   "cell_type": "code",
   "execution_count": 3,
   "metadata": {
    "colab": {},
    "colab_type": "code",
    "id": "CoYUnagMVp-C"
   },
   "outputs": [
    {
     "data": {
      "text/html": [
       "<div>\n",
       "<style scoped>\n",
       "    .dataframe tbody tr th:only-of-type {\n",
       "        vertical-align: middle;\n",
       "    }\n",
       "\n",
       "    .dataframe tbody tr th {\n",
       "        vertical-align: top;\n",
       "    }\n",
       "\n",
       "    .dataframe thead th {\n",
       "        text-align: right;\n",
       "    }\n",
       "</style>\n",
       "<table border=\"1\" class=\"dataframe\">\n",
       "  <thead>\n",
       "    <tr style=\"text-align: right;\">\n",
       "      <th></th>\n",
       "      <th>budget</th>\n",
       "      <th>revenue</th>\n",
       "      <th>runtime</th>\n",
       "      <th>vote_average</th>\n",
       "      <th>release_year</th>\n",
       "    </tr>\n",
       "  </thead>\n",
       "  <tbody>\n",
       "    <tr>\n",
       "      <th>count</th>\n",
       "      <td>1.889000e+03</td>\n",
       "      <td>1.889000e+03</td>\n",
       "      <td>1889.000000</td>\n",
       "      <td>1889.000000</td>\n",
       "      <td>1889.000000</td>\n",
       "    </tr>\n",
       "    <tr>\n",
       "      <th>mean</th>\n",
       "      <td>5.431083e+07</td>\n",
       "      <td>1.553653e+08</td>\n",
       "      <td>109.658549</td>\n",
       "      <td>6.140762</td>\n",
       "      <td>2007.860773</td>\n",
       "    </tr>\n",
       "    <tr>\n",
       "      <th>std</th>\n",
       "      <td>4.858721e+07</td>\n",
       "      <td>2.146698e+08</td>\n",
       "      <td>18.017041</td>\n",
       "      <td>0.764763</td>\n",
       "      <td>4.468841</td>\n",
       "    </tr>\n",
       "    <tr>\n",
       "      <th>min</th>\n",
       "      <td>5.000000e+06</td>\n",
       "      <td>2.033165e+06</td>\n",
       "      <td>63.000000</td>\n",
       "      <td>3.300000</td>\n",
       "      <td>2000.000000</td>\n",
       "    </tr>\n",
       "    <tr>\n",
       "      <th>25%</th>\n",
       "      <td>2.000000e+07</td>\n",
       "      <td>3.456058e+07</td>\n",
       "      <td>97.000000</td>\n",
       "      <td>5.600000</td>\n",
       "      <td>2004.000000</td>\n",
       "    </tr>\n",
       "    <tr>\n",
       "      <th>50%</th>\n",
       "      <td>3.800000e+07</td>\n",
       "      <td>8.361541e+07</td>\n",
       "      <td>107.000000</td>\n",
       "      <td>6.100000</td>\n",
       "      <td>2008.000000</td>\n",
       "    </tr>\n",
       "    <tr>\n",
       "      <th>75%</th>\n",
       "      <td>7.200000e+07</td>\n",
       "      <td>1.782626e+08</td>\n",
       "      <td>120.000000</td>\n",
       "      <td>6.600000</td>\n",
       "      <td>2012.000000</td>\n",
       "    </tr>\n",
       "    <tr>\n",
       "      <th>max</th>\n",
       "      <td>3.800000e+08</td>\n",
       "      <td>2.781506e+09</td>\n",
       "      <td>214.000000</td>\n",
       "      <td>8.100000</td>\n",
       "      <td>2015.000000</td>\n",
       "    </tr>\n",
       "  </tbody>\n",
       "</table>\n",
       "</div>"
      ],
      "text/plain": [
       "             budget       revenue      runtime  vote_average  release_year\n",
       "count  1.889000e+03  1.889000e+03  1889.000000   1889.000000   1889.000000\n",
       "mean   5.431083e+07  1.553653e+08   109.658549      6.140762   2007.860773\n",
       "std    4.858721e+07  2.146698e+08    18.017041      0.764763      4.468841\n",
       "min    5.000000e+06  2.033165e+06    63.000000      3.300000   2000.000000\n",
       "25%    2.000000e+07  3.456058e+07    97.000000      5.600000   2004.000000\n",
       "50%    3.800000e+07  8.361541e+07   107.000000      6.100000   2008.000000\n",
       "75%    7.200000e+07  1.782626e+08   120.000000      6.600000   2012.000000\n",
       "max    3.800000e+08  2.781506e+09   214.000000      8.100000   2015.000000"
      ]
     },
     "execution_count": 3,
     "metadata": {},
     "output_type": "execute_result"
    }
   ],
   "source": [
    "data.describe()"
   ]
  },
  {
   "cell_type": "code",
   "execution_count": 4,
   "metadata": {},
   "outputs": [
    {
     "name": "stdout",
     "output_type": "stream",
     "text": [
      "<class 'pandas.core.frame.DataFrame'>\n",
      "RangeIndex: 1889 entries, 0 to 1888\n",
      "Data columns (total 14 columns):\n",
      " #   Column                Non-Null Count  Dtype  \n",
      "---  ------                --------------  -----  \n",
      " 0   imdb_id               1889 non-null   object \n",
      " 1   budget                1889 non-null   int64  \n",
      " 2   revenue               1889 non-null   int64  \n",
      " 3   original_title        1889 non-null   object \n",
      " 4   cast                  1889 non-null   object \n",
      " 5   director              1889 non-null   object \n",
      " 6   tagline               1889 non-null   object \n",
      " 7   overview              1889 non-null   object \n",
      " 8   runtime               1889 non-null   int64  \n",
      " 9   genres                1889 non-null   object \n",
      " 10  production_companies  1889 non-null   object \n",
      " 11  release_date          1889 non-null   object \n",
      " 12  vote_average          1889 non-null   float64\n",
      " 13  release_year          1889 non-null   int64  \n",
      "dtypes: float64(1), int64(4), object(9)\n",
      "memory usage: 206.7+ KB\n"
     ]
    }
   ],
   "source": [
    "data.info()"
   ]
  },
  {
   "cell_type": "markdown",
   "metadata": {
    "colab_type": "text",
    "id": "DTIt7ezGVp-G"
   },
   "source": [
    "# Предобработка"
   ]
  },
  {
   "cell_type": "code",
   "execution_count": 5,
   "metadata": {
    "colab": {},
    "colab_type": "code",
    "id": "jNb40DwKVp-H"
   },
   "outputs": [],
   "source": [
    "answers = {} # создадим словарь для ответов\n",
    "\n",
    "# тут другие ваши предобработки колонок например:\n",
    "# создание столбца profit (прибыль)\n",
    "data['profit'] = data['revenue'] - data['budget']\n",
    "\n",
    "#the time given in the dataset is in string format.\n",
    "#So we need to change this in datetime format\n",
    "data['release_date'] = data.release_date.apply(lambda x:datetime.datetime.strptime(x, \"%m/%d/%Y\"))\n",
    "# создание столбца month (месяц выхода фильма)\n",
    "data['month'] = data.release_date.apply(lambda x: datetime.datetime.strftime(x, '%m'))\n",
    "# создание столбца len_overview (количество символов в описании фильма)\n",
    "data['len_overview'] = [len(x) for x in data.overview.str.split()]\n",
    "# создание столбца cast_list (список актеров)\n",
    "data['cast_list'] = data.cast.apply(lambda x: x.split('|'))"
   ]
  },
  {
   "cell_type": "markdown",
   "metadata": {
    "colab_type": "text",
    "id": "YxZaH-nPVp-L"
   },
   "source": [
    "# 1. У какого фильма из списка самый большой бюджет?"
   ]
  },
  {
   "cell_type": "markdown",
   "metadata": {
    "colab_type": "text",
    "id": "Nd-G5gX6Vp-M"
   },
   "source": [
    "Использовать варианты ответов в коде решения запрещено.    \n",
    "Вы думаете и в жизни у вас будут варианты ответов?)"
   ]
  },
  {
   "cell_type": "code",
   "execution_count": 6,
   "metadata": {
    "colab": {},
    "colab_type": "code",
    "id": "uVnXAY5RVp-O"
   },
   "outputs": [],
   "source": [
    "# в словарь вставляем номер вопроса и ваш ответ на него\n",
    "# Пример: \n",
    "# answers['1'] = '2. Spider-Man 3 (tt0413300)'\n",
    "\n",
    "# запишите свой вариант ответа\n",
    "answers['1'] = '1. Pirates of the Caribbean: On Stranger Tides (tt1298650)'\n",
    "# если ответили верно, можете добавить комментарий со значком \"+\"\n",
    "# +"
   ]
  },
  {
   "cell_type": "code",
   "execution_count": 7,
   "metadata": {
    "colab": {},
    "colab_type": "code",
    "id": "dZwb3m28Vp-S"
   },
   "outputs": [
    {
     "data": {
      "text/html": [
       "<div>\n",
       "<style scoped>\n",
       "    .dataframe tbody tr th:only-of-type {\n",
       "        vertical-align: middle;\n",
       "    }\n",
       "\n",
       "    .dataframe tbody tr th {\n",
       "        vertical-align: top;\n",
       "    }\n",
       "\n",
       "    .dataframe thead th {\n",
       "        text-align: right;\n",
       "    }\n",
       "</style>\n",
       "<table border=\"1\" class=\"dataframe\">\n",
       "  <thead>\n",
       "    <tr style=\"text-align: right;\">\n",
       "      <th></th>\n",
       "      <th>imdb_id</th>\n",
       "      <th>budget</th>\n",
       "      <th>revenue</th>\n",
       "      <th>original_title</th>\n",
       "      <th>cast</th>\n",
       "      <th>director</th>\n",
       "      <th>tagline</th>\n",
       "      <th>overview</th>\n",
       "      <th>runtime</th>\n",
       "      <th>genres</th>\n",
       "      <th>production_companies</th>\n",
       "      <th>release_date</th>\n",
       "      <th>vote_average</th>\n",
       "      <th>release_year</th>\n",
       "      <th>profit</th>\n",
       "      <th>month</th>\n",
       "      <th>len_overview</th>\n",
       "      <th>cast_list</th>\n",
       "    </tr>\n",
       "  </thead>\n",
       "  <tbody>\n",
       "    <tr>\n",
       "      <th>723</th>\n",
       "      <td>tt1298650</td>\n",
       "      <td>380000000</td>\n",
       "      <td>1021683000</td>\n",
       "      <td>Pirates of the Caribbean: On Stranger Tides</td>\n",
       "      <td>Johnny Depp|PenÃ©lope Cruz|Geoffrey Rush|Ian M...</td>\n",
       "      <td>Rob Marshall</td>\n",
       "      <td>Live Forever Or Die Trying.</td>\n",
       "      <td>Captain Jack Sparrow crosses paths with a woma...</td>\n",
       "      <td>136</td>\n",
       "      <td>Adventure|Action|Fantasy</td>\n",
       "      <td>Walt Disney Pictures|Jerry Bruckheimer Films|M...</td>\n",
       "      <td>2011-05-11</td>\n",
       "      <td>6.3</td>\n",
       "      <td>2011</td>\n",
       "      <td>641683000</td>\n",
       "      <td>05</td>\n",
       "      <td>75</td>\n",
       "      <td>[Johnny Depp, PenÃ©lope Cruz, Geoffrey Rush, I...</td>\n",
       "    </tr>\n",
       "  </tbody>\n",
       "</table>\n",
       "</div>"
      ],
      "text/plain": [
       "       imdb_id     budget     revenue  \\\n",
       "723  tt1298650  380000000  1021683000   \n",
       "\n",
       "                                  original_title  \\\n",
       "723  Pirates of the Caribbean: On Stranger Tides   \n",
       "\n",
       "                                                  cast      director  \\\n",
       "723  Johnny Depp|PenÃ©lope Cruz|Geoffrey Rush|Ian M...  Rob Marshall   \n",
       "\n",
       "                         tagline  \\\n",
       "723  Live Forever Or Die Trying.   \n",
       "\n",
       "                                              overview  runtime  \\\n",
       "723  Captain Jack Sparrow crosses paths with a woma...      136   \n",
       "\n",
       "                       genres  \\\n",
       "723  Adventure|Action|Fantasy   \n",
       "\n",
       "                                  production_companies release_date  \\\n",
       "723  Walt Disney Pictures|Jerry Bruckheimer Films|M...   2011-05-11   \n",
       "\n",
       "     vote_average  release_year     profit month  len_overview  \\\n",
       "723           6.3          2011  641683000    05            75   \n",
       "\n",
       "                                             cast_list  \n",
       "723  [Johnny Depp, PenÃ©lope Cruz, Geoffrey Rush, I...  "
      ]
     },
     "execution_count": 7,
     "metadata": {},
     "output_type": "execute_result"
    }
   ],
   "source": [
    "# тут пишем ваш код для решения данного вопроса:\n",
    "data[data.budget == data.budget.max()]"
   ]
  },
  {
   "cell_type": "markdown",
   "metadata": {
    "colab_type": "text",
    "id": "K7L3nbRXVp-X"
   },
   "source": [
    "ВАРИАНТ 2"
   ]
  },
  {
   "cell_type": "code",
   "execution_count": 8,
   "metadata": {
    "colab": {},
    "colab_type": "code",
    "id": "OGaoQI7rVp-X"
   },
   "outputs": [
    {
     "data": {
      "text/html": [
       "<div>\n",
       "<style scoped>\n",
       "    .dataframe tbody tr th:only-of-type {\n",
       "        vertical-align: middle;\n",
       "    }\n",
       "\n",
       "    .dataframe tbody tr th {\n",
       "        vertical-align: top;\n",
       "    }\n",
       "\n",
       "    .dataframe thead th {\n",
       "        text-align: right;\n",
       "    }\n",
       "</style>\n",
       "<table border=\"1\" class=\"dataframe\">\n",
       "  <thead>\n",
       "    <tr style=\"text-align: right;\">\n",
       "      <th></th>\n",
       "      <th>imdb_id</th>\n",
       "      <th>budget</th>\n",
       "      <th>revenue</th>\n",
       "      <th>original_title</th>\n",
       "      <th>cast</th>\n",
       "      <th>director</th>\n",
       "      <th>tagline</th>\n",
       "      <th>overview</th>\n",
       "      <th>runtime</th>\n",
       "      <th>genres</th>\n",
       "      <th>production_companies</th>\n",
       "      <th>release_date</th>\n",
       "      <th>vote_average</th>\n",
       "      <th>release_year</th>\n",
       "      <th>profit</th>\n",
       "      <th>month</th>\n",
       "      <th>len_overview</th>\n",
       "      <th>cast_list</th>\n",
       "    </tr>\n",
       "  </thead>\n",
       "  <tbody>\n",
       "    <tr>\n",
       "      <th>723</th>\n",
       "      <td>tt1298650</td>\n",
       "      <td>380000000</td>\n",
       "      <td>1021683000</td>\n",
       "      <td>Pirates of the Caribbean: On Stranger Tides</td>\n",
       "      <td>Johnny Depp|PenÃ©lope Cruz|Geoffrey Rush|Ian M...</td>\n",
       "      <td>Rob Marshall</td>\n",
       "      <td>Live Forever Or Die Trying.</td>\n",
       "      <td>Captain Jack Sparrow crosses paths with a woma...</td>\n",
       "      <td>136</td>\n",
       "      <td>Adventure|Action|Fantasy</td>\n",
       "      <td>Walt Disney Pictures|Jerry Bruckheimer Films|M...</td>\n",
       "      <td>2011-05-11</td>\n",
       "      <td>6.3</td>\n",
       "      <td>2011</td>\n",
       "      <td>641683000</td>\n",
       "      <td>05</td>\n",
       "      <td>75</td>\n",
       "      <td>[Johnny Depp, PenÃ©lope Cruz, Geoffrey Rush, I...</td>\n",
       "    </tr>\n",
       "  </tbody>\n",
       "</table>\n",
       "</div>"
      ],
      "text/plain": [
       "       imdb_id     budget     revenue  \\\n",
       "723  tt1298650  380000000  1021683000   \n",
       "\n",
       "                                  original_title  \\\n",
       "723  Pirates of the Caribbean: On Stranger Tides   \n",
       "\n",
       "                                                  cast      director  \\\n",
       "723  Johnny Depp|PenÃ©lope Cruz|Geoffrey Rush|Ian M...  Rob Marshall   \n",
       "\n",
       "                         tagline  \\\n",
       "723  Live Forever Or Die Trying.   \n",
       "\n",
       "                                              overview  runtime  \\\n",
       "723  Captain Jack Sparrow crosses paths with a woma...      136   \n",
       "\n",
       "                       genres  \\\n",
       "723  Adventure|Action|Fantasy   \n",
       "\n",
       "                                  production_companies release_date  \\\n",
       "723  Walt Disney Pictures|Jerry Bruckheimer Films|M...   2011-05-11   \n",
       "\n",
       "     vote_average  release_year     profit month  len_overview  \\\n",
       "723           6.3          2011  641683000    05            75   \n",
       "\n",
       "                                             cast_list  \n",
       "723  [Johnny Depp, PenÃ©lope Cruz, Geoffrey Rush, I...  "
      ]
     },
     "execution_count": 8,
     "metadata": {},
     "output_type": "execute_result"
    }
   ],
   "source": [
    "# можно добавлять разные варианты решения\n",
    "data.sort_values(by='budget', ascending=False).head(1)"
   ]
  },
  {
   "cell_type": "markdown",
   "metadata": {
    "colab_type": "text",
    "id": "FNRbbI3vVp-c"
   },
   "source": [
    "# 2. Какой из фильмов самый длительный (в минутах)?"
   ]
  },
  {
   "cell_type": "code",
   "execution_count": 9,
   "metadata": {
    "colab": {},
    "colab_type": "code",
    "id": "vHAoEXNTVp-d"
   },
   "outputs": [],
   "source": [
    "# думаю логику работы с этим словарем вы уже поняли, \n",
    "# по этому не буду больше его дублировать\n",
    "answers['2'] = '2. Gods and Generals (tt0279111)'\n",
    "# +"
   ]
  },
  {
   "cell_type": "code",
   "execution_count": 10,
   "metadata": {
    "colab": {},
    "colab_type": "code",
    "id": "ot-VX2XrVp-g"
   },
   "outputs": [
    {
     "data": {
      "text/html": [
       "<div>\n",
       "<style scoped>\n",
       "    .dataframe tbody tr th:only-of-type {\n",
       "        vertical-align: middle;\n",
       "    }\n",
       "\n",
       "    .dataframe tbody tr th {\n",
       "        vertical-align: top;\n",
       "    }\n",
       "\n",
       "    .dataframe thead th {\n",
       "        text-align: right;\n",
       "    }\n",
       "</style>\n",
       "<table border=\"1\" class=\"dataframe\">\n",
       "  <thead>\n",
       "    <tr style=\"text-align: right;\">\n",
       "      <th></th>\n",
       "      <th>imdb_id</th>\n",
       "      <th>budget</th>\n",
       "      <th>revenue</th>\n",
       "      <th>original_title</th>\n",
       "      <th>cast</th>\n",
       "      <th>director</th>\n",
       "      <th>tagline</th>\n",
       "      <th>overview</th>\n",
       "      <th>runtime</th>\n",
       "      <th>genres</th>\n",
       "      <th>production_companies</th>\n",
       "      <th>release_date</th>\n",
       "      <th>vote_average</th>\n",
       "      <th>release_year</th>\n",
       "      <th>profit</th>\n",
       "      <th>month</th>\n",
       "      <th>len_overview</th>\n",
       "      <th>cast_list</th>\n",
       "    </tr>\n",
       "  </thead>\n",
       "  <tbody>\n",
       "    <tr>\n",
       "      <th>1157</th>\n",
       "      <td>tt0279111</td>\n",
       "      <td>56000000</td>\n",
       "      <td>12923936</td>\n",
       "      <td>Gods and Generals</td>\n",
       "      <td>Stephen Lang|Jeff Daniels|Robert Duvall|Kevin ...</td>\n",
       "      <td>Ronald F. Maxwell</td>\n",
       "      <td>The nations heart was touched by...</td>\n",
       "      <td>The film centers mostly around the personal an...</td>\n",
       "      <td>214</td>\n",
       "      <td>Drama|History|War</td>\n",
       "      <td>Turner Pictures|Antietam Filmworks</td>\n",
       "      <td>2003-02-21</td>\n",
       "      <td>5.8</td>\n",
       "      <td>2003</td>\n",
       "      <td>-43076064</td>\n",
       "      <td>02</td>\n",
       "      <td>48</td>\n",
       "      <td>[Stephen Lang, Jeff Daniels, Robert Duvall, Ke...</td>\n",
       "    </tr>\n",
       "  </tbody>\n",
       "</table>\n",
       "</div>"
      ],
      "text/plain": [
       "        imdb_id    budget   revenue     original_title  \\\n",
       "1157  tt0279111  56000000  12923936  Gods and Generals   \n",
       "\n",
       "                                                   cast           director  \\\n",
       "1157  Stephen Lang|Jeff Daniels|Robert Duvall|Kevin ...  Ronald F. Maxwell   \n",
       "\n",
       "                                  tagline  \\\n",
       "1157  The nations heart was touched by...   \n",
       "\n",
       "                                               overview  runtime  \\\n",
       "1157  The film centers mostly around the personal an...      214   \n",
       "\n",
       "                 genres                production_companies release_date  \\\n",
       "1157  Drama|History|War  Turner Pictures|Antietam Filmworks   2003-02-21   \n",
       "\n",
       "      vote_average  release_year    profit month  len_overview  \\\n",
       "1157           5.8          2003 -43076064    02            48   \n",
       "\n",
       "                                              cast_list  \n",
       "1157  [Stephen Lang, Jeff Daniels, Robert Duvall, Ke...  "
      ]
     },
     "execution_count": 10,
     "metadata": {},
     "output_type": "execute_result"
    }
   ],
   "source": [
    "data[data.runtime == data.runtime.max()]"
   ]
  },
  {
   "cell_type": "markdown",
   "metadata": {},
   "source": [
    "ВАРИАНТ 2"
   ]
  },
  {
   "cell_type": "code",
   "execution_count": 11,
   "metadata": {},
   "outputs": [
    {
     "data": {
      "text/html": [
       "<div>\n",
       "<style scoped>\n",
       "    .dataframe tbody tr th:only-of-type {\n",
       "        vertical-align: middle;\n",
       "    }\n",
       "\n",
       "    .dataframe tbody tr th {\n",
       "        vertical-align: top;\n",
       "    }\n",
       "\n",
       "    .dataframe thead th {\n",
       "        text-align: right;\n",
       "    }\n",
       "</style>\n",
       "<table border=\"1\" class=\"dataframe\">\n",
       "  <thead>\n",
       "    <tr style=\"text-align: right;\">\n",
       "      <th></th>\n",
       "      <th>imdb_id</th>\n",
       "      <th>budget</th>\n",
       "      <th>revenue</th>\n",
       "      <th>original_title</th>\n",
       "      <th>cast</th>\n",
       "      <th>director</th>\n",
       "      <th>tagline</th>\n",
       "      <th>overview</th>\n",
       "      <th>runtime</th>\n",
       "      <th>genres</th>\n",
       "      <th>production_companies</th>\n",
       "      <th>release_date</th>\n",
       "      <th>vote_average</th>\n",
       "      <th>release_year</th>\n",
       "      <th>profit</th>\n",
       "      <th>month</th>\n",
       "      <th>len_overview</th>\n",
       "      <th>cast_list</th>\n",
       "    </tr>\n",
       "  </thead>\n",
       "  <tbody>\n",
       "    <tr>\n",
       "      <th>1157</th>\n",
       "      <td>tt0279111</td>\n",
       "      <td>56000000</td>\n",
       "      <td>12923936</td>\n",
       "      <td>Gods and Generals</td>\n",
       "      <td>Stephen Lang|Jeff Daniels|Robert Duvall|Kevin ...</td>\n",
       "      <td>Ronald F. Maxwell</td>\n",
       "      <td>The nations heart was touched by...</td>\n",
       "      <td>The film centers mostly around the personal an...</td>\n",
       "      <td>214</td>\n",
       "      <td>Drama|History|War</td>\n",
       "      <td>Turner Pictures|Antietam Filmworks</td>\n",
       "      <td>2003-02-21</td>\n",
       "      <td>5.8</td>\n",
       "      <td>2003</td>\n",
       "      <td>-43076064</td>\n",
       "      <td>02</td>\n",
       "      <td>48</td>\n",
       "      <td>[Stephen Lang, Jeff Daniels, Robert Duvall, Ke...</td>\n",
       "    </tr>\n",
       "  </tbody>\n",
       "</table>\n",
       "</div>"
      ],
      "text/plain": [
       "        imdb_id    budget   revenue     original_title  \\\n",
       "1157  tt0279111  56000000  12923936  Gods and Generals   \n",
       "\n",
       "                                                   cast           director  \\\n",
       "1157  Stephen Lang|Jeff Daniels|Robert Duvall|Kevin ...  Ronald F. Maxwell   \n",
       "\n",
       "                                  tagline  \\\n",
       "1157  The nations heart was touched by...   \n",
       "\n",
       "                                               overview  runtime  \\\n",
       "1157  The film centers mostly around the personal an...      214   \n",
       "\n",
       "                 genres                production_companies release_date  \\\n",
       "1157  Drama|History|War  Turner Pictures|Antietam Filmworks   2003-02-21   \n",
       "\n",
       "      vote_average  release_year    profit month  len_overview  \\\n",
       "1157           5.8          2003 -43076064    02            48   \n",
       "\n",
       "                                              cast_list  \n",
       "1157  [Stephen Lang, Jeff Daniels, Robert Duvall, Ke...  "
      ]
     },
     "execution_count": 11,
     "metadata": {},
     "output_type": "execute_result"
    }
   ],
   "source": [
    "data.sort_values(by='runtime', ascending=False).head(1)"
   ]
  },
  {
   "cell_type": "markdown",
   "metadata": {
    "colab_type": "text",
    "id": "bapLlpW8Vp-k"
   },
   "source": [
    "# 3. Какой из фильмов самый короткий (в минутах)?\n",
    "\n",
    "\n",
    "\n"
   ]
  },
  {
   "cell_type": "code",
   "execution_count": 12,
   "metadata": {
    "colab": {},
    "colab_type": "code",
    "id": "YBxaSHuAVp-l"
   },
   "outputs": [],
   "source": [
    "answers['3'] = '3. Winnie the Pooh (tt1449283)'\n",
    "# +"
   ]
  },
  {
   "cell_type": "code",
   "execution_count": 13,
   "metadata": {
    "scrolled": true
   },
   "outputs": [
    {
     "data": {
      "text/html": [
       "<div>\n",
       "<style scoped>\n",
       "    .dataframe tbody tr th:only-of-type {\n",
       "        vertical-align: middle;\n",
       "    }\n",
       "\n",
       "    .dataframe tbody tr th {\n",
       "        vertical-align: top;\n",
       "    }\n",
       "\n",
       "    .dataframe thead th {\n",
       "        text-align: right;\n",
       "    }\n",
       "</style>\n",
       "<table border=\"1\" class=\"dataframe\">\n",
       "  <thead>\n",
       "    <tr style=\"text-align: right;\">\n",
       "      <th></th>\n",
       "      <th>imdb_id</th>\n",
       "      <th>budget</th>\n",
       "      <th>revenue</th>\n",
       "      <th>original_title</th>\n",
       "      <th>cast</th>\n",
       "      <th>director</th>\n",
       "      <th>tagline</th>\n",
       "      <th>overview</th>\n",
       "      <th>runtime</th>\n",
       "      <th>genres</th>\n",
       "      <th>production_companies</th>\n",
       "      <th>release_date</th>\n",
       "      <th>vote_average</th>\n",
       "      <th>release_year</th>\n",
       "      <th>profit</th>\n",
       "      <th>month</th>\n",
       "      <th>len_overview</th>\n",
       "      <th>cast_list</th>\n",
       "    </tr>\n",
       "  </thead>\n",
       "  <tbody>\n",
       "    <tr>\n",
       "      <th>768</th>\n",
       "      <td>tt1449283</td>\n",
       "      <td>30000000</td>\n",
       "      <td>14460000</td>\n",
       "      <td>Winnie the Pooh</td>\n",
       "      <td>Jim Cummings|Travis Oates|Jim Cummings|Bud Luc...</td>\n",
       "      <td>Stephen Anderson|Don Hall</td>\n",
       "      <td>Oh Pooh.</td>\n",
       "      <td>During an ordinary day in Hundred Acre Wood, W...</td>\n",
       "      <td>63</td>\n",
       "      <td>Animation|Family</td>\n",
       "      <td>Walt Disney Pictures|Walt Disney Animation Stu...</td>\n",
       "      <td>2011-04-13</td>\n",
       "      <td>6.8</td>\n",
       "      <td>2011</td>\n",
       "      <td>-15540000</td>\n",
       "      <td>04</td>\n",
       "      <td>52</td>\n",
       "      <td>[Jim Cummings, Travis Oates, Jim Cummings, Bud...</td>\n",
       "    </tr>\n",
       "  </tbody>\n",
       "</table>\n",
       "</div>"
      ],
      "text/plain": [
       "       imdb_id    budget   revenue   original_title  \\\n",
       "768  tt1449283  30000000  14460000  Winnie the Pooh   \n",
       "\n",
       "                                                  cast  \\\n",
       "768  Jim Cummings|Travis Oates|Jim Cummings|Bud Luc...   \n",
       "\n",
       "                      director   tagline  \\\n",
       "768  Stephen Anderson|Don Hall  Oh Pooh.   \n",
       "\n",
       "                                              overview  runtime  \\\n",
       "768  During an ordinary day in Hundred Acre Wood, W...       63   \n",
       "\n",
       "               genres                               production_companies  \\\n",
       "768  Animation|Family  Walt Disney Pictures|Walt Disney Animation Stu...   \n",
       "\n",
       "    release_date  vote_average  release_year    profit month  len_overview  \\\n",
       "768   2011-04-13           6.8          2011 -15540000    04            52   \n",
       "\n",
       "                                             cast_list  \n",
       "768  [Jim Cummings, Travis Oates, Jim Cummings, Bud...  "
      ]
     },
     "execution_count": 13,
     "metadata": {},
     "output_type": "execute_result"
    }
   ],
   "source": [
    "data[data.runtime == data.runtime.min()]"
   ]
  },
  {
   "cell_type": "markdown",
   "metadata": {},
   "source": [
    "ВАРИАНТ 2"
   ]
  },
  {
   "cell_type": "code",
   "execution_count": 14,
   "metadata": {},
   "outputs": [
    {
     "data": {
      "text/html": [
       "<div>\n",
       "<style scoped>\n",
       "    .dataframe tbody tr th:only-of-type {\n",
       "        vertical-align: middle;\n",
       "    }\n",
       "\n",
       "    .dataframe tbody tr th {\n",
       "        vertical-align: top;\n",
       "    }\n",
       "\n",
       "    .dataframe thead th {\n",
       "        text-align: right;\n",
       "    }\n",
       "</style>\n",
       "<table border=\"1\" class=\"dataframe\">\n",
       "  <thead>\n",
       "    <tr style=\"text-align: right;\">\n",
       "      <th></th>\n",
       "      <th>imdb_id</th>\n",
       "      <th>budget</th>\n",
       "      <th>revenue</th>\n",
       "      <th>original_title</th>\n",
       "      <th>cast</th>\n",
       "      <th>director</th>\n",
       "      <th>tagline</th>\n",
       "      <th>overview</th>\n",
       "      <th>runtime</th>\n",
       "      <th>genres</th>\n",
       "      <th>production_companies</th>\n",
       "      <th>release_date</th>\n",
       "      <th>vote_average</th>\n",
       "      <th>release_year</th>\n",
       "      <th>profit</th>\n",
       "      <th>month</th>\n",
       "      <th>len_overview</th>\n",
       "      <th>cast_list</th>\n",
       "    </tr>\n",
       "  </thead>\n",
       "  <tbody>\n",
       "    <tr>\n",
       "      <th>768</th>\n",
       "      <td>tt1449283</td>\n",
       "      <td>30000000</td>\n",
       "      <td>14460000</td>\n",
       "      <td>Winnie the Pooh</td>\n",
       "      <td>Jim Cummings|Travis Oates|Jim Cummings|Bud Luc...</td>\n",
       "      <td>Stephen Anderson|Don Hall</td>\n",
       "      <td>Oh Pooh.</td>\n",
       "      <td>During an ordinary day in Hundred Acre Wood, W...</td>\n",
       "      <td>63</td>\n",
       "      <td>Animation|Family</td>\n",
       "      <td>Walt Disney Pictures|Walt Disney Animation Stu...</td>\n",
       "      <td>2011-04-13</td>\n",
       "      <td>6.8</td>\n",
       "      <td>2011</td>\n",
       "      <td>-15540000</td>\n",
       "      <td>04</td>\n",
       "      <td>52</td>\n",
       "      <td>[Jim Cummings, Travis Oates, Jim Cummings, Bud...</td>\n",
       "    </tr>\n",
       "  </tbody>\n",
       "</table>\n",
       "</div>"
      ],
      "text/plain": [
       "       imdb_id    budget   revenue   original_title  \\\n",
       "768  tt1449283  30000000  14460000  Winnie the Pooh   \n",
       "\n",
       "                                                  cast  \\\n",
       "768  Jim Cummings|Travis Oates|Jim Cummings|Bud Luc...   \n",
       "\n",
       "                      director   tagline  \\\n",
       "768  Stephen Anderson|Don Hall  Oh Pooh.   \n",
       "\n",
       "                                              overview  runtime  \\\n",
       "768  During an ordinary day in Hundred Acre Wood, W...       63   \n",
       "\n",
       "               genres                               production_companies  \\\n",
       "768  Animation|Family  Walt Disney Pictures|Walt Disney Animation Stu...   \n",
       "\n",
       "    release_date  vote_average  release_year    profit month  len_overview  \\\n",
       "768   2011-04-13           6.8          2011 -15540000    04            52   \n",
       "\n",
       "                                             cast_list  \n",
       "768  [Jim Cummings, Travis Oates, Jim Cummings, Bud...  "
      ]
     },
     "execution_count": 14,
     "metadata": {},
     "output_type": "execute_result"
    }
   ],
   "source": [
    "data.sort_values(by='runtime').head(1)"
   ]
  },
  {
   "cell_type": "markdown",
   "metadata": {
    "colab_type": "text",
    "id": "TfQbxbfNVp-p"
   },
   "source": [
    "# 4. Какова средняя длительность фильмов?\n"
   ]
  },
  {
   "cell_type": "code",
   "execution_count": 15,
   "metadata": {
    "colab": {},
    "colab_type": "code",
    "id": "5K6dKZYVVp-q"
   },
   "outputs": [],
   "source": [
    "answers['4'] = '4. 110'\n",
    "# +"
   ]
  },
  {
   "cell_type": "code",
   "execution_count": 16,
   "metadata": {},
   "outputs": [
    {
     "data": {
      "text/plain": [
       "109.6585494970884"
      ]
     },
     "execution_count": 16,
     "metadata": {},
     "output_type": "execute_result"
    }
   ],
   "source": [
    "data.runtime.mean()"
   ]
  },
  {
   "cell_type": "markdown",
   "metadata": {
    "colab_type": "text",
    "id": "r5TvbnT_Vp-u"
   },
   "source": [
    "# 5. Каково медианное значение длительности фильмов? "
   ]
  },
  {
   "cell_type": "code",
   "execution_count": 17,
   "metadata": {
    "colab": {},
    "colab_type": "code",
    "id": "iBROplKnVp-v"
   },
   "outputs": [],
   "source": [
    "answers['5'] = '5. 107'\n",
    "# +"
   ]
  },
  {
   "cell_type": "code",
   "execution_count": 18,
   "metadata": {},
   "outputs": [
    {
     "data": {
      "text/plain": [
       "107.0"
      ]
     },
     "execution_count": 18,
     "metadata": {},
     "output_type": "execute_result"
    }
   ],
   "source": [
    "data.runtime.median()"
   ]
  },
  {
   "cell_type": "markdown",
   "metadata": {
    "colab_type": "text",
    "id": "39P-deDSVp-y"
   },
   "source": [
    "# 6. Какой самый прибыльный фильм?\n",
    "#### Внимание! Здесь и далее под «прибылью» или «убытками» понимается разность между сборами и бюджетом фильма. (прибыль = сборы - бюджет) в нашем датасете это будет (profit = revenue - budget) "
   ]
  },
  {
   "cell_type": "code",
   "execution_count": 19,
   "metadata": {
    "colab": {},
    "colab_type": "code",
    "id": "UYZh4T9WVp-y"
   },
   "outputs": [],
   "source": [
    "# лучше код получения столбца profit вынести в Предобработку что в начале"
   ]
  },
  {
   "cell_type": "code",
   "execution_count": 20,
   "metadata": {},
   "outputs": [],
   "source": [
    "answers['6'] = '6. Avatar (tt0499549)'\n",
    "# +"
   ]
  },
  {
   "cell_type": "code",
   "execution_count": 21,
   "metadata": {},
   "outputs": [
    {
     "data": {
      "text/html": [
       "<div>\n",
       "<style scoped>\n",
       "    .dataframe tbody tr th:only-of-type {\n",
       "        vertical-align: middle;\n",
       "    }\n",
       "\n",
       "    .dataframe tbody tr th {\n",
       "        vertical-align: top;\n",
       "    }\n",
       "\n",
       "    .dataframe thead th {\n",
       "        text-align: right;\n",
       "    }\n",
       "</style>\n",
       "<table border=\"1\" class=\"dataframe\">\n",
       "  <thead>\n",
       "    <tr style=\"text-align: right;\">\n",
       "      <th></th>\n",
       "      <th>imdb_id</th>\n",
       "      <th>budget</th>\n",
       "      <th>revenue</th>\n",
       "      <th>original_title</th>\n",
       "      <th>cast</th>\n",
       "      <th>director</th>\n",
       "      <th>tagline</th>\n",
       "      <th>overview</th>\n",
       "      <th>runtime</th>\n",
       "      <th>genres</th>\n",
       "      <th>production_companies</th>\n",
       "      <th>release_date</th>\n",
       "      <th>vote_average</th>\n",
       "      <th>release_year</th>\n",
       "      <th>profit</th>\n",
       "      <th>month</th>\n",
       "      <th>len_overview</th>\n",
       "      <th>cast_list</th>\n",
       "    </tr>\n",
       "  </thead>\n",
       "  <tbody>\n",
       "    <tr>\n",
       "      <th>239</th>\n",
       "      <td>tt0499549</td>\n",
       "      <td>237000000</td>\n",
       "      <td>2781505847</td>\n",
       "      <td>Avatar</td>\n",
       "      <td>Sam Worthington|Zoe Saldana|Sigourney Weaver|S...</td>\n",
       "      <td>James Cameron</td>\n",
       "      <td>Enter the World of Pandora.</td>\n",
       "      <td>In the 22nd century, a paraplegic Marine is di...</td>\n",
       "      <td>162</td>\n",
       "      <td>Action|Adventure|Fantasy|Science Fiction</td>\n",
       "      <td>Ingenious Film Partners|Twentieth Century Fox ...</td>\n",
       "      <td>2009-12-10</td>\n",
       "      <td>7.1</td>\n",
       "      <td>2009</td>\n",
       "      <td>2544505847</td>\n",
       "      <td>12</td>\n",
       "      <td>28</td>\n",
       "      <td>[Sam Worthington, Zoe Saldana, Sigourney Weave...</td>\n",
       "    </tr>\n",
       "  </tbody>\n",
       "</table>\n",
       "</div>"
      ],
      "text/plain": [
       "       imdb_id     budget     revenue original_title  \\\n",
       "239  tt0499549  237000000  2781505847         Avatar   \n",
       "\n",
       "                                                  cast       director  \\\n",
       "239  Sam Worthington|Zoe Saldana|Sigourney Weaver|S...  James Cameron   \n",
       "\n",
       "                         tagline  \\\n",
       "239  Enter the World of Pandora.   \n",
       "\n",
       "                                              overview  runtime  \\\n",
       "239  In the 22nd century, a paraplegic Marine is di...      162   \n",
       "\n",
       "                                       genres  \\\n",
       "239  Action|Adventure|Fantasy|Science Fiction   \n",
       "\n",
       "                                  production_companies release_date  \\\n",
       "239  Ingenious Film Partners|Twentieth Century Fox ...   2009-12-10   \n",
       "\n",
       "     vote_average  release_year      profit month  len_overview  \\\n",
       "239           7.1          2009  2544505847    12            28   \n",
       "\n",
       "                                             cast_list  \n",
       "239  [Sam Worthington, Zoe Saldana, Sigourney Weave...  "
      ]
     },
     "execution_count": 21,
     "metadata": {},
     "output_type": "execute_result"
    }
   ],
   "source": [
    "data[data.profit == data.profit.max()]"
   ]
  },
  {
   "cell_type": "markdown",
   "metadata": {},
   "source": [
    "ВАРИАНТ 2"
   ]
  },
  {
   "cell_type": "code",
   "execution_count": 22,
   "metadata": {},
   "outputs": [
    {
     "data": {
      "text/html": [
       "<div>\n",
       "<style scoped>\n",
       "    .dataframe tbody tr th:only-of-type {\n",
       "        vertical-align: middle;\n",
       "    }\n",
       "\n",
       "    .dataframe tbody tr th {\n",
       "        vertical-align: top;\n",
       "    }\n",
       "\n",
       "    .dataframe thead th {\n",
       "        text-align: right;\n",
       "    }\n",
       "</style>\n",
       "<table border=\"1\" class=\"dataframe\">\n",
       "  <thead>\n",
       "    <tr style=\"text-align: right;\">\n",
       "      <th></th>\n",
       "      <th>imdb_id</th>\n",
       "      <th>budget</th>\n",
       "      <th>revenue</th>\n",
       "      <th>original_title</th>\n",
       "      <th>cast</th>\n",
       "      <th>director</th>\n",
       "      <th>tagline</th>\n",
       "      <th>overview</th>\n",
       "      <th>runtime</th>\n",
       "      <th>genres</th>\n",
       "      <th>production_companies</th>\n",
       "      <th>release_date</th>\n",
       "      <th>vote_average</th>\n",
       "      <th>release_year</th>\n",
       "      <th>profit</th>\n",
       "      <th>month</th>\n",
       "      <th>len_overview</th>\n",
       "      <th>cast_list</th>\n",
       "    </tr>\n",
       "  </thead>\n",
       "  <tbody>\n",
       "    <tr>\n",
       "      <th>239</th>\n",
       "      <td>tt0499549</td>\n",
       "      <td>237000000</td>\n",
       "      <td>2781505847</td>\n",
       "      <td>Avatar</td>\n",
       "      <td>Sam Worthington|Zoe Saldana|Sigourney Weaver|S...</td>\n",
       "      <td>James Cameron</td>\n",
       "      <td>Enter the World of Pandora.</td>\n",
       "      <td>In the 22nd century, a paraplegic Marine is di...</td>\n",
       "      <td>162</td>\n",
       "      <td>Action|Adventure|Fantasy|Science Fiction</td>\n",
       "      <td>Ingenious Film Partners|Twentieth Century Fox ...</td>\n",
       "      <td>2009-12-10</td>\n",
       "      <td>7.1</td>\n",
       "      <td>2009</td>\n",
       "      <td>2544505847</td>\n",
       "      <td>12</td>\n",
       "      <td>28</td>\n",
       "      <td>[Sam Worthington, Zoe Saldana, Sigourney Weave...</td>\n",
       "    </tr>\n",
       "  </tbody>\n",
       "</table>\n",
       "</div>"
      ],
      "text/plain": [
       "       imdb_id     budget     revenue original_title  \\\n",
       "239  tt0499549  237000000  2781505847         Avatar   \n",
       "\n",
       "                                                  cast       director  \\\n",
       "239  Sam Worthington|Zoe Saldana|Sigourney Weaver|S...  James Cameron   \n",
       "\n",
       "                         tagline  \\\n",
       "239  Enter the World of Pandora.   \n",
       "\n",
       "                                              overview  runtime  \\\n",
       "239  In the 22nd century, a paraplegic Marine is di...      162   \n",
       "\n",
       "                                       genres  \\\n",
       "239  Action|Adventure|Fantasy|Science Fiction   \n",
       "\n",
       "                                  production_companies release_date  \\\n",
       "239  Ingenious Film Partners|Twentieth Century Fox ...   2009-12-10   \n",
       "\n",
       "     vote_average  release_year      profit month  len_overview  \\\n",
       "239           7.1          2009  2544505847    12            28   \n",
       "\n",
       "                                             cast_list  \n",
       "239  [Sam Worthington, Zoe Saldana, Sigourney Weave...  "
      ]
     },
     "execution_count": 22,
     "metadata": {},
     "output_type": "execute_result"
    }
   ],
   "source": [
    "data.sort_values(by='profit', ascending=False).head(1)"
   ]
  },
  {
   "cell_type": "markdown",
   "metadata": {
    "colab_type": "text",
    "id": "M99JmIX4Vp-2"
   },
   "source": [
    "# 7. Какой фильм самый убыточный? "
   ]
  },
  {
   "cell_type": "code",
   "execution_count": 23,
   "metadata": {
    "colab": {},
    "colab_type": "code",
    "id": "w-D2m4XPVp-3"
   },
   "outputs": [],
   "source": [
    "answers['7'] = '7. The Lone Ranger (tt1210819)'\n",
    "# +"
   ]
  },
  {
   "cell_type": "code",
   "execution_count": 24,
   "metadata": {},
   "outputs": [
    {
     "data": {
      "text/html": [
       "<div>\n",
       "<style scoped>\n",
       "    .dataframe tbody tr th:only-of-type {\n",
       "        vertical-align: middle;\n",
       "    }\n",
       "\n",
       "    .dataframe tbody tr th {\n",
       "        vertical-align: top;\n",
       "    }\n",
       "\n",
       "    .dataframe thead th {\n",
       "        text-align: right;\n",
       "    }\n",
       "</style>\n",
       "<table border=\"1\" class=\"dataframe\">\n",
       "  <thead>\n",
       "    <tr style=\"text-align: right;\">\n",
       "      <th></th>\n",
       "      <th>imdb_id</th>\n",
       "      <th>budget</th>\n",
       "      <th>revenue</th>\n",
       "      <th>original_title</th>\n",
       "      <th>cast</th>\n",
       "      <th>director</th>\n",
       "      <th>tagline</th>\n",
       "      <th>overview</th>\n",
       "      <th>runtime</th>\n",
       "      <th>genres</th>\n",
       "      <th>production_companies</th>\n",
       "      <th>release_date</th>\n",
       "      <th>vote_average</th>\n",
       "      <th>release_year</th>\n",
       "      <th>profit</th>\n",
       "      <th>month</th>\n",
       "      <th>len_overview</th>\n",
       "      <th>cast_list</th>\n",
       "    </tr>\n",
       "  </thead>\n",
       "  <tbody>\n",
       "    <tr>\n",
       "      <th>1245</th>\n",
       "      <td>tt1210819</td>\n",
       "      <td>255000000</td>\n",
       "      <td>89289910</td>\n",
       "      <td>The Lone Ranger</td>\n",
       "      <td>Johnny Depp|Armie Hammer|William Fichtner|Hele...</td>\n",
       "      <td>Gore Verbinski</td>\n",
       "      <td>Never Take Off the Mask</td>\n",
       "      <td>The Texas Rangers chase down a gang of outlaws...</td>\n",
       "      <td>149</td>\n",
       "      <td>Action|Adventure|Western</td>\n",
       "      <td>Walt Disney Pictures|Jerry Bruckheimer Films|I...</td>\n",
       "      <td>2013-07-03</td>\n",
       "      <td>6.0</td>\n",
       "      <td>2013</td>\n",
       "      <td>-165710090</td>\n",
       "      <td>07</td>\n",
       "      <td>68</td>\n",
       "      <td>[Johnny Depp, Armie Hammer, William Fichtner, ...</td>\n",
       "    </tr>\n",
       "  </tbody>\n",
       "</table>\n",
       "</div>"
      ],
      "text/plain": [
       "        imdb_id     budget   revenue   original_title  \\\n",
       "1245  tt1210819  255000000  89289910  The Lone Ranger   \n",
       "\n",
       "                                                   cast        director  \\\n",
       "1245  Johnny Depp|Armie Hammer|William Fichtner|Hele...  Gore Verbinski   \n",
       "\n",
       "                      tagline  \\\n",
       "1245  Never Take Off the Mask   \n",
       "\n",
       "                                               overview  runtime  \\\n",
       "1245  The Texas Rangers chase down a gang of outlaws...      149   \n",
       "\n",
       "                        genres  \\\n",
       "1245  Action|Adventure|Western   \n",
       "\n",
       "                                   production_companies release_date  \\\n",
       "1245  Walt Disney Pictures|Jerry Bruckheimer Films|I...   2013-07-03   \n",
       "\n",
       "      vote_average  release_year     profit month  len_overview  \\\n",
       "1245           6.0          2013 -165710090    07            68   \n",
       "\n",
       "                                              cast_list  \n",
       "1245  [Johnny Depp, Armie Hammer, William Fichtner, ...  "
      ]
     },
     "execution_count": 24,
     "metadata": {},
     "output_type": "execute_result"
    }
   ],
   "source": [
    "data[data.profit == data.profit.min()]"
   ]
  },
  {
   "cell_type": "markdown",
   "metadata": {},
   "source": [
    "ВАРИАНТ 2"
   ]
  },
  {
   "cell_type": "code",
   "execution_count": 25,
   "metadata": {},
   "outputs": [
    {
     "data": {
      "text/html": [
       "<div>\n",
       "<style scoped>\n",
       "    .dataframe tbody tr th:only-of-type {\n",
       "        vertical-align: middle;\n",
       "    }\n",
       "\n",
       "    .dataframe tbody tr th {\n",
       "        vertical-align: top;\n",
       "    }\n",
       "\n",
       "    .dataframe thead th {\n",
       "        text-align: right;\n",
       "    }\n",
       "</style>\n",
       "<table border=\"1\" class=\"dataframe\">\n",
       "  <thead>\n",
       "    <tr style=\"text-align: right;\">\n",
       "      <th></th>\n",
       "      <th>imdb_id</th>\n",
       "      <th>budget</th>\n",
       "      <th>revenue</th>\n",
       "      <th>original_title</th>\n",
       "      <th>cast</th>\n",
       "      <th>director</th>\n",
       "      <th>tagline</th>\n",
       "      <th>overview</th>\n",
       "      <th>runtime</th>\n",
       "      <th>genres</th>\n",
       "      <th>production_companies</th>\n",
       "      <th>release_date</th>\n",
       "      <th>vote_average</th>\n",
       "      <th>release_year</th>\n",
       "      <th>profit</th>\n",
       "      <th>month</th>\n",
       "      <th>len_overview</th>\n",
       "      <th>cast_list</th>\n",
       "    </tr>\n",
       "  </thead>\n",
       "  <tbody>\n",
       "    <tr>\n",
       "      <th>1245</th>\n",
       "      <td>tt1210819</td>\n",
       "      <td>255000000</td>\n",
       "      <td>89289910</td>\n",
       "      <td>The Lone Ranger</td>\n",
       "      <td>Johnny Depp|Armie Hammer|William Fichtner|Hele...</td>\n",
       "      <td>Gore Verbinski</td>\n",
       "      <td>Never Take Off the Mask</td>\n",
       "      <td>The Texas Rangers chase down a gang of outlaws...</td>\n",
       "      <td>149</td>\n",
       "      <td>Action|Adventure|Western</td>\n",
       "      <td>Walt Disney Pictures|Jerry Bruckheimer Films|I...</td>\n",
       "      <td>2013-07-03</td>\n",
       "      <td>6.0</td>\n",
       "      <td>2013</td>\n",
       "      <td>-165710090</td>\n",
       "      <td>07</td>\n",
       "      <td>68</td>\n",
       "      <td>[Johnny Depp, Armie Hammer, William Fichtner, ...</td>\n",
       "    </tr>\n",
       "  </tbody>\n",
       "</table>\n",
       "</div>"
      ],
      "text/plain": [
       "        imdb_id     budget   revenue   original_title  \\\n",
       "1245  tt1210819  255000000  89289910  The Lone Ranger   \n",
       "\n",
       "                                                   cast        director  \\\n",
       "1245  Johnny Depp|Armie Hammer|William Fichtner|Hele...  Gore Verbinski   \n",
       "\n",
       "                      tagline  \\\n",
       "1245  Never Take Off the Mask   \n",
       "\n",
       "                                               overview  runtime  \\\n",
       "1245  The Texas Rangers chase down a gang of outlaws...      149   \n",
       "\n",
       "                        genres  \\\n",
       "1245  Action|Adventure|Western   \n",
       "\n",
       "                                   production_companies release_date  \\\n",
       "1245  Walt Disney Pictures|Jerry Bruckheimer Films|I...   2013-07-03   \n",
       "\n",
       "      vote_average  release_year     profit month  len_overview  \\\n",
       "1245           6.0          2013 -165710090    07            68   \n",
       "\n",
       "                                              cast_list  \n",
       "1245  [Johnny Depp, Armie Hammer, William Fichtner, ...  "
      ]
     },
     "execution_count": 25,
     "metadata": {},
     "output_type": "execute_result"
    }
   ],
   "source": [
    "data.sort_values(by='profit').head(1)"
   ]
  },
  {
   "cell_type": "markdown",
   "metadata": {
    "colab_type": "text",
    "id": "wEOM5ERVVp-6"
   },
   "source": [
    "# 8. У скольких фильмов из датасета объем сборов оказался выше бюджета?"
   ]
  },
  {
   "cell_type": "code",
   "execution_count": 26,
   "metadata": {
    "colab": {},
    "colab_type": "code",
    "id": "y00_7HD6Vp-7"
   },
   "outputs": [],
   "source": [
    "answers['8'] = ' 8. 1478'\n",
    "# +"
   ]
  },
  {
   "cell_type": "code",
   "execution_count": 27,
   "metadata": {},
   "outputs": [
    {
     "data": {
      "text/plain": [
       "1478"
      ]
     },
     "execution_count": 27,
     "metadata": {},
     "output_type": "execute_result"
    }
   ],
   "source": [
    "data[data.profit > 0]['profit'].count()"
   ]
  },
  {
   "cell_type": "markdown",
   "metadata": {
    "colab_type": "text",
    "id": "xhpspA9KVp_A"
   },
   "source": [
    "# 9. Какой фильм оказался самым кассовым в 2008 году?"
   ]
  },
  {
   "cell_type": "code",
   "execution_count": 28,
   "metadata": {
    "colab": {},
    "colab_type": "code",
    "id": "MoUyQr9RVp_B"
   },
   "outputs": [],
   "source": [
    "answers['9'] = '9. The Dark Knight (tt0468569)'\n",
    "# +"
   ]
  },
  {
   "cell_type": "code",
   "execution_count": 29,
   "metadata": {},
   "outputs": [
    {
     "data": {
      "text/html": [
       "<div>\n",
       "<style scoped>\n",
       "    .dataframe tbody tr th:only-of-type {\n",
       "        vertical-align: middle;\n",
       "    }\n",
       "\n",
       "    .dataframe tbody tr th {\n",
       "        vertical-align: top;\n",
       "    }\n",
       "\n",
       "    .dataframe thead th {\n",
       "        text-align: right;\n",
       "    }\n",
       "</style>\n",
       "<table border=\"1\" class=\"dataframe\">\n",
       "  <thead>\n",
       "    <tr style=\"text-align: right;\">\n",
       "      <th></th>\n",
       "      <th>imdb_id</th>\n",
       "      <th>budget</th>\n",
       "      <th>revenue</th>\n",
       "      <th>original_title</th>\n",
       "      <th>cast</th>\n",
       "      <th>director</th>\n",
       "      <th>tagline</th>\n",
       "      <th>overview</th>\n",
       "      <th>runtime</th>\n",
       "      <th>genres</th>\n",
       "      <th>production_companies</th>\n",
       "      <th>release_date</th>\n",
       "      <th>vote_average</th>\n",
       "      <th>release_year</th>\n",
       "      <th>profit</th>\n",
       "      <th>month</th>\n",
       "      <th>len_overview</th>\n",
       "      <th>cast_list</th>\n",
       "    </tr>\n",
       "  </thead>\n",
       "  <tbody>\n",
       "    <tr>\n",
       "      <th>599</th>\n",
       "      <td>tt0468569</td>\n",
       "      <td>185000000</td>\n",
       "      <td>1001921825</td>\n",
       "      <td>The Dark Knight</td>\n",
       "      <td>Christian Bale|Michael Caine|Heath Ledger|Aaro...</td>\n",
       "      <td>Christopher Nolan</td>\n",
       "      <td>Why So Serious?</td>\n",
       "      <td>Batman raises the stakes in his war on crime. ...</td>\n",
       "      <td>152</td>\n",
       "      <td>Drama|Action|Crime|Thriller</td>\n",
       "      <td>DC Comics|Legendary Pictures|Warner Bros.|Syncopy</td>\n",
       "      <td>2008-07-16</td>\n",
       "      <td>8.1</td>\n",
       "      <td>2008</td>\n",
       "      <td>816921825</td>\n",
       "      <td>07</td>\n",
       "      <td>67</td>\n",
       "      <td>[Christian Bale, Michael Caine, Heath Ledger, ...</td>\n",
       "    </tr>\n",
       "  </tbody>\n",
       "</table>\n",
       "</div>"
      ],
      "text/plain": [
       "       imdb_id     budget     revenue   original_title  \\\n",
       "599  tt0468569  185000000  1001921825  The Dark Knight   \n",
       "\n",
       "                                                  cast           director  \\\n",
       "599  Christian Bale|Michael Caine|Heath Ledger|Aaro...  Christopher Nolan   \n",
       "\n",
       "             tagline                                           overview  \\\n",
       "599  Why So Serious?  Batman raises the stakes in his war on crime. ...   \n",
       "\n",
       "     runtime                       genres  \\\n",
       "599      152  Drama|Action|Crime|Thriller   \n",
       "\n",
       "                                  production_companies release_date  \\\n",
       "599  DC Comics|Legendary Pictures|Warner Bros.|Syncopy   2008-07-16   \n",
       "\n",
       "     vote_average  release_year     profit month  len_overview  \\\n",
       "599           8.1          2008  816921825    07            67   \n",
       "\n",
       "                                             cast_list  \n",
       "599  [Christian Bale, Michael Caine, Heath Ledger, ...  "
      ]
     },
     "execution_count": 29,
     "metadata": {},
     "output_type": "execute_result"
    }
   ],
   "source": [
    "data[data.release_year == 2008].sort_values(by='revenue', ascending=False).head(1)"
   ]
  },
  {
   "cell_type": "markdown",
   "metadata": {
    "colab_type": "text",
    "id": "Zi4hDKidVp_F"
   },
   "source": [
    "# 10. Самый убыточный фильм за период с 2012 по 2014 г. (включительно)?\n"
   ]
  },
  {
   "cell_type": "code",
   "execution_count": 30,
   "metadata": {
    "colab": {},
    "colab_type": "code",
    "id": "XqyRmufJVp_F"
   },
   "outputs": [],
   "source": [
    "answers['10'] = '10. The Lone Ranger (tt1210819)'\n",
    "# +"
   ]
  },
  {
   "cell_type": "code",
   "execution_count": 31,
   "metadata": {},
   "outputs": [
    {
     "data": {
      "text/html": [
       "<div>\n",
       "<style scoped>\n",
       "    .dataframe tbody tr th:only-of-type {\n",
       "        vertical-align: middle;\n",
       "    }\n",
       "\n",
       "    .dataframe tbody tr th {\n",
       "        vertical-align: top;\n",
       "    }\n",
       "\n",
       "    .dataframe thead th {\n",
       "        text-align: right;\n",
       "    }\n",
       "</style>\n",
       "<table border=\"1\" class=\"dataframe\">\n",
       "  <thead>\n",
       "    <tr style=\"text-align: right;\">\n",
       "      <th></th>\n",
       "      <th>imdb_id</th>\n",
       "      <th>budget</th>\n",
       "      <th>revenue</th>\n",
       "      <th>original_title</th>\n",
       "      <th>cast</th>\n",
       "      <th>director</th>\n",
       "      <th>tagline</th>\n",
       "      <th>overview</th>\n",
       "      <th>runtime</th>\n",
       "      <th>genres</th>\n",
       "      <th>production_companies</th>\n",
       "      <th>release_date</th>\n",
       "      <th>vote_average</th>\n",
       "      <th>release_year</th>\n",
       "      <th>profit</th>\n",
       "      <th>month</th>\n",
       "      <th>len_overview</th>\n",
       "      <th>cast_list</th>\n",
       "    </tr>\n",
       "  </thead>\n",
       "  <tbody>\n",
       "    <tr>\n",
       "      <th>1245</th>\n",
       "      <td>tt1210819</td>\n",
       "      <td>255000000</td>\n",
       "      <td>89289910</td>\n",
       "      <td>The Lone Ranger</td>\n",
       "      <td>Johnny Depp|Armie Hammer|William Fichtner|Hele...</td>\n",
       "      <td>Gore Verbinski</td>\n",
       "      <td>Never Take Off the Mask</td>\n",
       "      <td>The Texas Rangers chase down a gang of outlaws...</td>\n",
       "      <td>149</td>\n",
       "      <td>Action|Adventure|Western</td>\n",
       "      <td>Walt Disney Pictures|Jerry Bruckheimer Films|I...</td>\n",
       "      <td>2013-07-03</td>\n",
       "      <td>6.0</td>\n",
       "      <td>2013</td>\n",
       "      <td>-165710090</td>\n",
       "      <td>07</td>\n",
       "      <td>68</td>\n",
       "      <td>[Johnny Depp, Armie Hammer, William Fichtner, ...</td>\n",
       "    </tr>\n",
       "  </tbody>\n",
       "</table>\n",
       "</div>"
      ],
      "text/plain": [
       "        imdb_id     budget   revenue   original_title  \\\n",
       "1245  tt1210819  255000000  89289910  The Lone Ranger   \n",
       "\n",
       "                                                   cast        director  \\\n",
       "1245  Johnny Depp|Armie Hammer|William Fichtner|Hele...  Gore Verbinski   \n",
       "\n",
       "                      tagline  \\\n",
       "1245  Never Take Off the Mask   \n",
       "\n",
       "                                               overview  runtime  \\\n",
       "1245  The Texas Rangers chase down a gang of outlaws...      149   \n",
       "\n",
       "                        genres  \\\n",
       "1245  Action|Adventure|Western   \n",
       "\n",
       "                                   production_companies release_date  \\\n",
       "1245  Walt Disney Pictures|Jerry Bruckheimer Films|I...   2013-07-03   \n",
       "\n",
       "      vote_average  release_year     profit month  len_overview  \\\n",
       "1245           6.0          2013 -165710090    07            68   \n",
       "\n",
       "                                              cast_list  \n",
       "1245  [Johnny Depp, Armie Hammer, William Fichtner, ...  "
      ]
     },
     "execution_count": 31,
     "metadata": {},
     "output_type": "execute_result"
    }
   ],
   "source": [
    "data[(data.release_year >= 2012) & (data.release_year <= 2014)].sort_values(by='profit').head(1)"
   ]
  },
  {
   "cell_type": "markdown",
   "metadata": {
    "colab_type": "text",
    "id": "EA7Sa9dkVp_I"
   },
   "source": [
    "# 11. Какого жанра фильмов больше всего?"
   ]
  },
  {
   "cell_type": "code",
   "execution_count": 32,
   "metadata": {
    "colab": {},
    "colab_type": "code",
    "id": "zsJAwJ8QVp_J"
   },
   "outputs": [],
   "source": [
    "# эту задачу тоже можно решать разными подходами, попробуй реализовать разные варианты\n",
    "# если будешь добавлять функцию - выноси ее в предобработку что в начале"
   ]
  },
  {
   "cell_type": "code",
   "execution_count": 33,
   "metadata": {},
   "outputs": [],
   "source": [
    "answers['11'] = '11. Drama'\n",
    "# +"
   ]
  },
  {
   "cell_type": "code",
   "execution_count": 34,
   "metadata": {},
   "outputs": [
    {
     "data": {
      "text/plain": [
       "Drama    782\n",
       "dtype: int64"
      ]
     },
     "execution_count": 34,
     "metadata": {},
     "output_type": "execute_result"
    }
   ],
   "source": [
    "# создаем пустой список жанров\n",
    "genres_list = []\n",
    "# цикл парсинга жанров\n",
    "for genre in data.genres:\n",
    "    genres_list.append(genre.split('|'))\n",
    "genres_list = sum(genres_list, [])\n",
    "pd.DataFrame(genres_list).value_counts().head(1)"
   ]
  },
  {
   "cell_type": "markdown",
   "metadata": {
    "colab_type": "text",
    "id": "Ax6g2C8SVp_M"
   },
   "source": [
    "ВАРИАНТ 2"
   ]
  },
  {
   "cell_type": "code",
   "execution_count": 35,
   "metadata": {
    "colab": {},
    "colab_type": "code",
    "id": "otO3SbrSVp_N"
   },
   "outputs": [
    {
     "data": {
      "text/plain": [
       "'Drama'"
      ]
     },
     "execution_count": 35,
     "metadata": {},
     "output_type": "execute_result"
    }
   ],
   "source": [
    "# создаем пустой словарь жанров\n",
    "genres_dict = {}\n",
    "# цикл парсинга жанров\n",
    "for string_number in data.index:\n",
    "    for genre in data.loc[string_number].genres.split('|'):\n",
    "        if genre in genres_dict:\n",
    "            genres_dict[genre] += 1\n",
    "        else:\n",
    "            genres_dict[genre] = 1\n",
    "# вывод максимального значения\n",
    "max(genres_dict, key=genres_dict.get)"
   ]
  },
  {
   "cell_type": "markdown",
   "metadata": {
    "colab_type": "text",
    "id": "T9_bPWpkVp_Q"
   },
   "source": [
    "# 12. Фильмы какого жанра чаще всего становятся прибыльными? "
   ]
  },
  {
   "cell_type": "code",
   "execution_count": 36,
   "metadata": {
    "colab": {},
    "colab_type": "code",
    "id": "Tmt8MaK1Vp_R"
   },
   "outputs": [],
   "source": [
    "answers['12'] = '12. Drama'\n",
    "# +"
   ]
  },
  {
   "cell_type": "code",
   "execution_count": 37,
   "metadata": {},
   "outputs": [
    {
     "data": {
      "text/plain": [
       "Drama    560\n",
       "dtype: int64"
      ]
     },
     "execution_count": 37,
     "metadata": {},
     "output_type": "execute_result"
    }
   ],
   "source": [
    "# создаем пустой список жанров\n",
    "genres_list = []\n",
    "# цикл парсинга жанров\n",
    "for genre in data[data.profit > 0].genres:\n",
    "    genres_list.append(genre.split('|'))\n",
    "genres_list = sum(genres_list, [])\n",
    "pd.DataFrame(genres_list).value_counts().head(1)"
   ]
  },
  {
   "cell_type": "markdown",
   "metadata": {},
   "source": [
    "ВАРИАНТ 2"
   ]
  },
  {
   "cell_type": "code",
   "execution_count": 38,
   "metadata": {},
   "outputs": [
    {
     "data": {
      "text/plain": [
       "'Drama'"
      ]
     },
     "execution_count": 38,
     "metadata": {},
     "output_type": "execute_result"
    }
   ],
   "source": [
    "# создаем пустой словарь жанров\n",
    "genres_dict = {}\n",
    "# цикл парсинга жанров\n",
    "for string_number in data[data.profit > 0].index:\n",
    "    for genre in data.loc[string_number].genres.split('|'):\n",
    "        if genre in genres_dict:\n",
    "            genres_dict[genre] += 1\n",
    "        else:\n",
    "            genres_dict[genre] = 1\n",
    "# вывод максимального значения\n",
    "max(genres_dict, key=genres_dict.get)"
   ]
  },
  {
   "cell_type": "markdown",
   "metadata": {
    "colab_type": "text",
    "id": "0F23bgsDVp_U"
   },
   "source": [
    "# 13. У какого режиссера самые большие суммарные кассовые сбооры?"
   ]
  },
  {
   "cell_type": "code",
   "execution_count": 39,
   "metadata": {
    "colab": {},
    "colab_type": "code",
    "id": "K6Z3J8ygVp_X"
   },
   "outputs": [],
   "source": [
    "answers['13'] = '13. Peter Jackson'\n",
    "# +"
   ]
  },
  {
   "cell_type": "code",
   "execution_count": 40,
   "metadata": {},
   "outputs": [
    {
     "data": {
      "text/plain": [
       "'Peter Jackson'"
      ]
     },
     "execution_count": 40,
     "metadata": {},
     "output_type": "execute_result"
    }
   ],
   "source": [
    "# создаем пустой словарь режиссёров\n",
    "directors_dict = {}\n",
    "# цикл парсинга режиссёров\n",
    "for string_number in data.index:\n",
    "    for director in data.loc[string_number].director.split('|'):\n",
    "        if director in directors_dict:\n",
    "            directors_dict[director] += data.loc[string_number].revenue\n",
    "        else:\n",
    "            directors_dict[director] = data.loc[string_number].revenue\n",
    "# вывод максимального значения\n",
    "max(directors_dict, key=directors_dict.get)"
   ]
  },
  {
   "cell_type": "markdown",
   "metadata": {
    "colab_type": "text",
    "id": "PsYC9FgRVp_a"
   },
   "source": [
    "# 14. Какой режисер снял больше всего фильмов в стиле Action?"
   ]
  },
  {
   "cell_type": "code",
   "execution_count": 41,
   "metadata": {
    "colab": {},
    "colab_type": "code",
    "id": "wd2M-wHeVp_b"
   },
   "outputs": [],
   "source": [
    "answers['14'] = '14. Robert Rodriguez'\n",
    "# +"
   ]
  },
  {
   "cell_type": "code",
   "execution_count": 42,
   "metadata": {},
   "outputs": [
    {
     "data": {
      "text/plain": [
       "'Robert Rodriguez'"
      ]
     },
     "execution_count": 42,
     "metadata": {},
     "output_type": "execute_result"
    }
   ],
   "source": [
    "# создаем пустой словарь режиссёров\n",
    "directors_dict = {}\n",
    "# цикл парсинга режиссёров\n",
    "for string_number in data[data.genres.str.contains('Action')].index:\n",
    "    for director in data.loc[string_number].director.split('|'):\n",
    "        if director in directors_dict:\n",
    "            directors_dict[director] += 1\n",
    "        else:\n",
    "            directors_dict[director] = 1\n",
    "# вывод максимального значения\n",
    "max(directors_dict, key=directors_dict.get)"
   ]
  },
  {
   "cell_type": "markdown",
   "metadata": {
    "colab_type": "text",
    "id": "PQ0KciD7Vp_f"
   },
   "source": [
    "# 15. Фильмы с каким актером принесли самые высокие кассовые сборы в 2012 году? "
   ]
  },
  {
   "cell_type": "code",
   "execution_count": 43,
   "metadata": {
    "colab": {},
    "colab_type": "code",
    "id": "aga62oeKVp_g"
   },
   "outputs": [],
   "source": [
    "answers['15'] = '15. Chris Hemsworth'\n",
    "# +"
   ]
  },
  {
   "cell_type": "code",
   "execution_count": 44,
   "metadata": {},
   "outputs": [
    {
     "data": {
      "text/plain": [
       "'Chris Hemsworth'"
      ]
     },
     "execution_count": 44,
     "metadata": {},
     "output_type": "execute_result"
    }
   ],
   "source": [
    "# создаем пустой словарь актёров\n",
    "actors_dict = {}\n",
    "# цикл парсинга актёров\n",
    "for string_number in data[data.release_year == 2012].index:\n",
    "    for actor in data.loc[string_number].cast.split('|'):\n",
    "        if actor in actors_dict:\n",
    "            actors_dict[actor] += data.loc[string_number].revenue\n",
    "        else:\n",
    "            actors_dict[actor] = data.loc[string_number].revenue\n",
    "# вывод максимального значения\n",
    "max(actors_dict, key=actors_dict.get)"
   ]
  },
  {
   "cell_type": "markdown",
   "metadata": {
    "colab_type": "text",
    "id": "mWHyyL7QVp_j"
   },
   "source": [
    "# 16. Какой актер снялся в большем количестве высокобюджетных фильмов?"
   ]
  },
  {
   "cell_type": "code",
   "execution_count": 45,
   "metadata": {
    "colab": {},
    "colab_type": "code",
    "id": "qQtmHKTFVp_k"
   },
   "outputs": [],
   "source": [
    "answers['16'] = '16. Matt Damon'\n",
    "# +"
   ]
  },
  {
   "cell_type": "code",
   "execution_count": 46,
   "metadata": {},
   "outputs": [
    {
     "data": {
      "text/plain": [
       "'Matt Damon'"
      ]
     },
     "execution_count": 46,
     "metadata": {},
     "output_type": "execute_result"
    }
   ],
   "source": [
    "# создаем пустой словарь актёров\n",
    "actors_dict = {}\n",
    "# цикл парсинга актёров\n",
    "for string_number in data[data.budget > data.budget.mean()].index:\n",
    "    for actor in data.loc[string_number].cast.split('|'):\n",
    "        if actor in actors_dict:\n",
    "            actors_dict[actor] += 1\n",
    "        else:\n",
    "            actors_dict[actor] = 1\n",
    "# вывод максимального значения\n",
    "max(actors_dict, key=actors_dict.get)"
   ]
  },
  {
   "cell_type": "markdown",
   "metadata": {
    "colab_type": "text",
    "id": "NIh6AaW5Vp_n"
   },
   "source": [
    "# 17. В фильмах какого жанра больше всего снимался Nicolas Cage? "
   ]
  },
  {
   "cell_type": "code",
   "execution_count": 47,
   "metadata": {
    "colab": {},
    "colab_type": "code",
    "id": "H74SJDIBVp_n"
   },
   "outputs": [],
   "source": [
    "answers['17'] = '17. Action'\n",
    "# +"
   ]
  },
  {
   "cell_type": "code",
   "execution_count": 48,
   "metadata": {
    "scrolled": true
   },
   "outputs": [
    {
     "data": {
      "text/plain": [
       "'Action'"
      ]
     },
     "execution_count": 48,
     "metadata": {},
     "output_type": "execute_result"
    }
   ],
   "source": [
    "# создаем пустой словарь жанров\n",
    "genres_dict = {}\n",
    "# цикл парсинга жанров\n",
    "for string_number in data[data.cast.str.contains('Nicolas Cage')].index:\n",
    "    for genre in data.loc[string_number].genres.split('|'):\n",
    "        if genre in genres_dict:\n",
    "            genres_dict[genre] += 1\n",
    "        else:\n",
    "            genres_dict[genre] = 1\n",
    "# вывод максимального значения\n",
    "max(genres_dict, key=genres_dict.get)"
   ]
  },
  {
   "cell_type": "markdown",
   "metadata": {
    "colab_type": "text",
    "id": "RqOmPRfWVp_q"
   },
   "source": [
    "# 18. Самый убыточный фильм от Paramount Pictures"
   ]
  },
  {
   "cell_type": "code",
   "execution_count": 49,
   "metadata": {
    "colab": {},
    "colab_type": "code",
    "id": "9E_B0Y96Vp_r"
   },
   "outputs": [],
   "source": [
    "answers['18'] = '18. K-19: The Widowmaker (tt0267626)'\n",
    "# +"
   ]
  },
  {
   "cell_type": "code",
   "execution_count": 50,
   "metadata": {},
   "outputs": [
    {
     "data": {
      "text/html": [
       "<div>\n",
       "<style scoped>\n",
       "    .dataframe tbody tr th:only-of-type {\n",
       "        vertical-align: middle;\n",
       "    }\n",
       "\n",
       "    .dataframe tbody tr th {\n",
       "        vertical-align: top;\n",
       "    }\n",
       "\n",
       "    .dataframe thead th {\n",
       "        text-align: right;\n",
       "    }\n",
       "</style>\n",
       "<table border=\"1\" class=\"dataframe\">\n",
       "  <thead>\n",
       "    <tr style=\"text-align: right;\">\n",
       "      <th></th>\n",
       "      <th>imdb_id</th>\n",
       "      <th>budget</th>\n",
       "      <th>revenue</th>\n",
       "      <th>original_title</th>\n",
       "      <th>cast</th>\n",
       "      <th>director</th>\n",
       "      <th>tagline</th>\n",
       "      <th>overview</th>\n",
       "      <th>runtime</th>\n",
       "      <th>genres</th>\n",
       "      <th>production_companies</th>\n",
       "      <th>release_date</th>\n",
       "      <th>vote_average</th>\n",
       "      <th>release_year</th>\n",
       "      <th>profit</th>\n",
       "      <th>month</th>\n",
       "      <th>len_overview</th>\n",
       "      <th>cast_list</th>\n",
       "    </tr>\n",
       "  </thead>\n",
       "  <tbody>\n",
       "    <tr>\n",
       "      <th>925</th>\n",
       "      <td>tt0267626</td>\n",
       "      <td>100000000</td>\n",
       "      <td>35168966</td>\n",
       "      <td>K-19: The Widowmaker</td>\n",
       "      <td>Harrison Ford|Liam Neeson|Peter Sarsgaard|Joss...</td>\n",
       "      <td>Kathryn Bigelow</td>\n",
       "      <td>Fate has found its hero.</td>\n",
       "      <td>When Russia's first nuclear submarine malfunct...</td>\n",
       "      <td>138</td>\n",
       "      <td>Thriller|Drama|History</td>\n",
       "      <td>Paramount Pictures|Intermedia Films|National G...</td>\n",
       "      <td>2002-07-19</td>\n",
       "      <td>6.0</td>\n",
       "      <td>2002</td>\n",
       "      <td>-64831034</td>\n",
       "      <td>07</td>\n",
       "      <td>23</td>\n",
       "      <td>[Harrison Ford, Liam Neeson, Peter Sarsgaard, ...</td>\n",
       "    </tr>\n",
       "  </tbody>\n",
       "</table>\n",
       "</div>"
      ],
      "text/plain": [
       "       imdb_id     budget   revenue        original_title  \\\n",
       "925  tt0267626  100000000  35168966  K-19: The Widowmaker   \n",
       "\n",
       "                                                  cast         director  \\\n",
       "925  Harrison Ford|Liam Neeson|Peter Sarsgaard|Joss...  Kathryn Bigelow   \n",
       "\n",
       "                      tagline  \\\n",
       "925  Fate has found its hero.   \n",
       "\n",
       "                                              overview  runtime  \\\n",
       "925  When Russia's first nuclear submarine malfunct...      138   \n",
       "\n",
       "                     genres  \\\n",
       "925  Thriller|Drama|History   \n",
       "\n",
       "                                  production_companies release_date  \\\n",
       "925  Paramount Pictures|Intermedia Films|National G...   2002-07-19   \n",
       "\n",
       "     vote_average  release_year    profit month  len_overview  \\\n",
       "925           6.0          2002 -64831034    07            23   \n",
       "\n",
       "                                             cast_list  \n",
       "925  [Harrison Ford, Liam Neeson, Peter Sarsgaard, ...  "
      ]
     },
     "execution_count": 50,
     "metadata": {},
     "output_type": "execute_result"
    }
   ],
   "source": [
    "data[data.production_companies.str.contains('Paramount Pictures')].sort_values(by='profit').head(1)"
   ]
  },
  {
   "cell_type": "markdown",
   "metadata": {
    "colab_type": "text",
    "id": "vS8Ur6ddVp_u"
   },
   "source": [
    "# 19. Какой год стал самым успешным по суммарным кассовым сборам?"
   ]
  },
  {
   "cell_type": "code",
   "execution_count": 51,
   "metadata": {
    "colab": {},
    "colab_type": "code",
    "id": "Dnbt4GdIVp_v"
   },
   "outputs": [],
   "source": [
    "answers['19'] = '19. 2015'\n",
    "# +"
   ]
  },
  {
   "cell_type": "code",
   "execution_count": 52,
   "metadata": {},
   "outputs": [
    {
     "data": {
      "text/html": [
       "<div>\n",
       "<style scoped>\n",
       "    .dataframe tbody tr th:only-of-type {\n",
       "        vertical-align: middle;\n",
       "    }\n",
       "\n",
       "    .dataframe tbody tr th {\n",
       "        vertical-align: top;\n",
       "    }\n",
       "\n",
       "    .dataframe thead th {\n",
       "        text-align: right;\n",
       "    }\n",
       "</style>\n",
       "<table border=\"1\" class=\"dataframe\">\n",
       "  <thead>\n",
       "    <tr style=\"text-align: right;\">\n",
       "      <th></th>\n",
       "      <th>revenue</th>\n",
       "    </tr>\n",
       "    <tr>\n",
       "      <th>release_year</th>\n",
       "      <th></th>\n",
       "    </tr>\n",
       "  </thead>\n",
       "  <tbody>\n",
       "    <tr>\n",
       "      <th>2015</th>\n",
       "      <td>25449202382</td>\n",
       "    </tr>\n",
       "  </tbody>\n",
       "</table>\n",
       "</div>"
      ],
      "text/plain": [
       "                  revenue\n",
       "release_year             \n",
       "2015          25449202382"
      ]
     },
     "execution_count": 52,
     "metadata": {},
     "output_type": "execute_result"
    }
   ],
   "source": [
    "data[['release_year', 'revenue']].groupby(by='release_year').sum().sort_values(by='revenue', ascending=False).head(1)"
   ]
  },
  {
   "cell_type": "markdown",
   "metadata": {
    "colab_type": "text",
    "id": "JAzJh4QAVp_z"
   },
   "source": [
    "# 20. Какой самый прибыльный год для студии Warner Bros?"
   ]
  },
  {
   "cell_type": "code",
   "execution_count": 53,
   "metadata": {
    "colab": {},
    "colab_type": "code",
    "id": "wgVu02DEVp_0"
   },
   "outputs": [],
   "source": [
    "answers['20'] = '20. 2014'\n",
    "# +"
   ]
  },
  {
   "cell_type": "code",
   "execution_count": 54,
   "metadata": {},
   "outputs": [
    {
     "data": {
      "text/plain": [
       "release_year\n",
       "2014    2295464519\n",
       "Name: profit, dtype: int64"
      ]
     },
     "execution_count": 54,
     "metadata": {},
     "output_type": "execute_result"
    }
   ],
   "source": [
    "data[data.production_companies.str.contains('Warner Bros')].groupby(by='release_year').sum().sort_values(by='profit', ascending=False)['profit'].head(1)"
   ]
  },
  {
   "cell_type": "markdown",
   "metadata": {
    "colab_type": "text",
    "id": "8Im1S2HRVp_4"
   },
   "source": [
    "# 21. В каком месяце за все годы суммарно вышло больше всего фильмов?"
   ]
  },
  {
   "cell_type": "code",
   "execution_count": 55,
   "metadata": {
    "colab": {},
    "colab_type": "code",
    "id": "lev6TH7gVp_4"
   },
   "outputs": [],
   "source": [
    "answers['21'] = '21. Сентябрь'\n",
    "# +"
   ]
  },
  {
   "cell_type": "code",
   "execution_count": 56,
   "metadata": {},
   "outputs": [
    {
     "data": {
      "text/plain": [
       "9"
      ]
     },
     "execution_count": 56,
     "metadata": {},
     "output_type": "execute_result"
    }
   ],
   "source": [
    "# создаем пустой словарь месяцев\n",
    "months_dict = {}\n",
    "# цикл парсинга месяцев\n",
    "for string_number in data.index:\n",
    "    month = data.loc[string_number].release_date.month\n",
    "    if month in months_dict:\n",
    "        months_dict[month] += 1\n",
    "    else:\n",
    "        months_dict[month] = 1\n",
    "# вывод максимального значения\n",
    "max(months_dict, key=months_dict.get)"
   ]
  },
  {
   "cell_type": "markdown",
   "metadata": {
    "colab_type": "text",
    "id": "uAJsZ_NeVp_7"
   },
   "source": [
    "# 22. Сколько суммарно вышло фильмов летом? (за июнь, июль, август)"
   ]
  },
  {
   "cell_type": "code",
   "execution_count": 57,
   "metadata": {
    "colab": {},
    "colab_type": "code",
    "id": "Aa-hEREoVp_8"
   },
   "outputs": [],
   "source": [
    "answers['22'] = '22. 450'\n",
    "# +"
   ]
  },
  {
   "cell_type": "code",
   "execution_count": 58,
   "metadata": {},
   "outputs": [
    {
     "data": {
      "text/plain": [
       "450"
      ]
     },
     "execution_count": 58,
     "metadata": {},
     "output_type": "execute_result"
    }
   ],
   "source": [
    "months_dict[6] + months_dict[7] + months_dict[8]"
   ]
  },
  {
   "cell_type": "markdown",
   "metadata": {
    "colab_type": "text",
    "id": "G94ppOY1VqAA"
   },
   "source": [
    "# 23. Для какого режиссера зима – самое продуктивное время года? "
   ]
  },
  {
   "cell_type": "code",
   "execution_count": 59,
   "metadata": {
    "colab": {},
    "colab_type": "code",
    "id": "RhNTsamuVqAB"
   },
   "outputs": [],
   "source": [
    "answers['23'] = '23. Peter Jackson'\n",
    "# +"
   ]
  },
  {
   "cell_type": "code",
   "execution_count": 60,
   "metadata": {},
   "outputs": [
    {
     "data": {
      "text/plain": [
       "'Peter Jackson'"
      ]
     },
     "execution_count": 60,
     "metadata": {},
     "output_type": "execute_result"
    }
   ],
   "source": [
    "# создаем пустой словарь режиссёров\n",
    "directors_dict = {}\n",
    "# цикл парсинга режиссёров\n",
    "for string_number in data[(data.month == '01') | (data.month == '02') | (data.month == '12')].index:\n",
    "    for director in data.loc[string_number].director.split('|'):\n",
    "        if director in directors_dict:\n",
    "            directors_dict[director] += 1\n",
    "        else:\n",
    "            directors_dict[director] = 1\n",
    "# вывод максимального значения\n",
    "max(directors_dict, key=directors_dict.get)"
   ]
  },
  {
   "cell_type": "markdown",
   "metadata": {
    "colab_type": "text",
    "id": "RBo0JVjVVqAF"
   },
   "source": [
    "# 24. Какая студия дает самые длинные названия своим фильмам по количеству символов?"
   ]
  },
  {
   "cell_type": "code",
   "execution_count": 61,
   "metadata": {
    "colab": {},
    "colab_type": "code",
    "id": "QRGS8L0iVqAG"
   },
   "outputs": [],
   "source": [
    "answers['24'] = '24. Four By Two Productions'\n",
    "# +"
   ]
  },
  {
   "cell_type": "code",
   "execution_count": 62,
   "metadata": {},
   "outputs": [
    {
     "data": {
      "text/plain": [
       "'Universal Pictures'"
      ]
     },
     "execution_count": 62,
     "metadata": {},
     "output_type": "execute_result"
    }
   ],
   "source": [
    "# Ответ неправильный\n",
    "# создаем пустой словарь студий\n",
    "production_companies_dict = {}\n",
    "# цикл парсинга студий\n",
    "for string_number in data[data.original_title.apply(len) > data.original_title.apply(len).mean()].index:\n",
    "    for production_company in data.loc[string_number].production_companies.split('|'):\n",
    "        if production_company in production_companies_dict:\n",
    "            production_companies_dict[production_company] += 1\n",
    "        else:\n",
    "            production_companies_dict[production_company] = 1\n",
    "# вывод максимального значения\n",
    "max(production_companies_dict, key=production_companies_dict.get)"
   ]
  },
  {
   "cell_type": "code",
   "execution_count": 63,
   "metadata": {},
   "outputs": [
    {
     "data": {
      "text/plain": [
       "'Four By Two Productions'"
      ]
     },
     "execution_count": 63,
     "metadata": {},
     "output_type": "execute_result"
    }
   ],
   "source": [
    "# Ответ правильный\n",
    "# создаем пустой словарь студий\n",
    "production_companies_dict = {}\n",
    "# цикл парсинга студий\n",
    "for string_number in data.index:\n",
    "    for production_company in data.loc[string_number].production_companies.split('|'):\n",
    "        if production_company in production_companies_dict:\n",
    "            production_companies_dict[production_company].append(len(data.loc[string_number].original_title))\n",
    "        else:\n",
    "            production_companies_dict[production_company] = [len(data.loc[string_number].original_title)]\n",
    "\n",
    "# создаем пустой среднего количества символов в названии фильма\n",
    "mean_len_original_title_dict = {}\n",
    "# цикл парсинга среднего количества символов в названии фильма\n",
    "for production_company, len_original_title in production_companies_dict.items():\n",
    "    mean_len_original_title_dict[production_company] = np.mean(len_original_title)\n",
    "# вывод максимального значения\n",
    "max(mean_len_original_title_dict, key=mean_len_original_title_dict.get)"
   ]
  },
  {
   "cell_type": "markdown",
   "metadata": {
    "colab_type": "text",
    "id": "9G0hbvR7VqAK"
   },
   "source": [
    "# 25. Описание фильмов какой студии в среднем самые длинные по количеству слов?"
   ]
  },
  {
   "cell_type": "code",
   "execution_count": 64,
   "metadata": {
    "colab": {},
    "colab_type": "code",
    "id": "Ge2GsLNxVqAK"
   },
   "outputs": [],
   "source": [
    "answers['25'] = '25. Midnight Picture Show'\n",
    "# +"
   ]
  },
  {
   "cell_type": "code",
   "execution_count": 65,
   "metadata": {
    "scrolled": true
   },
   "outputs": [
    {
     "data": {
      "text/plain": [
       "'Midnight Picture Show'"
      ]
     },
     "execution_count": 65,
     "metadata": {},
     "output_type": "execute_result"
    }
   ],
   "source": [
    "# создаем пустой словарь студий\n",
    "production_companies_dict = {}\n",
    "# цикл парсинга студий\n",
    "for string_number in data.index:\n",
    "    for production_company in data.loc[string_number].production_companies.split('|'):\n",
    "        if production_company in production_companies_dict:\n",
    "            production_companies_dict[production_company].append(data.loc[string_number].len_overview)\n",
    "        else:\n",
    "            production_companies_dict[production_company] = [data.loc[string_number].len_overview]\n",
    "\n",
    "# создаем пустой среднего количества слов в описании фильма\n",
    "mean_len_overview_dict = {}\n",
    "# цикл парсинга среднего количества слов в описании фильма\n",
    "for production_company, mean_len in production_companies_dict.items():\n",
    "    mean_len_overview_dict[production_company] = np.mean(mean_len)\n",
    "# вывод максимального значения\n",
    "max(mean_len_overview_dict, key=mean_len_overview_dict.get)"
   ]
  },
  {
   "cell_type": "markdown",
   "metadata": {
    "colab_type": "text",
    "id": "FJ1AFt90VqAP"
   },
   "source": [
    "# 26. Какие фильмы входят в 1 процент лучших по рейтингу? \n",
    "по vote_average"
   ]
  },
  {
   "cell_type": "code",
   "execution_count": 66,
   "metadata": {
    "colab": {},
    "colab_type": "code",
    "id": "8qmJVq4CVqAQ"
   },
   "outputs": [],
   "source": [
    "answers['26'] = '26. Inside Out, The Dark Knight, 12 Years a Slave'\n",
    "# +"
   ]
  },
  {
   "cell_type": "code",
   "execution_count": 67,
   "metadata": {},
   "outputs": [
    {
     "data": {
      "text/html": [
       "<div>\n",
       "<style scoped>\n",
       "    .dataframe tbody tr th:only-of-type {\n",
       "        vertical-align: middle;\n",
       "    }\n",
       "\n",
       "    .dataframe tbody tr th {\n",
       "        vertical-align: top;\n",
       "    }\n",
       "\n",
       "    .dataframe thead th {\n",
       "        text-align: right;\n",
       "    }\n",
       "</style>\n",
       "<table border=\"1\" class=\"dataframe\">\n",
       "  <thead>\n",
       "    <tr style=\"text-align: right;\">\n",
       "      <th></th>\n",
       "      <th>imdb_id</th>\n",
       "      <th>budget</th>\n",
       "      <th>revenue</th>\n",
       "      <th>original_title</th>\n",
       "      <th>cast</th>\n",
       "      <th>director</th>\n",
       "      <th>tagline</th>\n",
       "      <th>overview</th>\n",
       "      <th>runtime</th>\n",
       "      <th>genres</th>\n",
       "      <th>production_companies</th>\n",
       "      <th>release_date</th>\n",
       "      <th>vote_average</th>\n",
       "      <th>release_year</th>\n",
       "      <th>profit</th>\n",
       "      <th>month</th>\n",
       "      <th>len_overview</th>\n",
       "      <th>cast_list</th>\n",
       "    </tr>\n",
       "  </thead>\n",
       "  <tbody>\n",
       "    <tr>\n",
       "      <th>599</th>\n",
       "      <td>tt0468569</td>\n",
       "      <td>185000000</td>\n",
       "      <td>1001921825</td>\n",
       "      <td>The Dark Knight</td>\n",
       "      <td>Christian Bale|Michael Caine|Heath Ledger|Aaro...</td>\n",
       "      <td>Christopher Nolan</td>\n",
       "      <td>Why So Serious?</td>\n",
       "      <td>Batman raises the stakes in his war on crime. ...</td>\n",
       "      <td>152</td>\n",
       "      <td>Drama|Action|Crime|Thriller</td>\n",
       "      <td>DC Comics|Legendary Pictures|Warner Bros.|Syncopy</td>\n",
       "      <td>2008-07-16</td>\n",
       "      <td>8.1</td>\n",
       "      <td>2008</td>\n",
       "      <td>816921825</td>\n",
       "      <td>07</td>\n",
       "      <td>67</td>\n",
       "      <td>[Christian Bale, Michael Caine, Heath Ledger, ...</td>\n",
       "    </tr>\n",
       "    <tr>\n",
       "      <th>118</th>\n",
       "      <td>tt0816692</td>\n",
       "      <td>165000000</td>\n",
       "      <td>621752480</td>\n",
       "      <td>Interstellar</td>\n",
       "      <td>Matthew McConaughey|Jessica Chastain|Anne Hath...</td>\n",
       "      <td>Christopher Nolan</td>\n",
       "      <td>Mankind was born on Earth. It was never meant ...</td>\n",
       "      <td>Interstellar chronicles the adventures of a gr...</td>\n",
       "      <td>169</td>\n",
       "      <td>Adventure|Drama|Science Fiction</td>\n",
       "      <td>Paramount Pictures|Legendary Pictures|Warner B...</td>\n",
       "      <td>2014-11-05</td>\n",
       "      <td>8.0</td>\n",
       "      <td>2014</td>\n",
       "      <td>456752480</td>\n",
       "      <td>11</td>\n",
       "      <td>35</td>\n",
       "      <td>[Matthew McConaughey, Jessica Chastain, Anne H...</td>\n",
       "    </tr>\n",
       "    <tr>\n",
       "      <th>125</th>\n",
       "      <td>tt2084970</td>\n",
       "      <td>14000000</td>\n",
       "      <td>233555708</td>\n",
       "      <td>The Imitation Game</td>\n",
       "      <td>Benedict Cumberbatch|Keira Knightley|Matthew G...</td>\n",
       "      <td>Morten Tyldum</td>\n",
       "      <td>The true enigma was the man who cracked the code.</td>\n",
       "      <td>Based on the real life story of legendary cryp...</td>\n",
       "      <td>113</td>\n",
       "      <td>History|Drama|Thriller|War</td>\n",
       "      <td>Black Bear Pictures|Bristol Automotive</td>\n",
       "      <td>2014-11-14</td>\n",
       "      <td>8.0</td>\n",
       "      <td>2014</td>\n",
       "      <td>219555708</td>\n",
       "      <td>11</td>\n",
       "      <td>46</td>\n",
       "      <td>[Benedict Cumberbatch, Keira Knightley, Matthe...</td>\n",
       "    </tr>\n",
       "    <tr>\n",
       "      <th>9</th>\n",
       "      <td>tt2096673</td>\n",
       "      <td>175000000</td>\n",
       "      <td>853708609</td>\n",
       "      <td>Inside Out</td>\n",
       "      <td>Amy Poehler|Phyllis Smith|Richard Kind|Bill Ha...</td>\n",
       "      <td>Pete Docter</td>\n",
       "      <td>Meet the little voices inside your head.</td>\n",
       "      <td>Growing up can be a bumpy road, and it's no ex...</td>\n",
       "      <td>94</td>\n",
       "      <td>Comedy|Animation|Family</td>\n",
       "      <td>Walt Disney Pictures|Pixar Animation Studios|W...</td>\n",
       "      <td>2015-06-09</td>\n",
       "      <td>8.0</td>\n",
       "      <td>2015</td>\n",
       "      <td>678708609</td>\n",
       "      <td>06</td>\n",
       "      <td>112</td>\n",
       "      <td>[Amy Poehler, Phyllis Smith, Richard Kind, Bil...</td>\n",
       "    </tr>\n",
       "    <tr>\n",
       "      <th>34</th>\n",
       "      <td>tt3170832</td>\n",
       "      <td>6000000</td>\n",
       "      <td>35401758</td>\n",
       "      <td>Room</td>\n",
       "      <td>Brie Larson|Jacob Tremblay|Joan Allen|Sean Bri...</td>\n",
       "      <td>Lenny Abrahamson</td>\n",
       "      <td>Love knows no boundaries</td>\n",
       "      <td>Jack is a young boy of 5 years old who has liv...</td>\n",
       "      <td>117</td>\n",
       "      <td>Drama|Thriller</td>\n",
       "      <td>Element Pictures|No Trace Camping|A24|Duperele...</td>\n",
       "      <td>2015-10-16</td>\n",
       "      <td>8.0</td>\n",
       "      <td>2015</td>\n",
       "      <td>29401758</td>\n",
       "      <td>10</td>\n",
       "      <td>49</td>\n",
       "      <td>[Brie Larson, Jacob Tremblay, Joan Allen, Sean...</td>\n",
       "    </tr>\n",
       "    <tr>\n",
       "      <th>1183</th>\n",
       "      <td>tt0993846</td>\n",
       "      <td>100000000</td>\n",
       "      <td>392000694</td>\n",
       "      <td>The Wolf of Wall Street</td>\n",
       "      <td>Leonardo DiCaprio|Jonah Hill|Margot Robbie|Kyl...</td>\n",
       "      <td>Martin Scorsese</td>\n",
       "      <td>EARN. SPEND. PARTY.</td>\n",
       "      <td>A New York stockbroker refuses to cooperate in...</td>\n",
       "      <td>180</td>\n",
       "      <td>Crime|Drama|Comedy</td>\n",
       "      <td>Paramount Pictures|Appian Way|EMJAG Production...</td>\n",
       "      <td>2013-12-25</td>\n",
       "      <td>7.9</td>\n",
       "      <td>2013</td>\n",
       "      <td>292000694</td>\n",
       "      <td>12</td>\n",
       "      <td>29</td>\n",
       "      <td>[Leonardo DiCaprio, Jonah Hill, Margot Robbie,...</td>\n",
       "    </tr>\n",
       "    <tr>\n",
       "      <th>128</th>\n",
       "      <td>tt2267998</td>\n",
       "      <td>61000000</td>\n",
       "      <td>369330363</td>\n",
       "      <td>Gone Girl</td>\n",
       "      <td>Ben Affleck|Rosamund Pike|Carrie Coon|Neil Pat...</td>\n",
       "      <td>David Fincher</td>\n",
       "      <td>You don't know what you've got 'til it's...</td>\n",
       "      <td>With his wife's disappearance having become th...</td>\n",
       "      <td>145</td>\n",
       "      <td>Mystery|Thriller|Drama</td>\n",
       "      <td>Twentieth Century Fox Film Corporation|Regency...</td>\n",
       "      <td>2014-10-01</td>\n",
       "      <td>7.9</td>\n",
       "      <td>2014</td>\n",
       "      <td>308330363</td>\n",
       "      <td>10</td>\n",
       "      <td>30</td>\n",
       "      <td>[Ben Affleck, Rosamund Pike, Carrie Coon, Neil...</td>\n",
       "    </tr>\n",
       "    <tr>\n",
       "      <th>1191</th>\n",
       "      <td>tt2024544</td>\n",
       "      <td>20000000</td>\n",
       "      <td>187000000</td>\n",
       "      <td>12 Years a Slave</td>\n",
       "      <td>Chiwetel Ejiofor|Michael Fassbender|Lupita Nyo...</td>\n",
       "      <td>Steve McQueen</td>\n",
       "      <td>The extraordinary true story of Solomon Northup</td>\n",
       "      <td>In the pre-Civil War United States, Solomon No...</td>\n",
       "      <td>134</td>\n",
       "      <td>Drama|History</td>\n",
       "      <td>Plan B Entertainment|Regency Enterprises|River...</td>\n",
       "      <td>2013-10-18</td>\n",
       "      <td>7.9</td>\n",
       "      <td>2013</td>\n",
       "      <td>167000000</td>\n",
       "      <td>10</td>\n",
       "      <td>61</td>\n",
       "      <td>[Chiwetel Ejiofor, Michael Fassbender, Lupita ...</td>\n",
       "    </tr>\n",
       "    <tr>\n",
       "      <th>119</th>\n",
       "      <td>tt2015381</td>\n",
       "      <td>170000000</td>\n",
       "      <td>773312399</td>\n",
       "      <td>Guardians of the Galaxy</td>\n",
       "      <td>Chris Pratt|Zoe Saldana|Dave Bautista|Vin Dies...</td>\n",
       "      <td>James Gunn</td>\n",
       "      <td>All heroes start somewhere.</td>\n",
       "      <td>Light years from Earth, 26 years after being a...</td>\n",
       "      <td>121</td>\n",
       "      <td>Action|Science Fiction|Adventure</td>\n",
       "      <td>Marvel Studios|Moving Picture Company (MPC)|Bu...</td>\n",
       "      <td>2014-07-30</td>\n",
       "      <td>7.9</td>\n",
       "      <td>2014</td>\n",
       "      <td>603312399</td>\n",
       "      <td>07</td>\n",
       "      <td>28</td>\n",
       "      <td>[Chris Pratt, Zoe Saldana, Dave Bautista, Vin ...</td>\n",
       "    </tr>\n",
       "    <tr>\n",
       "      <th>1081</th>\n",
       "      <td>tt0167260</td>\n",
       "      <td>94000000</td>\n",
       "      <td>1118888979</td>\n",
       "      <td>The Lord of the Rings: The Return of the King</td>\n",
       "      <td>Elijah Wood|Ian McKellen|Viggo Mortensen|Liv T...</td>\n",
       "      <td>Peter Jackson</td>\n",
       "      <td>The eye of the enemy is moving.</td>\n",
       "      <td>Aragorn is revealed as the heir to the ancient...</td>\n",
       "      <td>201</td>\n",
       "      <td>Adventure|Fantasy|Action</td>\n",
       "      <td>WingNut Films|New Line Cinema</td>\n",
       "      <td>2003-12-01</td>\n",
       "      <td>7.9</td>\n",
       "      <td>2003</td>\n",
       "      <td>1024888979</td>\n",
       "      <td>12</td>\n",
       "      <td>45</td>\n",
       "      <td>[Elijah Wood, Ian McKellen, Viggo Mortensen, L...</td>\n",
       "    </tr>\n",
       "    <tr>\n",
       "      <th>1800</th>\n",
       "      <td>tt0209144</td>\n",
       "      <td>9000000</td>\n",
       "      <td>39723096</td>\n",
       "      <td>Memento</td>\n",
       "      <td>Guy Pearce|Carrie-Anne Moss|Joe Pantoliano|Mar...</td>\n",
       "      <td>Christopher Nolan</td>\n",
       "      <td>Some memories are best forgotten.</td>\n",
       "      <td>Suffering short-term memory loss after a head ...</td>\n",
       "      <td>113</td>\n",
       "      <td>Mystery|Thriller</td>\n",
       "      <td>Summit Entertainment|Newmarket Capital Group|T...</td>\n",
       "      <td>2000-10-11</td>\n",
       "      <td>7.9</td>\n",
       "      <td>2000</td>\n",
       "      <td>30723096</td>\n",
       "      <td>10</td>\n",
       "      <td>78</td>\n",
       "      <td>[Guy Pearce, Carrie-Anne Moss, Joe Pantoliano,...</td>\n",
       "    </tr>\n",
       "    <tr>\n",
       "      <th>370</th>\n",
       "      <td>tt1375666</td>\n",
       "      <td>160000000</td>\n",
       "      <td>825500000</td>\n",
       "      <td>Inception</td>\n",
       "      <td>Leonardo DiCaprio|Joseph Gordon-Levitt|Ellen P...</td>\n",
       "      <td>Christopher Nolan</td>\n",
       "      <td>Your mind is the scene of the crime.</td>\n",
       "      <td>Cobb, a skilled thief who commits corporate es...</td>\n",
       "      <td>148</td>\n",
       "      <td>Action|Thriller|Science Fiction|Mystery|Adventure</td>\n",
       "      <td>Legendary Pictures|Warner Bros.|Syncopy</td>\n",
       "      <td>2010-07-14</td>\n",
       "      <td>7.9</td>\n",
       "      <td>2010</td>\n",
       "      <td>665500000</td>\n",
       "      <td>07</td>\n",
       "      <td>44</td>\n",
       "      <td>[Leonardo DiCaprio, Joseph Gordon-Levitt, Elle...</td>\n",
       "    </tr>\n",
       "    <tr>\n",
       "      <th>872</th>\n",
       "      <td>tt0253474</td>\n",
       "      <td>35000000</td>\n",
       "      <td>120072577</td>\n",
       "      <td>The Pianist</td>\n",
       "      <td>Adrien Brody|Thomas Kretschmann|Frank Finlay|M...</td>\n",
       "      <td>Roman Polanski</td>\n",
       "      <td>Music was his passion. Survival was his master...</td>\n",
       "      <td>The Pianist is a film adapted from the biograp...</td>\n",
       "      <td>150</td>\n",
       "      <td>Drama|War</td>\n",
       "      <td>Bac Films|Canal+Polska|Heritage Films|Studio B...</td>\n",
       "      <td>2002-09-24</td>\n",
       "      <td>7.9</td>\n",
       "      <td>2002</td>\n",
       "      <td>85072577</td>\n",
       "      <td>09</td>\n",
       "      <td>39</td>\n",
       "      <td>[Adrien Brody, Thomas Kretschmann, Frank Finla...</td>\n",
       "    </tr>\n",
       "    <tr>\n",
       "      <th>138</th>\n",
       "      <td>tt2278388</td>\n",
       "      <td>30000000</td>\n",
       "      <td>174600318</td>\n",
       "      <td>The Grand Budapest Hotel</td>\n",
       "      <td>Ralph Fiennes|Tony Revolori|F. Murray Abraham|...</td>\n",
       "      <td>Wes Anderson</td>\n",
       "      <td>A perfect holiday without leaving home.</td>\n",
       "      <td>The Grand Budapest Hotel tells of a legendary ...</td>\n",
       "      <td>99</td>\n",
       "      <td>Comedy|Drama</td>\n",
       "      <td>Fox Searchlight Pictures|Scott Rudin Productio...</td>\n",
       "      <td>2014-02-26</td>\n",
       "      <td>7.9</td>\n",
       "      <td>2014</td>\n",
       "      <td>144600318</td>\n",
       "      <td>02</td>\n",
       "      <td>66</td>\n",
       "      <td>[Ralph Fiennes, Tony Revolori, F. Murray Abrah...</td>\n",
       "    </tr>\n",
       "    <tr>\n",
       "      <th>1188</th>\n",
       "      <td>tt1798709</td>\n",
       "      <td>23000000</td>\n",
       "      <td>47351251</td>\n",
       "      <td>Her</td>\n",
       "      <td>Joaquin Phoenix|Scarlett Johansson|Rooney Mara...</td>\n",
       "      <td>Spike Jonze</td>\n",
       "      <td>A Spike Jonze Love Story</td>\n",
       "      <td>In the not so distant future, Theodore, a lone...</td>\n",
       "      <td>126</td>\n",
       "      <td>Romance|Science Fiction|Drama</td>\n",
       "      <td>Annapurna Pictures</td>\n",
       "      <td>2013-12-18</td>\n",
       "      <td>7.8</td>\n",
       "      <td>2013</td>\n",
       "      <td>24351251</td>\n",
       "      <td>12</td>\n",
       "      <td>65</td>\n",
       "      <td>[Joaquin Phoenix, Scarlett Johansson, Rooney M...</td>\n",
       "    </tr>\n",
       "    <tr>\n",
       "      <th>28</th>\n",
       "      <td>tt1895587</td>\n",
       "      <td>20000000</td>\n",
       "      <td>88346473</td>\n",
       "      <td>Spotlight</td>\n",
       "      <td>Mark Ruffalo|Michael Keaton|Rachel McAdams|Lie...</td>\n",
       "      <td>Tom McCarthy</td>\n",
       "      <td>Break the story. Break the silence.</td>\n",
       "      <td>The true story of how The Boston Globe uncover...</td>\n",
       "      <td>128</td>\n",
       "      <td>Drama|Thriller|History</td>\n",
       "      <td>Participant Media|Open Road Films|Anonymous Co...</td>\n",
       "      <td>2015-11-06</td>\n",
       "      <td>7.8</td>\n",
       "      <td>2015</td>\n",
       "      <td>68346473</td>\n",
       "      <td>11</td>\n",
       "      <td>30</td>\n",
       "      <td>[Mark Ruffalo, Michael Keaton, Rachel McAdams,...</td>\n",
       "    </tr>\n",
       "    <tr>\n",
       "      <th>124</th>\n",
       "      <td>tt2245084</td>\n",
       "      <td>165000000</td>\n",
       "      <td>652105443</td>\n",
       "      <td>Big Hero 6</td>\n",
       "      <td>Scott Adsit|Ryan Potter|Daniel Henney|T.J. Mil...</td>\n",
       "      <td>Don Hall|Chris Williams</td>\n",
       "      <td>From the creators of Wreck-it Ralph and Frozen</td>\n",
       "      <td>The special bond that develops between plus-si...</td>\n",
       "      <td>102</td>\n",
       "      <td>Adventure|Family|Animation|Action|Comedy</td>\n",
       "      <td>Walt Disney Pictures|Walt Disney Animation Stu...</td>\n",
       "      <td>2014-10-24</td>\n",
       "      <td>7.8</td>\n",
       "      <td>2014</td>\n",
       "      <td>487105443</td>\n",
       "      <td>10</td>\n",
       "      <td>29</td>\n",
       "      <td>[Scott Adsit, Ryan Potter, Daniel Henney, T.J....</td>\n",
       "    </tr>\n",
       "    <tr>\n",
       "      <th>177</th>\n",
       "      <td>tt2582846</td>\n",
       "      <td>12000000</td>\n",
       "      <td>305151265</td>\n",
       "      <td>The Fault in Our Stars</td>\n",
       "      <td>Shailene Woodley|Ansel Elgort|Nat Wolff|Laura ...</td>\n",
       "      <td>Josh Boone</td>\n",
       "      <td>One Sick Love Story</td>\n",
       "      <td>Despite the tumor-shrinking medical miracle th...</td>\n",
       "      <td>125</td>\n",
       "      <td>Romance|Drama</td>\n",
       "      <td>Fox 2000 Pictures|Temple Hill Entertainment|TS...</td>\n",
       "      <td>2014-05-16</td>\n",
       "      <td>7.8</td>\n",
       "      <td>2014</td>\n",
       "      <td>293151265</td>\n",
       "      <td>05</td>\n",
       "      <td>47</td>\n",
       "      <td>[Shailene Woodley, Ansel Elgort, Nat Wolff, La...</td>\n",
       "    </tr>\n",
       "    <tr>\n",
       "      <th>863</th>\n",
       "      <td>tt0167261</td>\n",
       "      <td>79000000</td>\n",
       "      <td>926287400</td>\n",
       "      <td>The Lord of the Rings: The Two Towers</td>\n",
       "      <td>Elijah Wood|Ian McKellen|Viggo Mortensen|Liv T...</td>\n",
       "      <td>Peter Jackson</td>\n",
       "      <td>A New Power Is Rising.</td>\n",
       "      <td>Frodo and Sam are trekking to Mordor to destro...</td>\n",
       "      <td>179</td>\n",
       "      <td>Adventure|Fantasy|Action</td>\n",
       "      <td>WingNut Films|New Line Cinema|The Saul Zaentz ...</td>\n",
       "      <td>2002-12-18</td>\n",
       "      <td>7.8</td>\n",
       "      <td>2002</td>\n",
       "      <td>847287400</td>\n",
       "      <td>12</td>\n",
       "      <td>41</td>\n",
       "      <td>[Elijah Wood, Ian McKellen, Viggo Mortensen, L...</td>\n",
       "    </tr>\n",
       "  </tbody>\n",
       "</table>\n",
       "</div>"
      ],
      "text/plain": [
       "        imdb_id     budget     revenue  \\\n",
       "599   tt0468569  185000000  1001921825   \n",
       "118   tt0816692  165000000   621752480   \n",
       "125   tt2084970   14000000   233555708   \n",
       "9     tt2096673  175000000   853708609   \n",
       "34    tt3170832    6000000    35401758   \n",
       "1183  tt0993846  100000000   392000694   \n",
       "128   tt2267998   61000000   369330363   \n",
       "1191  tt2024544   20000000   187000000   \n",
       "119   tt2015381  170000000   773312399   \n",
       "1081  tt0167260   94000000  1118888979   \n",
       "1800  tt0209144    9000000    39723096   \n",
       "370   tt1375666  160000000   825500000   \n",
       "872   tt0253474   35000000   120072577   \n",
       "138   tt2278388   30000000   174600318   \n",
       "1188  tt1798709   23000000    47351251   \n",
       "28    tt1895587   20000000    88346473   \n",
       "124   tt2245084  165000000   652105443   \n",
       "177   tt2582846   12000000   305151265   \n",
       "863   tt0167261   79000000   926287400   \n",
       "\n",
       "                                     original_title  \\\n",
       "599                                 The Dark Knight   \n",
       "118                                    Interstellar   \n",
       "125                              The Imitation Game   \n",
       "9                                        Inside Out   \n",
       "34                                             Room   \n",
       "1183                        The Wolf of Wall Street   \n",
       "128                                       Gone Girl   \n",
       "1191                               12 Years a Slave   \n",
       "119                         Guardians of the Galaxy   \n",
       "1081  The Lord of the Rings: The Return of the King   \n",
       "1800                                        Memento   \n",
       "370                                       Inception   \n",
       "872                                     The Pianist   \n",
       "138                        The Grand Budapest Hotel   \n",
       "1188                                            Her   \n",
       "28                                        Spotlight   \n",
       "124                                      Big Hero 6   \n",
       "177                          The Fault in Our Stars   \n",
       "863           The Lord of the Rings: The Two Towers   \n",
       "\n",
       "                                                   cast  \\\n",
       "599   Christian Bale|Michael Caine|Heath Ledger|Aaro...   \n",
       "118   Matthew McConaughey|Jessica Chastain|Anne Hath...   \n",
       "125   Benedict Cumberbatch|Keira Knightley|Matthew G...   \n",
       "9     Amy Poehler|Phyllis Smith|Richard Kind|Bill Ha...   \n",
       "34    Brie Larson|Jacob Tremblay|Joan Allen|Sean Bri...   \n",
       "1183  Leonardo DiCaprio|Jonah Hill|Margot Robbie|Kyl...   \n",
       "128   Ben Affleck|Rosamund Pike|Carrie Coon|Neil Pat...   \n",
       "1191  Chiwetel Ejiofor|Michael Fassbender|Lupita Nyo...   \n",
       "119   Chris Pratt|Zoe Saldana|Dave Bautista|Vin Dies...   \n",
       "1081  Elijah Wood|Ian McKellen|Viggo Mortensen|Liv T...   \n",
       "1800  Guy Pearce|Carrie-Anne Moss|Joe Pantoliano|Mar...   \n",
       "370   Leonardo DiCaprio|Joseph Gordon-Levitt|Ellen P...   \n",
       "872   Adrien Brody|Thomas Kretschmann|Frank Finlay|M...   \n",
       "138   Ralph Fiennes|Tony Revolori|F. Murray Abraham|...   \n",
       "1188  Joaquin Phoenix|Scarlett Johansson|Rooney Mara...   \n",
       "28    Mark Ruffalo|Michael Keaton|Rachel McAdams|Lie...   \n",
       "124   Scott Adsit|Ryan Potter|Daniel Henney|T.J. Mil...   \n",
       "177   Shailene Woodley|Ansel Elgort|Nat Wolff|Laura ...   \n",
       "863   Elijah Wood|Ian McKellen|Viggo Mortensen|Liv T...   \n",
       "\n",
       "                     director  \\\n",
       "599         Christopher Nolan   \n",
       "118         Christopher Nolan   \n",
       "125             Morten Tyldum   \n",
       "9                 Pete Docter   \n",
       "34           Lenny Abrahamson   \n",
       "1183          Martin Scorsese   \n",
       "128             David Fincher   \n",
       "1191            Steve McQueen   \n",
       "119                James Gunn   \n",
       "1081            Peter Jackson   \n",
       "1800        Christopher Nolan   \n",
       "370         Christopher Nolan   \n",
       "872            Roman Polanski   \n",
       "138              Wes Anderson   \n",
       "1188              Spike Jonze   \n",
       "28               Tom McCarthy   \n",
       "124   Don Hall|Chris Williams   \n",
       "177                Josh Boone   \n",
       "863             Peter Jackson   \n",
       "\n",
       "                                                tagline  \\\n",
       "599                                     Why So Serious?   \n",
       "118   Mankind was born on Earth. It was never meant ...   \n",
       "125   The true enigma was the man who cracked the code.   \n",
       "9              Meet the little voices inside your head.   \n",
       "34                             Love knows no boundaries   \n",
       "1183                                EARN. SPEND. PARTY.   \n",
       "128         You don't know what you've got 'til it's...   \n",
       "1191    The extraordinary true story of Solomon Northup   \n",
       "119                         All heroes start somewhere.   \n",
       "1081                    The eye of the enemy is moving.   \n",
       "1800                  Some memories are best forgotten.   \n",
       "370                Your mind is the scene of the crime.   \n",
       "872   Music was his passion. Survival was his master...   \n",
       "138             A perfect holiday without leaving home.   \n",
       "1188                           A Spike Jonze Love Story   \n",
       "28                  Break the story. Break the silence.   \n",
       "124      From the creators of Wreck-it Ralph and Frozen   \n",
       "177                                 One Sick Love Story   \n",
       "863                              A New Power Is Rising.   \n",
       "\n",
       "                                               overview  runtime  \\\n",
       "599   Batman raises the stakes in his war on crime. ...      152   \n",
       "118   Interstellar chronicles the adventures of a gr...      169   \n",
       "125   Based on the real life story of legendary cryp...      113   \n",
       "9     Growing up can be a bumpy road, and it's no ex...       94   \n",
       "34    Jack is a young boy of 5 years old who has liv...      117   \n",
       "1183  A New York stockbroker refuses to cooperate in...      180   \n",
       "128   With his wife's disappearance having become th...      145   \n",
       "1191  In the pre-Civil War United States, Solomon No...      134   \n",
       "119   Light years from Earth, 26 years after being a...      121   \n",
       "1081  Aragorn is revealed as the heir to the ancient...      201   \n",
       "1800  Suffering short-term memory loss after a head ...      113   \n",
       "370   Cobb, a skilled thief who commits corporate es...      148   \n",
       "872   The Pianist is a film adapted from the biograp...      150   \n",
       "138   The Grand Budapest Hotel tells of a legendary ...       99   \n",
       "1188  In the not so distant future, Theodore, a lone...      126   \n",
       "28    The true story of how The Boston Globe uncover...      128   \n",
       "124   The special bond that develops between plus-si...      102   \n",
       "177   Despite the tumor-shrinking medical miracle th...      125   \n",
       "863   Frodo and Sam are trekking to Mordor to destro...      179   \n",
       "\n",
       "                                                 genres  \\\n",
       "599                         Drama|Action|Crime|Thriller   \n",
       "118                     Adventure|Drama|Science Fiction   \n",
       "125                          History|Drama|Thriller|War   \n",
       "9                               Comedy|Animation|Family   \n",
       "34                                       Drama|Thriller   \n",
       "1183                                 Crime|Drama|Comedy   \n",
       "128                              Mystery|Thriller|Drama   \n",
       "1191                                      Drama|History   \n",
       "119                    Action|Science Fiction|Adventure   \n",
       "1081                           Adventure|Fantasy|Action   \n",
       "1800                                   Mystery|Thriller   \n",
       "370   Action|Thriller|Science Fiction|Mystery|Adventure   \n",
       "872                                           Drama|War   \n",
       "138                                        Comedy|Drama   \n",
       "1188                      Romance|Science Fiction|Drama   \n",
       "28                               Drama|Thriller|History   \n",
       "124            Adventure|Family|Animation|Action|Comedy   \n",
       "177                                       Romance|Drama   \n",
       "863                            Adventure|Fantasy|Action   \n",
       "\n",
       "                                   production_companies release_date  \\\n",
       "599   DC Comics|Legendary Pictures|Warner Bros.|Syncopy   2008-07-16   \n",
       "118   Paramount Pictures|Legendary Pictures|Warner B...   2014-11-05   \n",
       "125              Black Bear Pictures|Bristol Automotive   2014-11-14   \n",
       "9     Walt Disney Pictures|Pixar Animation Studios|W...   2015-06-09   \n",
       "34    Element Pictures|No Trace Camping|A24|Duperele...   2015-10-16   \n",
       "1183  Paramount Pictures|Appian Way|EMJAG Production...   2013-12-25   \n",
       "128   Twentieth Century Fox Film Corporation|Regency...   2014-10-01   \n",
       "1191  Plan B Entertainment|Regency Enterprises|River...   2013-10-18   \n",
       "119   Marvel Studios|Moving Picture Company (MPC)|Bu...   2014-07-30   \n",
       "1081                      WingNut Films|New Line Cinema   2003-12-01   \n",
       "1800  Summit Entertainment|Newmarket Capital Group|T...   2000-10-11   \n",
       "370             Legendary Pictures|Warner Bros.|Syncopy   2010-07-14   \n",
       "872   Bac Films|Canal+Polska|Heritage Films|Studio B...   2002-09-24   \n",
       "138   Fox Searchlight Pictures|Scott Rudin Productio...   2014-02-26   \n",
       "1188                                 Annapurna Pictures   2013-12-18   \n",
       "28    Participant Media|Open Road Films|Anonymous Co...   2015-11-06   \n",
       "124   Walt Disney Pictures|Walt Disney Animation Stu...   2014-10-24   \n",
       "177   Fox 2000 Pictures|Temple Hill Entertainment|TS...   2014-05-16   \n",
       "863   WingNut Films|New Line Cinema|The Saul Zaentz ...   2002-12-18   \n",
       "\n",
       "      vote_average  release_year      profit month  len_overview  \\\n",
       "599            8.1          2008   816921825    07            67   \n",
       "118            8.0          2014   456752480    11            35   \n",
       "125            8.0          2014   219555708    11            46   \n",
       "9              8.0          2015   678708609    06           112   \n",
       "34             8.0          2015    29401758    10            49   \n",
       "1183           7.9          2013   292000694    12            29   \n",
       "128            7.9          2014   308330363    10            30   \n",
       "1191           7.9          2013   167000000    10            61   \n",
       "119            7.9          2014   603312399    07            28   \n",
       "1081           7.9          2003  1024888979    12            45   \n",
       "1800           7.9          2000    30723096    10            78   \n",
       "370            7.9          2010   665500000    07            44   \n",
       "872            7.9          2002    85072577    09            39   \n",
       "138            7.9          2014   144600318    02            66   \n",
       "1188           7.8          2013    24351251    12            65   \n",
       "28             7.8          2015    68346473    11            30   \n",
       "124            7.8          2014   487105443    10            29   \n",
       "177            7.8          2014   293151265    05            47   \n",
       "863            7.8          2002   847287400    12            41   \n",
       "\n",
       "                                              cast_list  \n",
       "599   [Christian Bale, Michael Caine, Heath Ledger, ...  \n",
       "118   [Matthew McConaughey, Jessica Chastain, Anne H...  \n",
       "125   [Benedict Cumberbatch, Keira Knightley, Matthe...  \n",
       "9     [Amy Poehler, Phyllis Smith, Richard Kind, Bil...  \n",
       "34    [Brie Larson, Jacob Tremblay, Joan Allen, Sean...  \n",
       "1183  [Leonardo DiCaprio, Jonah Hill, Margot Robbie,...  \n",
       "128   [Ben Affleck, Rosamund Pike, Carrie Coon, Neil...  \n",
       "1191  [Chiwetel Ejiofor, Michael Fassbender, Lupita ...  \n",
       "119   [Chris Pratt, Zoe Saldana, Dave Bautista, Vin ...  \n",
       "1081  [Elijah Wood, Ian McKellen, Viggo Mortensen, L...  \n",
       "1800  [Guy Pearce, Carrie-Anne Moss, Joe Pantoliano,...  \n",
       "370   [Leonardo DiCaprio, Joseph Gordon-Levitt, Elle...  \n",
       "872   [Adrien Brody, Thomas Kretschmann, Frank Finla...  \n",
       "138   [Ralph Fiennes, Tony Revolori, F. Murray Abrah...  \n",
       "1188  [Joaquin Phoenix, Scarlett Johansson, Rooney M...  \n",
       "28    [Mark Ruffalo, Michael Keaton, Rachel McAdams,...  \n",
       "124   [Scott Adsit, Ryan Potter, Daniel Henney, T.J....  \n",
       "177   [Shailene Woodley, Ansel Elgort, Nat Wolff, La...  \n",
       "863   [Elijah Wood, Ian McKellen, Viggo Mortensen, L...  "
      ]
     },
     "execution_count": 67,
     "metadata": {},
     "output_type": "execute_result"
    }
   ],
   "source": [
    "data.sort_values(by='vote_average', ascending=False).head(round(data.shape[0]/100))"
   ]
  },
  {
   "cell_type": "markdown",
   "metadata": {
    "colab_type": "text",
    "id": "MdXsUXbCVqAV"
   },
   "source": [
    "# 27. Какие актеры чаще всего снимаются в одном фильме вместе?\n"
   ]
  },
  {
   "cell_type": "code",
   "execution_count": 68,
   "metadata": {},
   "outputs": [],
   "source": [
    "answers['27'] = '27. Daniel Radcliffe & Rupert Grint'\n",
    "# +"
   ]
  },
  {
   "cell_type": "code",
   "execution_count": 69,
   "metadata": {},
   "outputs": [
    {
     "data": {
      "text/plain": [
       "Daniel Radcliffe  Emma Watson             8\n",
       "                  Rupert Grint            8\n",
       "Rupert Grint      Emma Watson             7\n",
       "Johnny Depp       Helena Bonham Carter    6\n",
       "Ben Stiller       Owen Wilson             6\n",
       "                                         ..\n",
       "Emma Stone        Josh Brolin             1\n",
       "Ryan Gosling      Nick Nolte              1\n",
       "                  Josh Brolin             1\n",
       "Sean Penn         Nick Nolte              1\n",
       "Chris Pratt       Bryce Dallas Howard     1\n",
       "Length: 18121, dtype: int64"
      ]
     },
     "execution_count": 69,
     "metadata": {},
     "output_type": "execute_result"
    }
   ],
   "source": [
    "# создаем пустой временный список пар актеров\n",
    "temp_cast_list = []\n",
    "# создаем пустой список пар актеров\n",
    "cast_list = []\n",
    "# цикл наполнения временного списка пар актеров\n",
    "for string_number in data.index:\n",
    "    temp_cast_list.append(list(itertools.combinations(data.cast_list.loc[string_number], 2)))\n",
    "# цикл наполнения основного списка пар актеров\n",
    "for element in temp_cast_list:\n",
    "    for couple in element:\n",
    "        cast_list.append(couple)\n",
    "pd.Series(Counter(cast_list)).sort_values(ascending=False)"
   ]
  },
  {
   "cell_type": "markdown",
   "metadata": {
    "colab_type": "text",
    "id": "U0nONFnGVqAX"
   },
   "source": [
    "# Submission"
   ]
  },
  {
   "cell_type": "code",
   "execution_count": 70,
   "metadata": {
    "colab": {},
    "colab_type": "code",
    "id": "IfcaRO9-VqAX",
    "outputId": "0f132912-32bb-4196-c98c-abfbc4ad5a5f"
   },
   "outputs": [
    {
     "data": {
      "text/plain": [
       "{'1': '1. Pirates of the Caribbean: On Stranger Tides (tt1298650)',\n",
       " '2': '2. Gods and Generals (tt0279111)',\n",
       " '3': '3. Winnie the Pooh (tt1449283)',\n",
       " '4': '4. 110',\n",
       " '5': '5. 107',\n",
       " '6': '6. Avatar (tt0499549)',\n",
       " '7': '7. The Lone Ranger (tt1210819)',\n",
       " '8': ' 8. 1478',\n",
       " '9': '9. The Dark Knight (tt0468569)',\n",
       " '10': '10. The Lone Ranger (tt1210819)',\n",
       " '11': '11. Drama',\n",
       " '12': '12. Drama',\n",
       " '13': '13. Peter Jackson',\n",
       " '14': '14. Robert Rodriguez',\n",
       " '15': '15. Chris Hemsworth',\n",
       " '16': '16. Matt Damon',\n",
       " '17': '17. Action',\n",
       " '18': '18. K-19: The Widowmaker (tt0267626)',\n",
       " '19': '19. 2015',\n",
       " '20': '20. 2014',\n",
       " '21': '21. Сентябрь',\n",
       " '22': '22. 450',\n",
       " '23': '23. Peter Jackson',\n",
       " '24': '24. Four By Two Productions',\n",
       " '25': '25. Midnight Picture Show',\n",
       " '26': '26. Inside Out, The Dark Knight, 12 Years a Slave',\n",
       " '27': '27. Daniel Radcliffe & Rupert Grint'}"
      ]
     },
     "execution_count": 70,
     "metadata": {},
     "output_type": "execute_result"
    }
   ],
   "source": [
    "# в конце можно посмотреть свои ответы к каждому вопросу\n",
    "answers"
   ]
  },
  {
   "cell_type": "code",
   "execution_count": 71,
   "metadata": {
    "colab": {},
    "colab_type": "code",
    "id": "SiRmHPl8VqAd"
   },
   "outputs": [
    {
     "data": {
      "text/plain": [
       "27"
      ]
     },
     "execution_count": 71,
     "metadata": {},
     "output_type": "execute_result"
    }
   ],
   "source": [
    "# и убедиться что ни чего не пропустил)\n",
    "len(answers)"
   ]
  }
 ],
 "metadata": {
  "colab": {
   "name": "Copy of [SF-DST] Movies IMBD v4.1 TEMPLATE.ipynb",
   "provenance": []
  },
  "kernelspec": {
   "display_name": "Python 3",
   "language": "python",
   "name": "python3"
  },
  "language_info": {
   "codemirror_mode": {
    "name": "ipython",
    "version": 3
   },
   "file_extension": ".py",
   "mimetype": "text/x-python",
   "name": "python",
   "nbconvert_exporter": "python",
   "pygments_lexer": "ipython3",
   "version": "3.7.9"
  }
 },
 "nbformat": 4,
 "nbformat_minor": 1
}
