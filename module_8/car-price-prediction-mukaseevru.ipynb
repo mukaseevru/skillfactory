{
 "cells": [
  {
   "cell_type": "markdown",
   "metadata": {
    "papermill": {
     "duration": 0.021737,
     "end_time": "2020-09-01T14:09:08.801712",
     "exception": false,
     "start_time": "2020-09-01T14:09:08.779975",
     "status": "completed"
    },
    "tags": []
   },
   "source": [
    "# Car Price prediction\n",
    "\n",
    "<img src=\"https://whatcar.vn/media/2018/09/car-lot-940x470.jpg\"/>\n",
    "\n",
    "## Прогнозирование стоимости автомобиля по характеристикам\n",
    "*Этот ноутбук является шаблоном (Baseline) к текущему соревнованию и не служит готовым решением!*   \n",
    "Вы можете использовать его как основу для построения своего решения.\n",
    "\n",
    "\n",
    "> **Baseline** создается больше как шаблон, где можно посмотреть, как происходит обращение с входящими данными и что нужно получить на выходе. При этом ML начинка может быть достаточно простой. Это помогает быстрее приступить к самому ML, а не тратить ценное время на инженерные задачи. \n",
    "Также baseline является хорошей опорной точкой по метрике. Если наше решение хуже baseline -  мы явно делаем что-то не так и стоит попробовать другой путь) "
   ]
  },
  {
   "cell_type": "markdown",
   "metadata": {
    "papermill": {
     "duration": 0.020797,
     "end_time": "2020-09-01T14:09:08.844159",
     "exception": false,
     "start_time": "2020-09-01T14:09:08.823362",
     "status": "completed"
    },
    "tags": []
   },
   "source": [
    "## В baseline мы сделаем следующее:\n",
    "* Построим \"наивную\"/baseline модель, предсказывающую цену по модели и году выпуска (с ней будем сравнивать другие модели)\n",
    "* Обработаем и отнормируем признаки\n",
    "* Сделаем первую модель на основе градиентного бустинга с помощью CatBoost\n",
    "* Сделаем вторую модель на основе нейронных сетей и сравним результаты\n",
    "* Сделаем multi-input нейронную сеть для анализа табличных данных и текста одновременно\n",
    "* Добавим в multi-input сеть обработку изображений\n",
    "* Осуществим ансамблирование градиентного бустинга и нейронной сети (усреднение их предсказаний)"
   ]
  },
  {
   "cell_type": "code",
   "execution_count": null,
   "metadata": {
    "_kg_hide-input": true,
    "execution": {
     "iopub.execute_input": "2021-11-24T15:51:23.41661Z",
     "iopub.status.busy": "2021-11-24T15:51:23.415944Z",
     "iopub.status.idle": "2021-11-24T15:52:40.488728Z",
     "shell.execute_reply": "2021-11-24T15:52:40.487752Z",
     "shell.execute_reply.started": "2021-11-24T15:51:23.416424Z"
    },
    "papermill": {
     "duration": 9.242505,
     "end_time": "2020-09-01T14:09:18.107857",
     "exception": false,
     "start_time": "2020-09-01T14:09:08.865352",
     "status": "completed"
    },
    "tags": []
   },
   "outputs": [],
   "source": [
    "!pip install -q tensorflow==2.3"
   ]
  },
  {
   "cell_type": "code",
   "execution_count": null,
   "metadata": {
    "_kg_hide-input": true,
    "execution": {
     "iopub.execute_input": "2021-11-24T15:52:40.492267Z",
     "iopub.status.busy": "2021-11-24T15:52:40.491922Z",
     "iopub.status.idle": "2021-11-24T15:52:50.843563Z",
     "shell.execute_reply": "2021-11-24T15:52:50.842435Z",
     "shell.execute_reply.started": "2021-11-24T15:52:40.492224Z"
    },
    "papermill": {
     "duration": 7.442899,
     "end_time": "2020-09-01T14:09:25.573314",
     "exception": false,
     "start_time": "2020-09-01T14:09:18.130415",
     "status": "completed"
    },
    "tags": []
   },
   "outputs": [],
   "source": [
    "#аугментации изображений\n",
    "!pip install albumentations -q"
   ]
  },
  {
   "cell_type": "code",
   "execution_count": null,
   "metadata": {
    "execution": {
     "iopub.execute_input": "2021-11-24T15:52:50.847304Z",
     "iopub.status.busy": "2021-11-24T15:52:50.846933Z",
     "iopub.status.idle": "2021-11-24T15:53:15.590967Z",
     "shell.execute_reply": "2021-11-24T15:53:15.589838Z",
     "shell.execute_reply.started": "2021-11-24T15:52:50.847238Z"
    }
   },
   "outputs": [],
   "source": [
    "!pip install pymorphy2\n",
    "!pip install pymorphy2-dicts"
   ]
  },
  {
   "cell_type": "code",
   "execution_count": null,
   "metadata": {
    "_cell_guid": "b1076dfc-b9ad-4769-8c92-a6c4dae69d19",
    "_kg_hide-input": true,
    "_uuid": "8f2839f25d086af736a60e9eeb907d3b93b6e0e5",
    "execution": {
     "iopub.execute_input": "2021-11-24T15:53:15.59349Z",
     "iopub.status.busy": "2021-11-24T15:53:15.593073Z",
     "iopub.status.idle": "2021-11-24T15:53:20.689218Z",
     "shell.execute_reply": "2021-11-24T15:53:20.688183Z",
     "shell.execute_reply.started": "2021-11-24T15:53:15.593439Z"
    },
    "papermill": {
     "duration": 8.868092,
     "end_time": "2020-09-01T14:09:34.462785",
     "exception": false,
     "start_time": "2020-09-01T14:09:25.594693",
     "status": "completed"
    },
    "tags": []
   },
   "outputs": [],
   "source": [
    "# This Python 3 environment comes with many helpful analytics libraries installed\n",
    "# It is defined by the kaggle/python Docker image: https://github.com/kaggle/docker-python\n",
    "# For example, here's several helpful packages to load\n",
    "\n",
    "import random\n",
    "import numpy as np # linear algebra\n",
    "import pandas as pd # data processing, CSV file I/O (e.g. pd.read_csv)\n",
    "import os\n",
    "import sys\n",
    "import PIL\n",
    "import cv2\n",
    "import re\n",
    "import pymorphy2\n",
    "\n",
    "# Input data files are available in the read-only \"../input/\" directory\n",
    "# For example, running this (by clicking run or pressing Shift+Enter) will list all files under the input directory\n",
    "\n",
    "from catboost import CatBoostRegressor\n",
    "from sklearn.model_selection import train_test_split\n",
    "from sklearn.preprocessing import MinMaxScaler, RobustScaler\n",
    "\n",
    "# # keras\n",
    "import tensorflow as tf\n",
    "import tensorflow.keras.layers as L\n",
    "from tensorflow.keras.models import Model, Sequential\n",
    "from tensorflow.keras.preprocessing.text import Tokenizer\n",
    "from tensorflow.keras.preprocessing import sequence\n",
    "from tensorflow.keras.callbacks import ModelCheckpoint, EarlyStopping\n",
    "import albumentations\n",
    "\n",
    "# plt\n",
    "import seaborn as sns\n",
    "import matplotlib.pyplot as plt\n",
    "#увеличим дефолтный размер графиков\n",
    "from pylab import rcParams\n",
    "rcParams['figure.figsize'] = 10, 5\n",
    "#графики в svg выглядят более четкими\n",
    "%config InlineBackend.figure_format = 'svg' \n",
    "%matplotlib inline\n",
    "\n",
    "# You can write up to 5GB to the current directory (/kaggle/working/) that gets preserved as output when you create a version using \"Save & Run All\" \n",
    "# You can also write temporary files to /kaggle/temp/, but they won't be saved outside of the current session"
   ]
  },
  {
   "cell_type": "code",
   "execution_count": null,
   "metadata": {
    "_kg_hide-input": true,
    "execution": {
     "iopub.execute_input": "2021-11-24T15:53:20.692473Z",
     "iopub.status.busy": "2021-11-24T15:53:20.692205Z",
     "iopub.status.idle": "2021-11-24T15:53:20.705493Z",
     "shell.execute_reply": "2021-11-24T15:53:20.701119Z",
     "shell.execute_reply.started": "2021-11-24T15:53:20.692441Z"
    },
    "papermill": {
     "duration": 0.09073,
     "end_time": "2020-09-01T14:09:34.595938",
     "exception": false,
     "start_time": "2020-09-01T14:09:34.505208",
     "status": "completed"
    },
    "tags": []
   },
   "outputs": [],
   "source": [
    "print('Python       :', sys.version.split('\\n')[0])\n",
    "print('Numpy        :', np.__version__)\n",
    "print('Tensorflow   :', tf.__version__)"
   ]
  },
  {
   "cell_type": "code",
   "execution_count": null,
   "metadata": {
    "_kg_hide-input": true,
    "execution": {
     "iopub.execute_input": "2021-11-24T15:53:20.709182Z",
     "iopub.status.busy": "2021-11-24T15:53:20.707708Z",
     "iopub.status.idle": "2021-11-24T15:53:20.729879Z",
     "shell.execute_reply": "2021-11-24T15:53:20.728675Z",
     "shell.execute_reply.started": "2021-11-24T15:53:20.709132Z"
    },
    "papermill": {
     "duration": 0.041954,
     "end_time": "2020-09-01T14:09:34.704402",
     "exception": false,
     "start_time": "2020-09-01T14:09:34.662448",
     "status": "completed"
    },
    "tags": []
   },
   "outputs": [],
   "source": [
    "# Функция определения MAPE\n",
    "def MAPE(y_true, y_pred):\n",
    "    return np.mean(np.abs((y_pred-y_true)/y_true))\n",
    "\n",
    "# Функция определения возраста владельца\n",
    "def owners_age(string):\n",
    "    age = 0\n",
    "    if type(string) == str:\n",
    "        strings = string.split(' ')\n",
    "        if len(strings) > 3:\n",
    "            if \"лет\" in strings[1]  or \"год\" in strings[1]:\n",
    "                age = age + int(strings[0])\n",
    "            else:\n",
    "                age = age + int(strings[0]) / 10\n",
    "            if \"месяцев\" in strings[4] or \"месяц\" in strings[4]:\n",
    "                age = age + int(strings[3]) / 10\n",
    "        else:\n",
    "            if \"лет\" in strings[1]  or \"год\" in strings[1]:\n",
    "                age = age + int(strings[0])\n",
    "            if \"месяцев\" in strings[1] or \"месяц\" in strings[1]:\n",
    "                age = age + int(strings[0]) / 10\n",
    "    else:\n",
    "        return -1\n",
    "    return age\n",
    "\n",
    "# Функция определения количества владельцев\n",
    "def owners_count(string):\n",
    "    if type(string) == str:\n",
    "        return int(string[0])\n",
    "    return -1\n",
    "\n",
    "# Функция определения объема двигателя\n",
    "def engine_capasity(string):\n",
    "    if string == 'undefined LTR':\n",
    "        string = '1.3 LTR'\n",
    "    return float(str(string).split()[0])*1000"
   ]
  },
  {
   "cell_type": "code",
   "execution_count": null,
   "metadata": {
    "_kg_hide-input": true,
    "execution": {
     "iopub.execute_input": "2021-11-24T15:53:20.733209Z",
     "iopub.status.busy": "2021-11-24T15:53:20.732957Z",
     "iopub.status.idle": "2021-11-24T15:53:20.741743Z",
     "shell.execute_reply": "2021-11-24T15:53:20.740358Z",
     "shell.execute_reply.started": "2021-11-24T15:53:20.733179Z"
    },
    "papermill": {
     "duration": 0.044374,
     "end_time": "2020-09-01T14:09:34.779999",
     "exception": false,
     "start_time": "2020-09-01T14:09:34.735625",
     "status": "completed"
    },
    "tags": []
   },
   "outputs": [],
   "source": [
    "# всегда фиксируйте RANDOM_SEED, чтобы ваши эксперименты были воспроизводимы!\n",
    "RANDOM_SEED = 21\n",
    "np.random.seed(RANDOM_SEED)"
   ]
  },
  {
   "cell_type": "code",
   "execution_count": null,
   "metadata": {
    "_kg_hide-input": true,
    "execution": {
     "iopub.execute_input": "2021-11-24T15:53:20.744105Z",
     "iopub.status.busy": "2021-11-24T15:53:20.743592Z",
     "iopub.status.idle": "2021-11-24T15:53:24.483334Z",
     "shell.execute_reply": "2021-11-24T15:53:24.482035Z",
     "shell.execute_reply.started": "2021-11-24T15:53:20.744056Z"
    },
    "papermill": {
     "duration": 3.474472,
     "end_time": "2020-09-01T14:09:38.287126",
     "exception": false,
     "start_time": "2020-09-01T14:09:34.812654",
     "status": "completed"
    },
    "tags": []
   },
   "outputs": [],
   "source": [
    "!pip freeze > requirements.txt"
   ]
  },
  {
   "cell_type": "markdown",
   "metadata": {
    "papermill": {
     "duration": 0.022077,
     "end_time": "2020-09-01T14:09:38.331343",
     "exception": false,
     "start_time": "2020-09-01T14:09:38.309266",
     "status": "completed"
    },
    "tags": []
   },
   "source": [
    "# DATA"
   ]
  },
  {
   "cell_type": "markdown",
   "metadata": {
    "papermill": {
     "duration": 0.021291,
     "end_time": "2020-09-01T14:09:38.374795",
     "exception": false,
     "start_time": "2020-09-01T14:09:38.353504",
     "status": "completed"
    },
    "tags": []
   },
   "source": [
    "Посмотрим на типы признаков:\n",
    "\n",
    "* bodyType - категориальный\n",
    "* brand - категориальный\n",
    "* color - категориальный\n",
    "* description - текстовый\n",
    "* engineDisplacement - числовой, представленный как текст\n",
    "* enginePower - числовой, представленный как текст\n",
    "* fuelType - категориальный\n",
    "* mileage - числовой\n",
    "* modelDate - числовой\n",
    "* model_info - категориальный\n",
    "* name - категориальный, желательно сократить размерность\n",
    "* numberOfDoors - категориальный\n",
    "* price - числовой, целевой\n",
    "* productionDate - числовой\n",
    "* sell_id - изображение (файл доступен по адресу, основанному на sell_id)\n",
    "* vehicleConfiguration - не используется (комбинация других столбцов)\n",
    "* vehicleTransmission - категориальный\n",
    "* Владельцы - категориальный\n",
    "* Владение - числовой, представленный как текст\n",
    "* ПТС - категориальный\n",
    "* Привод - категориальный\n",
    "* Руль - категориальный"
   ]
  },
  {
   "cell_type": "code",
   "execution_count": null,
   "metadata": {
    "_cell_guid": "79c7e3d0-c299-4dcb-8224-4455121ee9b0",
    "_uuid": "d629ff2d2480ee46fbb7e2d37f6b5fab8052498a",
    "execution": {
     "iopub.execute_input": "2021-11-24T15:53:24.485974Z",
     "iopub.status.busy": "2021-11-24T15:53:24.48552Z",
     "iopub.status.idle": "2021-11-24T15:53:25.187861Z",
     "shell.execute_reply": "2021-11-24T15:53:25.186701Z",
     "shell.execute_reply.started": "2021-11-24T15:53:24.485911Z"
    },
    "papermill": {
     "duration": 0.261441,
     "end_time": "2020-09-01T14:09:38.65767",
     "exception": false,
     "start_time": "2020-09-01T14:09:38.396229",
     "status": "completed"
    },
    "tags": []
   },
   "outputs": [],
   "source": [
    "DATA_DIR = '../input/sf-dst-car-price-prediction-part2/'\n",
    "train = pd.read_csv(DATA_DIR + 'train.csv')\n",
    "test = pd.read_csv(DATA_DIR + 'test.csv')\n",
    "sample_submission = pd.read_csv(DATA_DIR + 'sample_submission.csv')"
   ]
  },
  {
   "cell_type": "code",
   "execution_count": null,
   "metadata": {
    "execution": {
     "iopub.execute_input": "2021-11-24T15:53:25.189898Z",
     "iopub.status.busy": "2021-11-24T15:53:25.189551Z",
     "iopub.status.idle": "2021-11-24T15:53:25.236131Z",
     "shell.execute_reply": "2021-11-24T15:53:25.235065Z",
     "shell.execute_reply.started": "2021-11-24T15:53:25.189854Z"
    },
    "papermill": {
     "duration": 0.066467,
     "end_time": "2020-09-01T14:09:38.745904",
     "exception": false,
     "start_time": "2020-09-01T14:09:38.679437",
     "status": "completed"
    },
    "tags": []
   },
   "outputs": [],
   "source": [
    "train.info()"
   ]
  },
  {
   "cell_type": "code",
   "execution_count": null,
   "metadata": {
    "execution": {
     "iopub.execute_input": "2021-11-24T15:53:25.238941Z",
     "iopub.status.busy": "2021-11-24T15:53:25.237932Z",
     "iopub.status.idle": "2021-11-24T15:53:25.319734Z",
     "shell.execute_reply": "2021-11-24T15:53:25.318728Z",
     "shell.execute_reply.started": "2021-11-24T15:53:25.238876Z"
    },
    "papermill": {
     "duration": 0.098086,
     "end_time": "2020-09-01T14:09:38.867211",
     "exception": false,
     "start_time": "2020-09-01T14:09:38.769125",
     "status": "completed"
    },
    "tags": []
   },
   "outputs": [],
   "source": [
    "train.nunique()"
   ]
  },
  {
   "cell_type": "code",
   "execution_count": null,
   "metadata": {
    "execution": {
     "iopub.execute_input": "2021-11-24T15:53:25.32276Z",
     "iopub.status.busy": "2021-11-24T15:53:25.32176Z",
     "iopub.status.idle": "2021-11-24T15:53:25.363859Z",
     "shell.execute_reply": "2021-11-24T15:53:25.362452Z",
     "shell.execute_reply.started": "2021-11-24T15:53:25.322712Z"
    }
   },
   "outputs": [],
   "source": [
    "train.sample(5)"
   ]
  },
  {
   "cell_type": "markdown",
   "metadata": {},
   "source": [
    "Посмотрим на данные"
   ]
  },
  {
   "cell_type": "markdown",
   "metadata": {},
   "source": [
    "**bodyType**"
   ]
  },
  {
   "cell_type": "code",
   "execution_count": null,
   "metadata": {
    "execution": {
     "iopub.execute_input": "2021-11-24T15:53:25.367016Z",
     "iopub.status.busy": "2021-11-24T15:53:25.365869Z",
     "iopub.status.idle": "2021-11-24T15:53:25.828084Z",
     "shell.execute_reply": "2021-11-24T15:53:25.827036Z",
     "shell.execute_reply.started": "2021-11-24T15:53:25.366964Z"
    }
   },
   "outputs": [],
   "source": [
    "train['bodyType'].value_counts().plot.barh() "
   ]
  },
  {
   "cell_type": "markdown",
   "metadata": {},
   "source": [
    "**color**"
   ]
  },
  {
   "cell_type": "code",
   "execution_count": null,
   "metadata": {
    "execution": {
     "iopub.execute_input": "2021-11-24T15:53:25.834831Z",
     "iopub.status.busy": "2021-11-24T15:53:25.833914Z",
     "iopub.status.idle": "2021-11-24T15:53:26.205289Z",
     "shell.execute_reply": "2021-11-24T15:53:26.20439Z",
     "shell.execute_reply.started": "2021-11-24T15:53:25.834781Z"
    }
   },
   "outputs": [],
   "source": [
    "train['color'].value_counts().plot.barh()"
   ]
  },
  {
   "cell_type": "markdown",
   "metadata": {},
   "source": [
    "**fuelType**"
   ]
  },
  {
   "cell_type": "code",
   "execution_count": null,
   "metadata": {
    "execution": {
     "iopub.execute_input": "2021-11-24T15:53:26.207858Z",
     "iopub.status.busy": "2021-11-24T15:53:26.206794Z",
     "iopub.status.idle": "2021-11-24T15:53:26.453383Z",
     "shell.execute_reply": "2021-11-24T15:53:26.452413Z",
     "shell.execute_reply.started": "2021-11-24T15:53:26.207799Z"
    }
   },
   "outputs": [],
   "source": [
    "train['fuelType'].value_counts().plot.barh()"
   ]
  },
  {
   "cell_type": "markdown",
   "metadata": {},
   "source": [
    "**engineDisplacement**"
   ]
  },
  {
   "cell_type": "code",
   "execution_count": null,
   "metadata": {
    "execution": {
     "iopub.execute_input": "2021-11-24T15:53:26.455845Z",
     "iopub.status.busy": "2021-11-24T15:53:26.455483Z",
     "iopub.status.idle": "2021-11-24T15:53:27.278841Z",
     "shell.execute_reply": "2021-11-24T15:53:27.277417Z",
     "shell.execute_reply.started": "2021-11-24T15:53:26.4558Z"
    }
   },
   "outputs": [],
   "source": [
    "train['engineDisplacement'].value_counts().plot.barh()"
   ]
  },
  {
   "cell_type": "markdown",
   "metadata": {},
   "source": [
    "**mileage**"
   ]
  },
  {
   "cell_type": "code",
   "execution_count": null,
   "metadata": {
    "execution": {
     "iopub.execute_input": "2021-11-24T15:53:27.281132Z",
     "iopub.status.busy": "2021-11-24T15:53:27.280603Z",
     "iopub.status.idle": "2021-11-24T15:53:27.600597Z",
     "shell.execute_reply": "2021-11-24T15:53:27.599398Z",
     "shell.execute_reply.started": "2021-11-24T15:53:27.281082Z"
    }
   },
   "outputs": [],
   "source": [
    "train['mileage'].hist()"
   ]
  },
  {
   "cell_type": "markdown",
   "metadata": {},
   "source": [
    "**modelDate**"
   ]
  },
  {
   "cell_type": "code",
   "execution_count": null,
   "metadata": {
    "execution": {
     "iopub.execute_input": "2021-11-24T15:53:27.602624Z",
     "iopub.status.busy": "2021-11-24T15:53:27.602227Z",
     "iopub.status.idle": "2021-11-24T15:53:27.618908Z",
     "shell.execute_reply": "2021-11-24T15:53:27.617693Z",
     "shell.execute_reply.started": "2021-11-24T15:53:27.602575Z"
    }
   },
   "outputs": [],
   "source": [
    "train['modelDate'].describe()"
   ]
  },
  {
   "cell_type": "markdown",
   "metadata": {},
   "source": [
    "**productionDate**"
   ]
  },
  {
   "cell_type": "code",
   "execution_count": null,
   "metadata": {
    "execution": {
     "iopub.execute_input": "2021-11-24T15:53:27.621552Z",
     "iopub.status.busy": "2021-11-24T15:53:27.621003Z",
     "iopub.status.idle": "2021-11-24T15:53:27.635541Z",
     "shell.execute_reply": "2021-11-24T15:53:27.634168Z",
     "shell.execute_reply.started": "2021-11-24T15:53:27.621502Z"
    }
   },
   "outputs": [],
   "source": [
    "train['productionDate'].describe()"
   ]
  },
  {
   "cell_type": "markdown",
   "metadata": {},
   "source": [
    "**numberOfDoors**"
   ]
  },
  {
   "cell_type": "code",
   "execution_count": null,
   "metadata": {
    "execution": {
     "iopub.execute_input": "2021-11-24T15:53:27.637869Z",
     "iopub.status.busy": "2021-11-24T15:53:27.637477Z",
     "iopub.status.idle": "2021-11-24T15:53:27.885596Z",
     "shell.execute_reply": "2021-11-24T15:53:27.884617Z",
     "shell.execute_reply.started": "2021-11-24T15:53:27.637822Z"
    }
   },
   "outputs": [],
   "source": [
    "train['numberOfDoors'].value_counts().plot.barh()"
   ]
  },
  {
   "cell_type": "markdown",
   "metadata": {},
   "source": [
    "**vehicleTransmission**"
   ]
  },
  {
   "cell_type": "code",
   "execution_count": null,
   "metadata": {
    "execution": {
     "iopub.execute_input": "2021-11-24T15:53:27.888055Z",
     "iopub.status.busy": "2021-11-24T15:53:27.887436Z",
     "iopub.status.idle": "2021-11-24T15:53:28.140408Z",
     "shell.execute_reply": "2021-11-24T15:53:28.139412Z",
     "shell.execute_reply.started": "2021-11-24T15:53:27.887978Z"
    }
   },
   "outputs": [],
   "source": [
    "train['vehicleTransmission'].value_counts().plot.barh()"
   ]
  },
  {
   "cell_type": "markdown",
   "metadata": {},
   "source": [
    "**Владельцы**"
   ]
  },
  {
   "cell_type": "code",
   "execution_count": null,
   "metadata": {
    "execution": {
     "iopub.execute_input": "2021-11-24T15:53:28.142854Z",
     "iopub.status.busy": "2021-11-24T15:53:28.142277Z",
     "iopub.status.idle": "2021-11-24T15:53:28.374216Z",
     "shell.execute_reply": "2021-11-24T15:53:28.373221Z",
     "shell.execute_reply.started": "2021-11-24T15:53:28.142809Z"
    }
   },
   "outputs": [],
   "source": [
    "train['Владельцы'].value_counts().plot.barh()"
   ]
  },
  {
   "cell_type": "markdown",
   "metadata": {},
   "source": [
    "**ПТС**"
   ]
  },
  {
   "cell_type": "code",
   "execution_count": null,
   "metadata": {
    "execution": {
     "iopub.execute_input": "2021-11-24T15:53:28.376875Z",
     "iopub.status.busy": "2021-11-24T15:53:28.376179Z",
     "iopub.status.idle": "2021-11-24T15:53:28.722946Z",
     "shell.execute_reply": "2021-11-24T15:53:28.721447Z",
     "shell.execute_reply.started": "2021-11-24T15:53:28.376826Z"
    }
   },
   "outputs": [],
   "source": [
    "train['ПТС'].value_counts().plot.barh()"
   ]
  },
  {
   "cell_type": "markdown",
   "metadata": {},
   "source": [
    "**Привод**"
   ]
  },
  {
   "cell_type": "code",
   "execution_count": null,
   "metadata": {
    "execution": {
     "iopub.execute_input": "2021-11-24T15:53:28.726014Z",
     "iopub.status.busy": "2021-11-24T15:53:28.725563Z",
     "iopub.status.idle": "2021-11-24T15:53:29.089477Z",
     "shell.execute_reply": "2021-11-24T15:53:29.088519Z",
     "shell.execute_reply.started": "2021-11-24T15:53:28.725952Z"
    }
   },
   "outputs": [],
   "source": [
    "train['Привод'].value_counts().plot.barh()"
   ]
  },
  {
   "cell_type": "markdown",
   "metadata": {},
   "source": [
    "**Price**"
   ]
  },
  {
   "cell_type": "code",
   "execution_count": null,
   "metadata": {
    "execution": {
     "iopub.execute_input": "2021-11-24T15:53:29.097518Z",
     "iopub.status.busy": "2021-11-24T15:53:29.094387Z",
     "iopub.status.idle": "2021-11-24T15:53:29.743852Z",
     "shell.execute_reply": "2021-11-24T15:53:29.742819Z",
     "shell.execute_reply.started": "2021-11-24T15:53:29.097449Z"
    }
   },
   "outputs": [],
   "source": [
    "plt.figure(figsize=(15, 3))\n",
    "plt.subplot(1,2,1)\n",
    "plt.title(f\"Распределение price\")\n",
    "sns.distplot(np.log(train['price']), bins=50)\n",
    "\n",
    "plt.subplot(1,2,2)\n",
    "sns.boxplot(train['price'])\n",
    "plt.xlabel('Price')\n",
    "plt.title(f\"Боксплот price\", fontsize=15)\n",
    "plt.show()"
   ]
  },
  {
   "cell_type": "code",
   "execution_count": null,
   "metadata": {
    "execution": {
     "iopub.execute_input": "2021-11-24T15:53:29.746246Z",
     "iopub.status.busy": "2021-11-24T15:53:29.745083Z",
     "iopub.status.idle": "2021-11-24T15:53:30.294434Z",
     "shell.execute_reply": "2021-11-24T15:53:30.293439Z",
     "shell.execute_reply.started": "2021-11-24T15:53:29.746199Z"
    }
   },
   "outputs": [],
   "source": [
    "plt.figure(figsize=(15, 3))\n",
    "plt.subplot(1,2,1)\n",
    "plt.title(f\"Распределение price после логарифмирования\")\n",
    "sns.distplot(np.log(train['price']), bins=50)\n",
    "\n",
    "plt.subplot(1,2,2)\n",
    "sns.boxplot(np.log(train['price']))\n",
    "plt.xlabel('Price')\n",
    "plt.title('Боксплот price после логарифмирования', fontsize=15)\n",
    "plt.show()"
   ]
  },
  {
   "cell_type": "markdown",
   "metadata": {},
   "source": [
    "Можно применить логарифмирование целевой переменной"
   ]
  },
  {
   "cell_type": "code",
   "execution_count": null,
   "metadata": {
    "execution": {
     "iopub.execute_input": "2021-11-24T15:53:30.297045Z",
     "iopub.status.busy": "2021-11-24T15:53:30.296396Z",
     "iopub.status.idle": "2021-11-24T15:53:31.17201Z",
     "shell.execute_reply": "2021-11-24T15:53:31.170802Z",
     "shell.execute_reply.started": "2021-11-24T15:53:30.297Z"
    }
   },
   "outputs": [],
   "source": [
    "fig, ax = plt.subplots(1, 1, figsize=(10, 5))\n",
    "ax = sns.heatmap(train.corr(),fmt='.1g', annot=True, cmap='coolwarm')"
   ]
  },
  {
   "cell_type": "markdown",
   "metadata": {},
   "source": [
    "Удалим 'productionDate'"
   ]
  },
  {
   "cell_type": "markdown",
   "metadata": {
    "papermill": {
     "duration": 0.021883,
     "end_time": "2020-09-01T14:09:38.911155",
     "exception": false,
     "start_time": "2020-09-01T14:09:38.889272",
     "status": "completed"
    },
    "tags": []
   },
   "source": [
    "# Model 1: Создадим \"наивную\" модель \n",
    "Эта модель будет предсказывать среднюю цену по модели и году выпуска. \n",
    "C ней будем сравнивать другие модели.\n",
    "\n"
   ]
  },
  {
   "cell_type": "code",
   "execution_count": null,
   "metadata": {
    "execution": {
     "iopub.execute_input": "2021-11-24T15:53:31.174859Z",
     "iopub.status.busy": "2021-11-24T15:53:31.174152Z",
     "iopub.status.idle": "2021-11-24T15:53:31.18795Z",
     "shell.execute_reply": "2021-11-24T15:53:31.186665Z",
     "shell.execute_reply.started": "2021-11-24T15:53:31.17481Z"
    },
    "papermill": {
     "duration": 0.038273,
     "end_time": "2020-09-01T14:09:38.97142",
     "exception": false,
     "start_time": "2020-09-01T14:09:38.933147",
     "status": "completed"
    },
    "tags": []
   },
   "outputs": [],
   "source": [
    "# split данных\n",
    "data_train, data_test = train_test_split(train, test_size=0.15, shuffle=True, random_state=RANDOM_SEED)"
   ]
  },
  {
   "cell_type": "code",
   "execution_count": null,
   "metadata": {
    "execution": {
     "iopub.execute_input": "2021-11-24T15:53:31.190581Z",
     "iopub.status.busy": "2021-11-24T15:53:31.189959Z",
     "iopub.status.idle": "2021-11-24T15:53:35.138303Z",
     "shell.execute_reply": "2021-11-24T15:53:35.137204Z",
     "shell.execute_reply.started": "2021-11-24T15:53:31.190532Z"
    },
    "papermill": {
     "duration": 4.344617,
     "end_time": "2020-09-01T14:09:43.338258",
     "exception": false,
     "start_time": "2020-09-01T14:09:38.993641",
     "status": "completed"
    },
    "tags": []
   },
   "outputs": [],
   "source": [
    "# Наивная модель\n",
    "predicts = []\n",
    "for index, row in pd.DataFrame(data_test[['model_info', 'productionDate']]).iterrows():\n",
    "    query = f\"model_info == '{row[0]}' and productionDate == {row[1]}\"\n",
    "    predicts.append(data_train.query(query)['price'].median())\n",
    "\n",
    "# заполним не найденные совпадения\n",
    "predicts = pd.DataFrame(predicts)\n",
    "predicts = predicts.fillna(predicts.median())\n",
    "\n",
    "# округлим\n",
    "predicts = (predicts // 1000) * 1000\n",
    "\n",
    "#оцениваем точность\n",
    "print(f\"Точность наивной модели по метрике MAPE: {(MAPE(data_test['price'], predicts.values[:, 0]))*100:0.2f}%\")"
   ]
  },
  {
   "cell_type": "markdown",
   "metadata": {
    "papermill": {
     "duration": 0.02178,
     "end_time": "2020-09-01T14:09:43.384125",
     "exception": false,
     "start_time": "2020-09-01T14:09:43.362345",
     "status": "completed"
    },
    "tags": []
   },
   "source": [
    "# EDA"
   ]
  },
  {
   "cell_type": "markdown",
   "metadata": {
    "papermill": {
     "duration": 0.021899,
     "end_time": "2020-09-01T14:09:43.427989",
     "exception": false,
     "start_time": "2020-09-01T14:09:43.40609",
     "status": "completed"
    },
    "tags": []
   },
   "source": [
    "Проведем быстрый анализ данных для того, чтобы понимать, сможет ли с этими данными работать наш алгоритм.\n",
    "\n",
    "Посмотрим, как выглядят распределения числовых признаков:"
   ]
  },
  {
   "cell_type": "code",
   "execution_count": null,
   "metadata": {
    "_kg_hide-input": true,
    "execution": {
     "iopub.execute_input": "2021-11-24T15:53:35.140858Z",
     "iopub.status.busy": "2021-11-24T15:53:35.140226Z",
     "iopub.status.idle": "2021-11-24T15:53:35.847034Z",
     "shell.execute_reply": "2021-11-24T15:53:35.845992Z",
     "shell.execute_reply.started": "2021-11-24T15:53:35.14081Z"
    },
    "papermill": {
     "duration": 0.649533,
     "end_time": "2020-09-01T14:09:44.143759",
     "exception": false,
     "start_time": "2020-09-01T14:09:43.494226",
     "status": "completed"
    },
    "tags": []
   },
   "outputs": [],
   "source": [
    "#посмотрим, как выглядят распределения числовых признаков\n",
    "def visualize_distributions(titles_values_dict):\n",
    "    columns = min(3, len(titles_values_dict))\n",
    "    rows = (len(titles_values_dict) - 1) // columns + 1\n",
    "    fig = plt.figure(figsize = (columns * 6, rows * 4))\n",
    "    for i, (title, values) in enumerate(titles_values_dict.items()):\n",
    "        hist, bins = np.histogram(values, bins = 20)\n",
    "        ax = fig.add_subplot(rows, columns, i + 1)\n",
    "        ax.bar(bins[:-1], hist, width = (bins[1] - bins[0]) * 0.7)\n",
    "        ax.set_title(title)\n",
    "    plt.show()\n",
    "\n",
    "visualize_distributions({\n",
    "    'mileage': train['mileage'].dropna(),\n",
    "    'modelDate': train['modelDate'].dropna(),\n",
    "    'productionDate': train['productionDate'].dropna()\n",
    "})"
   ]
  },
  {
   "cell_type": "markdown",
   "metadata": {
    "papermill": {
     "duration": 0.026347,
     "end_time": "2020-09-01T14:09:44.195597",
     "exception": false,
     "start_time": "2020-09-01T14:09:44.16925",
     "status": "completed"
    },
    "tags": []
   },
   "source": [
    "Итого:\n",
    "* CatBoost сможет работать с признаками и в таком виде, но для нейросети нужны нормированные данные."
   ]
  },
  {
   "cell_type": "markdown",
   "metadata": {
    "papermill": {
     "duration": 0.025426,
     "end_time": "2020-09-01T14:09:44.247843",
     "exception": false,
     "start_time": "2020-09-01T14:09:44.222417",
     "status": "completed"
    },
    "tags": []
   },
   "source": [
    "# PreProc Tabular Data"
   ]
  },
  {
   "cell_type": "code",
   "execution_count": null,
   "metadata": {
    "execution": {
     "iopub.execute_input": "2021-11-24T15:53:35.84944Z",
     "iopub.status.busy": "2021-11-24T15:53:35.848855Z",
     "iopub.status.idle": "2021-11-24T15:53:35.857878Z",
     "shell.execute_reply": "2021-11-24T15:53:35.856671Z",
     "shell.execute_reply.started": "2021-11-24T15:53:35.84938Z"
    },
    "papermill": {
     "duration": 0.035351,
     "end_time": "2020-09-01T14:09:44.307078",
     "exception": false,
     "start_time": "2020-09-01T14:09:44.271727",
     "status": "completed"
    },
    "tags": []
   },
   "outputs": [],
   "source": [
    "#используем все текстовые признаки как категориальные без предобработки\n",
    "categorical_features = ['bodyType', 'brand', 'color', 'fuelType', 'model_info',\n",
    "                        'numberOfDoors', 'vehicleTransmission', 'Привод', 'ПТС', 'Руль', 'xDrive']\n",
    "\n",
    "#используем все числовые признаки\n",
    "numerical_features = ['mileage', 'modelDate', 'productionDate', 'engineDisplacement', 'enginePower',\n",
    "                      'Владельцы', 'Владение', 'year_mileage']"
   ]
  },
  {
   "cell_type": "code",
   "execution_count": null,
   "metadata": {
    "execution": {
     "iopub.execute_input": "2021-11-24T15:53:35.860821Z",
     "iopub.status.busy": "2021-11-24T15:53:35.859947Z",
     "iopub.status.idle": "2021-11-24T15:53:35.888277Z",
     "shell.execute_reply": "2021-11-24T15:53:35.887053Z",
     "shell.execute_reply.started": "2021-11-24T15:53:35.860771Z"
    },
    "papermill": {
     "duration": 0.051788,
     "end_time": "2020-09-01T14:09:44.385296",
     "exception": false,
     "start_time": "2020-09-01T14:09:44.333508",
     "status": "completed"
    },
    "tags": []
   },
   "outputs": [],
   "source": [
    "# ВАЖНО! дря корректной обработки признаков объединяем трейн и тест в один датасет\n",
    "train['sample'] = 1 # помечаем где у нас трейн\n",
    "test['sample'] = 0 # помечаем где у нас тест\n",
    "test['price'] = 0 # в тесте у нас нет значения price, мы его должны предсказать, поэтому пока просто заполняем нулями\n",
    "\n",
    "data = test.append(train, sort=False).reset_index(drop=True) # объединяем\n",
    "print(train.shape, test.shape, data.shape)"
   ]
  },
  {
   "cell_type": "code",
   "execution_count": null,
   "metadata": {
    "execution": {
     "iopub.execute_input": "2021-11-24T15:53:35.890757Z",
     "iopub.status.busy": "2021-11-24T15:53:35.890373Z",
     "iopub.status.idle": "2021-11-24T15:53:35.911349Z",
     "shell.execute_reply": "2021-11-24T15:53:35.910075Z",
     "shell.execute_reply.started": "2021-11-24T15:53:35.890707Z"
    },
    "papermill": {
     "duration": 0.040288,
     "end_time": "2020-09-01T14:09:44.450613",
     "exception": false,
     "start_time": "2020-09-01T14:09:44.410325",
     "status": "completed"
    },
    "tags": []
   },
   "outputs": [],
   "source": [
    "def preproc_data(df_input):\n",
    "    '''includes several functions to pre-process the predictor data.'''\n",
    "    \n",
    "    df_output = df_input.copy()\n",
    "    \n",
    "    # ################### 1. Предобработка ############################################################## \n",
    "    # убираем не нужные для модели признаки\n",
    "    df_output.drop(['description', 'sell_id',], axis = 1, inplace=True)\n",
    "    \n",
    "    \n",
    "    # ################### Feature Engineering ####################################################\n",
    "    # тут ваш код не генерацию новых фитчей\n",
    "    df_output['engineDisplacement'] = df_output['engineDisplacement'].apply(engine_capasity)\n",
    "    df_output['enginePower'] = df_output['enginePower'].apply(lambda string: int(string.split(' ')[0]))\n",
    "    df_output['modelDate'] = 2021 - df_output['modelDate']\n",
    "    df_output.loc[df_output['model_info'] == '100', 'model_info'] = 'S4'\n",
    "    df_output.loc[df_output['model_info'] == 'COUPE', 'model_info'] = 'S2'\n",
    "    df_output.loc[df_output['model_info'] == 'None', 'model_info'] = 'C_KLASSE_AMG'\n",
    "#     df_output['productionDate'] = 2021 - df_output['productionDate']\n",
    "    df_output['Владельцы'] = df_output['Владельцы'].apply(lambda string: owners_count(string))\n",
    "    df_output['Владение'] = df_output['Владение'].apply(lambda string: owners_age(string))\n",
    "    df_output['ПТС'] = df_output['ПТС'].map({'Дубликат': 0, 'Оригинал': 1})\n",
    "    df_output['Руль'] = df_output['Руль'].map({'Левый': 0, 'Правый': 1})\n",
    "    df_output['year_mileage'] = df_output['mileage'] / (2021 - df_output['modelDate'])\n",
    "    df_output['xDrive'] = df_output['name'].apply(lambda x: 1 if 'xDrive' in x else 0)\n",
    "    df_output['bodyType'] = df_output['bodyType'].astype(str).apply(lambda x: None if x.strip() == '' else x)\n",
    "    df_output['bodyType'] = df_output['bodyType'].apply(lambda x: x.split(' ')[0].lower())\n",
    "    \n",
    "    # ################### Numerical Features ############################################################## \n",
    "    # Далее заполняем пропуски\n",
    "#     for column in numerical_features:\n",
    "#         df_output[column].fillna(df_output[column].mean(), inplace=True)\n",
    "    # тут ваш код по обработке NAN\n",
    "    # ....\n",
    "    \n",
    "    # Нормализация данных\n",
    "#     scaler = MinMaxScaler()\n",
    "    scaler = RobustScaler()\n",
    "    for column in numerical_features:\n",
    "        df_output[column] = scaler.fit_transform(df_output[[column]])[:,0]\n",
    "    \n",
    "    \n",
    "    # ################### Categorical Features ############################################################## \n",
    "    # Label Encoding\n",
    "    for column in categorical_features:\n",
    "        df_output[column] = df_output[column].astype('category').cat.codes\n",
    "        \n",
    "    # One-Hot Encoding: в pandas есть готовая функция - get_dummies.\n",
    "    df_output = pd.get_dummies(df_output, columns=categorical_features, dummy_na=False)\n",
    "    # тут ваш код не Encoding фитчей\n",
    "    # ....\n",
    "    \n",
    "    \n",
    "    # ################### Clean #################################################### \n",
    "    # убираем признаки которые еще не успели обработать, \n",
    "    df_output.drop(['vehicleConfiguration', 'productionDate', 'name'], axis = 1, inplace=True)\n",
    "    \n",
    "    return df_output"
   ]
  },
  {
   "cell_type": "code",
   "execution_count": null,
   "metadata": {
    "execution": {
     "iopub.execute_input": "2021-11-24T15:53:35.915927Z",
     "iopub.status.busy": "2021-11-24T15:53:35.915405Z",
     "iopub.status.idle": "2021-11-24T15:53:36.102094Z",
     "shell.execute_reply": "2021-11-24T15:53:36.101143Z",
     "shell.execute_reply.started": "2021-11-24T15:53:35.915882Z"
    },
    "papermill": {
     "duration": 0.187728,
     "end_time": "2020-09-01T14:09:44.662303",
     "exception": false,
     "start_time": "2020-09-01T14:09:44.474575",
     "status": "completed"
    },
    "tags": []
   },
   "outputs": [],
   "source": [
    "# Запускаем и проверяем, что получилось\n",
    "df_preproc = preproc_data(data)\n",
    "df_preproc.sample(10)"
   ]
  },
  {
   "cell_type": "code",
   "execution_count": null,
   "metadata": {
    "execution": {
     "iopub.execute_input": "2021-11-24T15:53:36.104463Z",
     "iopub.status.busy": "2021-11-24T15:53:36.103848Z",
     "iopub.status.idle": "2021-11-24T15:53:36.132157Z",
     "shell.execute_reply": "2021-11-24T15:53:36.130788Z",
     "shell.execute_reply.started": "2021-11-24T15:53:36.104415Z"
    },
    "papermill": {
     "duration": 0.11022,
     "end_time": "2020-09-01T14:09:44.800019",
     "exception": false,
     "start_time": "2020-09-01T14:09:44.689799",
     "status": "completed"
    },
    "tags": []
   },
   "outputs": [],
   "source": [
    "df_preproc.info()"
   ]
  },
  {
   "cell_type": "markdown",
   "metadata": {
    "papermill": {
     "duration": 0.023926,
     "end_time": "2020-09-01T14:09:44.851164",
     "exception": false,
     "start_time": "2020-09-01T14:09:44.827238",
     "status": "completed"
    },
    "tags": []
   },
   "source": [
    "## Split data"
   ]
  },
  {
   "cell_type": "code",
   "execution_count": null,
   "metadata": {
    "execution": {
     "iopub.execute_input": "2021-11-24T15:53:36.134996Z",
     "iopub.status.busy": "2021-11-24T15:53:36.134624Z",
     "iopub.status.idle": "2021-11-24T15:53:36.168993Z",
     "shell.execute_reply": "2021-11-24T15:53:36.167972Z",
     "shell.execute_reply.started": "2021-11-24T15:53:36.134947Z"
    },
    "papermill": {
     "duration": 0.182559,
     "end_time": "2020-09-01T14:09:45.059468",
     "exception": false,
     "start_time": "2020-09-01T14:09:44.876909",
     "status": "completed"
    },
    "tags": []
   },
   "outputs": [],
   "source": [
    "# Теперь выделим тестовую часть\n",
    "train_data = df_preproc.query('sample == 1').drop(['sample'], axis=1)\n",
    "test_data = df_preproc.query('sample == 0').drop(['sample'], axis=1)\n",
    "\n",
    "y = train_data.price.values     # наш таргет\n",
    "X = train_data.drop(['price'], axis=1)\n",
    "X_sub = test_data.drop(['price'], axis=1)"
   ]
  },
  {
   "cell_type": "code",
   "execution_count": null,
   "metadata": {
    "execution": {
     "iopub.execute_input": "2021-11-24T15:53:36.171371Z",
     "iopub.status.busy": "2021-11-24T15:53:36.171012Z",
     "iopub.status.idle": "2021-11-24T15:53:36.198888Z",
     "shell.execute_reply": "2021-11-24T15:53:36.19781Z",
     "shell.execute_reply.started": "2021-11-24T15:53:36.171312Z"
    },
    "papermill": {
     "duration": 0.304163,
     "end_time": "2020-09-01T14:09:45.391217",
     "exception": false,
     "start_time": "2020-09-01T14:09:45.087054",
     "status": "completed"
    },
    "tags": []
   },
   "outputs": [],
   "source": [
    "test_data.info()"
   ]
  },
  {
   "cell_type": "markdown",
   "metadata": {
    "papermill": {
     "duration": 0.039577,
     "end_time": "2020-09-01T14:09:45.468659",
     "exception": false,
     "start_time": "2020-09-01T14:09:45.429082",
     "status": "completed"
    },
    "tags": []
   },
   "source": [
    "# Model 2: CatBoostRegressor"
   ]
  },
  {
   "cell_type": "code",
   "execution_count": null,
   "metadata": {
    "execution": {
     "iopub.execute_input": "2021-11-24T15:53:36.201895Z",
     "iopub.status.busy": "2021-11-24T15:53:36.200808Z",
     "iopub.status.idle": "2021-11-24T15:53:36.213637Z",
     "shell.execute_reply": "2021-11-24T15:53:36.21254Z",
     "shell.execute_reply.started": "2021-11-24T15:53:36.20183Z"
    },
    "papermill": {
     "duration": 0.086419,
     "end_time": "2020-09-01T14:09:45.666026",
     "exception": false,
     "start_time": "2020-09-01T14:09:45.579607",
     "status": "completed"
    },
    "tags": []
   },
   "outputs": [],
   "source": [
    "X_train, X_test, y_train, y_test = train_test_split(X, y, test_size=0.15, shuffle=True, random_state=RANDOM_SEED)"
   ]
  },
  {
   "cell_type": "code",
   "execution_count": null,
   "metadata": {
    "_kg_hide-output": true,
    "execution": {
     "iopub.execute_input": "2021-11-24T15:53:36.216233Z",
     "iopub.status.busy": "2021-11-24T15:53:36.215738Z",
     "iopub.status.idle": "2021-11-24T15:53:56.059715Z",
     "shell.execute_reply": "2021-11-24T15:53:56.058659Z",
     "shell.execute_reply.started": "2021-11-24T15:53:36.216153Z"
    },
    "papermill": {
     "duration": 35.823837,
     "end_time": "2020-09-01T14:10:21.527109",
     "exception": false,
     "start_time": "2020-09-01T14:09:45.703272",
     "status": "completed"
    },
    "tags": []
   },
   "outputs": [],
   "source": [
    "model = CatBoostRegressor(iterations=5000,\n",
    "                          #depth=10,\n",
    "                          #learning_rate = 0.5,\n",
    "                          random_seed=RANDOM_SEED,\n",
    "                          eval_metric='MAPE',\n",
    "                          custom_metric=['RMSE', 'MAE'],\n",
    "                          od_wait=500,\n",
    "                          #task_type='GPU',\n",
    "                         )\n",
    "model.fit(X_train, np.log(y_train),\n",
    "         eval_set=(X_test, np.log(y_test)),\n",
    "         verbose_eval=100,\n",
    "         use_best_model=True,\n",
    "         #plot=True\n",
    "         )"
   ]
  },
  {
   "cell_type": "code",
   "execution_count": null,
   "metadata": {
    "execution": {
     "iopub.execute_input": "2021-11-24T15:53:56.06232Z",
     "iopub.status.busy": "2021-11-24T15:53:56.061674Z",
     "iopub.status.idle": "2021-11-24T15:53:56.089572Z",
     "shell.execute_reply": "2021-11-24T15:53:56.08818Z",
     "shell.execute_reply.started": "2021-11-24T15:53:56.062271Z"
    },
    "papermill": {
     "duration": 0.087923,
     "end_time": "2020-09-01T14:10:21.642066",
     "exception": false,
     "start_time": "2020-09-01T14:10:21.554143",
     "status": "completed"
    },
    "tags": []
   },
   "outputs": [],
   "source": [
    "test_predict_catboost = np.exp(model.predict(X_test))\n",
    "print(f\"TEST mape: {(MAPE(y_test, test_predict_catboost))*100:0.2f}%\")"
   ]
  },
  {
   "cell_type": "markdown",
   "metadata": {
    "papermill": {
     "duration": 0.027597,
     "end_time": "2020-09-01T14:10:21.699302",
     "exception": false,
     "start_time": "2020-09-01T14:10:21.671705",
     "status": "completed"
    },
    "tags": []
   },
   "source": [
    "### Submission"
   ]
  },
  {
   "cell_type": "code",
   "execution_count": null,
   "metadata": {
    "execution": {
     "iopub.execute_input": "2021-11-24T15:53:56.10011Z",
     "iopub.status.busy": "2021-11-24T15:53:56.099841Z",
     "iopub.status.idle": "2021-11-24T15:53:56.14847Z",
     "shell.execute_reply": "2021-11-24T15:53:56.14747Z",
     "shell.execute_reply.started": "2021-11-24T15:53:56.100078Z"
    },
    "papermill": {
     "duration": 0.365066,
     "end_time": "2020-09-01T14:10:22.091344",
     "exception": false,
     "start_time": "2020-09-01T14:10:21.726278",
     "status": "completed"
    },
    "tags": []
   },
   "outputs": [],
   "source": [
    "sub_predict_catboost = np.exp(model.predict(X_sub))\n",
    "sample_submission['price'] = sub_predict_catboost\n",
    "sample_submission.to_csv('catboost_submission.csv', index=False)"
   ]
  },
  {
   "cell_type": "markdown",
   "metadata": {
    "papermill": {
     "duration": 0.027558,
     "end_time": "2020-09-01T14:10:22.147347",
     "exception": false,
     "start_time": "2020-09-01T14:10:22.119789",
     "status": "completed"
    },
    "tags": []
   },
   "source": [
    "# Model 3: Tabular NN"
   ]
  },
  {
   "cell_type": "markdown",
   "metadata": {
    "papermill": {
     "duration": 0.027905,
     "end_time": "2020-09-01T14:10:22.202926",
     "exception": false,
     "start_time": "2020-09-01T14:10:22.175021",
     "status": "completed"
    },
    "tags": []
   },
   "source": [
    "Построим обычную сеть:"
   ]
  },
  {
   "cell_type": "code",
   "execution_count": null,
   "metadata": {
    "execution": {
     "iopub.execute_input": "2021-11-24T15:53:56.150774Z",
     "iopub.status.busy": "2021-11-24T15:53:56.150395Z",
     "iopub.status.idle": "2021-11-24T15:53:56.182757Z",
     "shell.execute_reply": "2021-11-24T15:53:56.181698Z",
     "shell.execute_reply.started": "2021-11-24T15:53:56.150714Z"
    },
    "papermill": {
     "duration": 0.05808,
     "end_time": "2020-09-01T14:10:22.289028",
     "exception": false,
     "start_time": "2020-09-01T14:10:22.230948",
     "status": "completed"
    },
    "tags": []
   },
   "outputs": [],
   "source": [
    "X_train.head(5)"
   ]
  },
  {
   "cell_type": "markdown",
   "metadata": {
    "papermill": {
     "duration": 0.030566,
     "end_time": "2020-09-01T14:10:22.35088",
     "exception": false,
     "start_time": "2020-09-01T14:10:22.320314",
     "status": "completed"
    },
    "tags": []
   },
   "source": [
    "## Simple Dense NN"
   ]
  },
  {
   "cell_type": "code",
   "execution_count": null,
   "metadata": {
    "execution": {
     "iopub.execute_input": "2021-11-24T15:53:56.184934Z",
     "iopub.status.busy": "2021-11-24T15:53:56.184449Z",
     "iopub.status.idle": "2021-11-24T15:53:56.442202Z",
     "shell.execute_reply": "2021-11-24T15:53:56.440316Z",
     "shell.execute_reply.started": "2021-11-24T15:53:56.184885Z"
    },
    "papermill": {
     "duration": 3.25935,
     "end_time": "2020-09-01T14:10:25.64303",
     "exception": false,
     "start_time": "2020-09-01T14:10:22.38368",
     "status": "completed"
    },
    "tags": []
   },
   "outputs": [],
   "source": [
    "model = Sequential()\n",
    "model.add(L.Dense(512, input_dim=X_train.shape[1], activation=\"sigmoid\"))\n",
    "model.add(L.Dropout(0.5))\n",
    "model.add(L.Dense(256, activation=\"relu\"))\n",
    "model.add(L.Dense(128, activation=\"relu\"))\n",
    "model.add(L.Dense(64, activation=\"relu\"))\n",
    "model.add(L.Dropout(0.25))\n",
    "model.add(L.Dense(1, activation=\"linear\"))"
   ]
  },
  {
   "cell_type": "code",
   "execution_count": null,
   "metadata": {
    "execution": {
     "iopub.execute_input": "2021-11-24T15:53:56.444685Z",
     "iopub.status.busy": "2021-11-24T15:53:56.444113Z",
     "iopub.status.idle": "2021-11-24T15:53:56.459829Z",
     "shell.execute_reply": "2021-11-24T15:53:56.458442Z",
     "shell.execute_reply.started": "2021-11-24T15:53:56.444638Z"
    },
    "papermill": {
     "duration": 0.044855,
     "end_time": "2020-09-01T14:10:25.718162",
     "exception": false,
     "start_time": "2020-09-01T14:10:25.673307",
     "status": "completed"
    },
    "tags": []
   },
   "outputs": [],
   "source": [
    "model.summary()"
   ]
  },
  {
   "cell_type": "code",
   "execution_count": null,
   "metadata": {
    "execution": {
     "iopub.execute_input": "2021-11-24T15:53:56.461519Z",
     "iopub.status.busy": "2021-11-24T15:53:56.461244Z",
     "iopub.status.idle": "2021-11-24T15:53:56.48132Z",
     "shell.execute_reply": "2021-11-24T15:53:56.480331Z",
     "shell.execute_reply.started": "2021-11-24T15:53:56.461461Z"
    },
    "papermill": {
     "duration": 0.050168,
     "end_time": "2020-09-01T14:10:25.797036",
     "exception": false,
     "start_time": "2020-09-01T14:10:25.746868",
     "status": "completed"
    },
    "tags": []
   },
   "outputs": [],
   "source": [
    "# Compile model\n",
    "optimizer = tf.keras.optimizers.Adam(0.01)\n",
    "model.compile(loss='MAPE',optimizer=optimizer, metrics=['MAPE'])"
   ]
  },
  {
   "cell_type": "code",
   "execution_count": null,
   "metadata": {
    "execution": {
     "iopub.execute_input": "2021-11-24T15:53:56.483436Z",
     "iopub.status.busy": "2021-11-24T15:53:56.482989Z",
     "iopub.status.idle": "2021-11-24T15:53:56.490615Z",
     "shell.execute_reply": "2021-11-24T15:53:56.489202Z",
     "shell.execute_reply.started": "2021-11-24T15:53:56.483373Z"
    },
    "papermill": {
     "duration": 0.040282,
     "end_time": "2020-09-01T14:10:25.86722",
     "exception": false,
     "start_time": "2020-09-01T14:10:25.826938",
     "status": "completed"
    },
    "tags": []
   },
   "outputs": [],
   "source": [
    "checkpoint = ModelCheckpoint('../working/best_model.hdf5' , monitor=['val_MAPE'], verbose=0  , mode='min')\n",
    "earlystop = EarlyStopping(monitor='val_MAPE', patience=10, restore_best_weights=True,)\n",
    "callbacks_list = [checkpoint, earlystop]"
   ]
  },
  {
   "cell_type": "markdown",
   "metadata": {
    "papermill": {
     "duration": 0.029191,
     "end_time": "2020-09-01T14:10:25.926347",
     "exception": false,
     "start_time": "2020-09-01T14:10:25.897156",
     "status": "completed"
    },
    "tags": []
   },
   "source": [
    "### Fit"
   ]
  },
  {
   "cell_type": "code",
   "execution_count": null,
   "metadata": {
    "execution": {
     "iopub.execute_input": "2021-11-24T15:53:56.493624Z",
     "iopub.status.busy": "2021-11-24T15:53:56.492601Z",
     "iopub.status.idle": "2021-11-24T15:54:23.90265Z",
     "shell.execute_reply": "2021-11-24T15:54:23.901581Z",
     "shell.execute_reply.started": "2021-11-24T15:53:56.493573Z"
    },
    "papermill": {
     "duration": 77.597865,
     "end_time": "2020-09-01T14:11:43.553548",
     "exception": false,
     "start_time": "2020-09-01T14:10:25.955683",
     "status": "completed"
    },
    "tags": []
   },
   "outputs": [],
   "source": [
    "history = model.fit(X_train, y_train,\n",
    "                    batch_size=512,\n",
    "                    epochs=100, # фактически мы обучаем пока EarlyStopping не остановит обучение\n",
    "                    validation_data=(X_test, y_test),\n",
    "                    callbacks=callbacks_list,\n",
    "                    verbose=0,\n",
    "                   )"
   ]
  },
  {
   "cell_type": "code",
   "execution_count": null,
   "metadata": {
    "execution": {
     "iopub.execute_input": "2021-11-24T15:54:23.904997Z",
     "iopub.status.busy": "2021-11-24T15:54:23.904456Z",
     "iopub.status.idle": "2021-11-24T15:54:24.211834Z",
     "shell.execute_reply": "2021-11-24T15:54:24.210816Z",
     "shell.execute_reply.started": "2021-11-24T15:54:23.904949Z"
    },
    "papermill": {
     "duration": 0.202281,
     "end_time": "2020-09-01T14:11:43.787384",
     "exception": false,
     "start_time": "2020-09-01T14:11:43.585103",
     "status": "completed"
    },
    "tags": []
   },
   "outputs": [],
   "source": [
    "plt.title('Loss')\n",
    "plt.plot(history.history['MAPE'], label='train')\n",
    "plt.plot(history.history['val_MAPE'], label='test')\n",
    "plt.show();"
   ]
  },
  {
   "cell_type": "code",
   "execution_count": null,
   "metadata": {
    "execution": {
     "iopub.execute_input": "2021-11-24T15:54:24.220057Z",
     "iopub.status.busy": "2021-11-24T15:54:24.217225Z",
     "iopub.status.idle": "2021-11-24T15:54:24.247683Z",
     "shell.execute_reply": "2021-11-24T15:54:24.246179Z",
     "shell.execute_reply.started": "2021-11-24T15:54:24.21999Z"
    },
    "papermill": {
     "duration": 1.302201,
     "end_time": "2020-09-01T14:11:45.127228",
     "exception": false,
     "start_time": "2020-09-01T14:11:43.825027",
     "status": "completed"
    },
    "tags": []
   },
   "outputs": [],
   "source": [
    "model.load_weights('../working/best_model.hdf5')\n",
    "# model.save('../working/nn_1.hdf5')"
   ]
  },
  {
   "cell_type": "code",
   "execution_count": null,
   "metadata": {
    "execution": {
     "iopub.execute_input": "2021-11-24T15:54:24.24987Z",
     "iopub.status.busy": "2021-11-24T15:54:24.249507Z",
     "iopub.status.idle": "2021-11-24T15:54:24.465289Z",
     "shell.execute_reply": "2021-11-24T15:54:24.464075Z",
     "shell.execute_reply.started": "2021-11-24T15:54:24.249804Z"
    },
    "papermill": {
     "duration": 0.229139,
     "end_time": "2020-09-01T14:11:45.390707",
     "exception": false,
     "start_time": "2020-09-01T14:11:45.161568",
     "status": "completed"
    },
    "tags": []
   },
   "outputs": [],
   "source": [
    "test_predict_nn1 = model.predict(X_test)\n",
    "print(f\"TEST mape: {(MAPE(y_test, test_predict_nn1[:,0]))*100:0.2f}%\")"
   ]
  },
  {
   "cell_type": "code",
   "execution_count": null,
   "metadata": {
    "execution": {
     "iopub.execute_input": "2021-11-24T15:54:24.468353Z",
     "iopub.status.busy": "2021-11-24T15:54:24.467589Z",
     "iopub.status.idle": "2021-11-24T15:54:24.608953Z",
     "shell.execute_reply": "2021-11-24T15:54:24.607855Z",
     "shell.execute_reply.started": "2021-11-24T15:54:24.4683Z"
    },
    "papermill": {
     "duration": 0.188737,
     "end_time": "2020-09-01T14:11:45.617263",
     "exception": false,
     "start_time": "2020-09-01T14:11:45.428526",
     "status": "completed"
    },
    "tags": []
   },
   "outputs": [],
   "source": [
    "sub_predict_nn1 = model.predict(X_sub)\n",
    "sample_submission['price'] = sub_predict_nn1[:,0]\n",
    "sample_submission.to_csv('nn1_submission.csv', index=False)"
   ]
  },
  {
   "cell_type": "markdown",
   "metadata": {
    "papermill": {
     "duration": 0.033475,
     "end_time": "2020-09-01T14:11:45.685383",
     "exception": false,
     "start_time": "2020-09-01T14:11:45.651908",
     "status": "completed"
    },
    "tags": []
   },
   "source": [
    "Рекомендации для улучшения Model 3:    \n",
    "* В нейросеть желательно подавать данные с распределением, близким к нормальному, поэтому от некоторых числовых признаков имеет смысл взять логарифм перед нормализацией. Пример:\n",
    "`modelDateNorm = np.log(2020 - data['modelDate'])`\n",
    "Статья по теме: https://habr.com/ru/company/ods/blog/325422\n",
    "\n",
    "* Извлечение числовых значений из текста:\n",
    "Парсинг признаков 'engineDisplacement', 'enginePower', 'Владение' для извлечения числовых значений.\n",
    "\n",
    "* Cокращение размерности категориальных признаков\n",
    "Признак name 'name' содержит данные, которые уже есть в других столбцах ('enginePower', 'engineDisplacement', 'vehicleTransmission'), поэтому эти данные можно удалить. Затем следует еще сильнее сократить размерность, например, выделив наличие xDrive в качестве отдельного признака."
   ]
  },
  {
   "cell_type": "markdown",
   "metadata": {
    "papermill": {
     "duration": 0.032357,
     "end_time": "2020-09-01T14:11:45.751593",
     "exception": false,
     "start_time": "2020-09-01T14:11:45.719236",
     "status": "completed"
    },
    "tags": []
   },
   "source": [
    "# Model 4: NLP + Multiple Inputs"
   ]
  },
  {
   "cell_type": "code",
   "execution_count": null,
   "metadata": {
    "execution": {
     "iopub.execute_input": "2021-11-24T15:54:24.612417Z",
     "iopub.status.busy": "2021-11-24T15:54:24.61131Z",
     "iopub.status.idle": "2021-11-24T15:54:24.623361Z",
     "shell.execute_reply": "2021-11-24T15:54:24.62232Z",
     "shell.execute_reply.started": "2021-11-24T15:54:24.612311Z"
    },
    "papermill": {
     "duration": 0.047533,
     "end_time": "2020-09-01T14:11:45.832877",
     "exception": false,
     "start_time": "2020-09-01T14:11:45.785344",
     "status": "completed"
    },
    "tags": []
   },
   "outputs": [],
   "source": [
    "data['description']"
   ]
  },
  {
   "cell_type": "code",
   "execution_count": null,
   "metadata": {
    "execution": {
     "iopub.execute_input": "2021-11-24T15:54:24.626124Z",
     "iopub.status.busy": "2021-11-24T15:54:24.624982Z",
     "iopub.status.idle": "2021-11-24T15:54:24.635901Z",
     "shell.execute_reply": "2021-11-24T15:54:24.63487Z",
     "shell.execute_reply.started": "2021-11-24T15:54:24.626076Z"
    }
   },
   "outputs": [],
   "source": [
    "data_NLP = data.copy()"
   ]
  },
  {
   "cell_type": "markdown",
   "metadata": {},
   "source": [
    "Лемматизация занимает очень много времени. Для использования убрать комментарии"
   ]
  },
  {
   "cell_type": "code",
   "execution_count": null,
   "metadata": {
    "execution": {
     "iopub.execute_input": "2021-11-24T15:54:24.638912Z",
     "iopub.status.busy": "2021-11-24T15:54:24.638085Z",
     "iopub.status.idle": "2021-11-24T15:54:24.647457Z",
     "shell.execute_reply": "2021-11-24T15:54:24.646185Z",
     "shell.execute_reply.started": "2021-11-24T15:54:24.638861Z"
    }
   },
   "outputs": [],
   "source": [
    "def lemmatization(text):\n",
    "    text = \" \".join(word.lower() for word in text.split()) #lowercasing and removing short words \n",
    "    text = re.sub('\\-\\s\\r\\n\\s{1,}|\\-\\s\\r\\n|\\r\\n', '', text) #deleting newlines and line-breaks\n",
    "    text = re.sub('[.,:;%©?*,!@#$%^&()\\d]|[+=]|[[]|[]]|[/]|\"|\\s{2,}|-', ' ', text) #deleting symbols  \n",
    "    text = \" \".join(pymorphy2.MorphAnalyzer().parse(word)[0].normal_form for word in text.split())\n",
    "    return text\n",
    "# data_NLP['description'] = data_NLP['description'].apply(lemmatization)"
   ]
  },
  {
   "cell_type": "code",
   "execution_count": null,
   "metadata": {
    "execution": {
     "iopub.execute_input": "2021-11-24T15:54:24.649862Z",
     "iopub.status.busy": "2021-11-24T15:54:24.649349Z",
     "iopub.status.idle": "2021-11-24T15:54:24.659069Z",
     "shell.execute_reply": "2021-11-24T15:54:24.657838Z",
     "shell.execute_reply.started": "2021-11-24T15:54:24.649816Z"
    },
    "papermill": {
     "duration": 0.043718,
     "end_time": "2020-09-01T14:11:45.9101",
     "exception": false,
     "start_time": "2020-09-01T14:11:45.866382",
     "status": "completed"
    },
    "tags": []
   },
   "outputs": [],
   "source": [
    "# TOKENIZER\n",
    "# The maximum number of words to be used. (most frequent)\n",
    "MAX_WORDS = 100000\n",
    "# Max number of words in each complaint.\n",
    "MAX_SEQUENCE_LENGTH = 256"
   ]
  },
  {
   "cell_type": "code",
   "execution_count": null,
   "metadata": {
    "execution": {
     "iopub.execute_input": "2021-11-24T15:54:24.661782Z",
     "iopub.status.busy": "2021-11-24T15:54:24.661022Z",
     "iopub.status.idle": "2021-11-24T15:54:24.672134Z",
     "shell.execute_reply": "2021-11-24T15:54:24.67109Z",
     "shell.execute_reply.started": "2021-11-24T15:54:24.661734Z"
    },
    "papermill": {
     "duration": 0.045338,
     "end_time": "2020-09-01T14:11:45.988552",
     "exception": false,
     "start_time": "2020-09-01T14:11:45.943214",
     "status": "completed"
    },
    "tags": []
   },
   "outputs": [],
   "source": [
    "# split данных\n",
    "text_train = data['description'].iloc[X_train.index]\n",
    "text_test = data['description'].iloc[X_test.index]\n",
    "text_sub = data['description'].iloc[X_sub.index]"
   ]
  },
  {
   "cell_type": "markdown",
   "metadata": {
    "papermill": {
     "duration": 0.033994,
     "end_time": "2020-09-01T14:11:46.057553",
     "exception": false,
     "start_time": "2020-09-01T14:11:46.023559",
     "status": "completed"
    },
    "tags": []
   },
   "source": [
    "### Tokenizer"
   ]
  },
  {
   "cell_type": "code",
   "execution_count": null,
   "metadata": {
    "execution": {
     "iopub.execute_input": "2021-11-24T15:54:24.67681Z",
     "iopub.status.busy": "2021-11-24T15:54:24.675983Z",
     "iopub.status.idle": "2021-11-24T15:54:26.47941Z",
     "shell.execute_reply": "2021-11-24T15:54:26.478455Z",
     "shell.execute_reply.started": "2021-11-24T15:54:24.676755Z"
    },
    "papermill": {
     "duration": 2.201902,
     "end_time": "2020-09-01T14:11:48.29505",
     "exception": false,
     "start_time": "2020-09-01T14:11:46.093148",
     "status": "completed"
    },
    "tags": []
   },
   "outputs": [],
   "source": [
    "%%time\n",
    "tokenize = Tokenizer(num_words=MAX_WORDS)\n",
    "# Убрать комментарии, если используется лемматизация\n",
    "# tokenize.fit_on_texts(data_NLP['description'])\n",
    "tokenize.fit_on_texts(data['description'])"
   ]
  },
  {
   "cell_type": "code",
   "execution_count": null,
   "metadata": {
    "_kg_hide-output": true,
    "execution": {
     "iopub.execute_input": "2021-11-24T15:54:26.481633Z",
     "iopub.status.busy": "2021-11-24T15:54:26.481289Z",
     "iopub.status.idle": "2021-11-24T15:54:26.529227Z",
     "shell.execute_reply": "2021-11-24T15:54:26.527994Z",
     "shell.execute_reply.started": "2021-11-24T15:54:26.481587Z"
    },
    "papermill": {
     "duration": 0.084152,
     "end_time": "2020-09-01T14:11:48.410715",
     "exception": false,
     "start_time": "2020-09-01T14:11:48.326563",
     "status": "completed"
    },
    "tags": []
   },
   "outputs": [],
   "source": [
    "tokenize.word_index"
   ]
  },
  {
   "cell_type": "code",
   "execution_count": null,
   "metadata": {
    "execution": {
     "iopub.execute_input": "2021-11-24T15:54:26.531402Z",
     "iopub.status.busy": "2021-11-24T15:54:26.530975Z",
     "iopub.status.idle": "2021-11-24T15:54:28.204404Z",
     "shell.execute_reply": "2021-11-24T15:54:28.203192Z",
     "shell.execute_reply.started": "2021-11-24T15:54:26.531356Z"
    },
    "papermill": {
     "duration": 1.86368,
     "end_time": "2020-09-01T14:11:50.308073",
     "exception": false,
     "start_time": "2020-09-01T14:11:48.444393",
     "status": "completed"
    },
    "tags": []
   },
   "outputs": [],
   "source": [
    "%%time\n",
    "text_train_sequences = sequence.pad_sequences(tokenize.texts_to_sequences(text_train), maxlen=MAX_SEQUENCE_LENGTH)\n",
    "text_test_sequences = sequence.pad_sequences(tokenize.texts_to_sequences(text_test), maxlen=MAX_SEQUENCE_LENGTH)\n",
    "text_sub_sequences = sequence.pad_sequences(tokenize.texts_to_sequences(text_sub), maxlen=MAX_SEQUENCE_LENGTH)\n",
    "\n",
    "print(text_train_sequences.shape, text_test_sequences.shape, text_sub_sequences.shape, )"
   ]
  },
  {
   "cell_type": "code",
   "execution_count": null,
   "metadata": {
    "execution": {
     "iopub.execute_input": "2021-11-24T15:54:28.207697Z",
     "iopub.status.busy": "2021-11-24T15:54:28.20669Z",
     "iopub.status.idle": "2021-11-24T15:54:28.216227Z",
     "shell.execute_reply": "2021-11-24T15:54:28.215164Z",
     "shell.execute_reply.started": "2021-11-24T15:54:28.207646Z"
    },
    "papermill": {
     "duration": 0.055862,
     "end_time": "2020-09-01T14:11:50.402953",
     "exception": false,
     "start_time": "2020-09-01T14:11:50.347091",
     "status": "completed"
    },
    "tags": []
   },
   "outputs": [],
   "source": [
    "# вот так теперь выглядит наш текст\n",
    "print(text_train.iloc[6])\n",
    "print(text_train_sequences[6])"
   ]
  },
  {
   "cell_type": "markdown",
   "metadata": {
    "papermill": {
     "duration": 0.034241,
     "end_time": "2020-09-01T14:11:50.471901",
     "exception": false,
     "start_time": "2020-09-01T14:11:50.43766",
     "status": "completed"
    },
    "tags": []
   },
   "source": [
    "### RNN NLP"
   ]
  },
  {
   "cell_type": "code",
   "execution_count": null,
   "metadata": {
    "execution": {
     "iopub.execute_input": "2021-11-24T15:54:28.219517Z",
     "iopub.status.busy": "2021-11-24T15:54:28.218557Z",
     "iopub.status.idle": "2021-11-24T15:54:28.993646Z",
     "shell.execute_reply": "2021-11-24T15:54:28.992693Z",
     "shell.execute_reply.started": "2021-11-24T15:54:28.219435Z"
    },
    "papermill": {
     "duration": 0.913169,
     "end_time": "2020-09-01T14:11:51.421043",
     "exception": false,
     "start_time": "2020-09-01T14:11:50.507874",
     "status": "completed"
    },
    "tags": []
   },
   "outputs": [],
   "source": [
    "model_nlp = Sequential()\n",
    "model_nlp.add(L.Input(shape=MAX_SEQUENCE_LENGTH, name=\"seq_description\"))\n",
    "model_nlp.add(L.Embedding(len(tokenize.word_index)+1, MAX_SEQUENCE_LENGTH,))\n",
    "model_nlp.add(L.LSTM(256, return_sequences=True))\n",
    "model_nlp.add(L.Dropout(0.5))\n",
    "model_nlp.add(L.Dense(128, activation=\"sigmoid\"))\n",
    "model_nlp.add(L.LSTM(128,))\n",
    "model_nlp.add(L.Dropout(0.25))\n",
    "model_nlp.add(L.Dense(64, activation=\"relu\"))\n",
    "model_nlp.add(L.Dropout(0.25))"
   ]
  },
  {
   "cell_type": "markdown",
   "metadata": {
    "papermill": {
     "duration": 0.033439,
     "end_time": "2020-09-01T14:11:51.487992",
     "exception": false,
     "start_time": "2020-09-01T14:11:51.454553",
     "status": "completed"
    },
    "tags": []
   },
   "source": [
    "### MLP"
   ]
  },
  {
   "cell_type": "code",
   "execution_count": null,
   "metadata": {
    "execution": {
     "iopub.execute_input": "2021-11-24T15:54:28.997902Z",
     "iopub.status.busy": "2021-11-24T15:54:28.997159Z",
     "iopub.status.idle": "2021-11-24T15:54:29.058066Z",
     "shell.execute_reply": "2021-11-24T15:54:29.057058Z",
     "shell.execute_reply.started": "2021-11-24T15:54:28.997851Z"
    },
    "papermill": {
     "duration": 0.083164,
     "end_time": "2020-09-01T14:11:51.605869",
     "exception": false,
     "start_time": "2020-09-01T14:11:51.522705",
     "status": "completed"
    },
    "tags": []
   },
   "outputs": [],
   "source": [
    "model_mlp = Sequential()\n",
    "model_mlp.add(L.Dense(512, input_dim=X_train.shape[1], activation=\"relu\"))\n",
    "model_mlp.add(L.Dropout(0.5))\n",
    "model_mlp.add(L.Dense(256, activation=\"relu\"))\n",
    "model_mlp.add(L.Dense(128, activation=\"relu\"))\n",
    "model_mlp.add(L.Dropout(0.5))"
   ]
  },
  {
   "cell_type": "markdown",
   "metadata": {
    "papermill": {
     "duration": 0.0336,
     "end_time": "2020-09-01T14:11:51.674401",
     "exception": false,
     "start_time": "2020-09-01T14:11:51.640801",
     "status": "completed"
    },
    "tags": []
   },
   "source": [
    "### Multiple Inputs NN"
   ]
  },
  {
   "cell_type": "code",
   "execution_count": null,
   "metadata": {
    "execution": {
     "iopub.execute_input": "2021-11-24T15:54:29.060322Z",
     "iopub.status.busy": "2021-11-24T15:54:29.059832Z",
     "iopub.status.idle": "2021-11-24T15:54:29.095121Z",
     "shell.execute_reply": "2021-11-24T15:54:29.094106Z",
     "shell.execute_reply.started": "2021-11-24T15:54:29.060264Z"
    },
    "papermill": {
     "duration": 0.071993,
     "end_time": "2020-09-01T14:11:51.779177",
     "exception": false,
     "start_time": "2020-09-01T14:11:51.707184",
     "status": "completed"
    },
    "tags": []
   },
   "outputs": [],
   "source": [
    "combinedInput = L.concatenate([model_nlp.output, model_mlp.output])\n",
    "# being our regression head\n",
    "head = L.Dense(64, activation=\"relu\")(combinedInput)\n",
    "head = L.Dense(1, activation=\"linear\")(head)\n",
    "\n",
    "model = Model(inputs=[model_nlp.input, model_mlp.input], outputs=head)"
   ]
  },
  {
   "cell_type": "code",
   "execution_count": null,
   "metadata": {
    "_kg_hide-output": true,
    "execution": {
     "iopub.execute_input": "2021-11-24T15:54:29.097736Z",
     "iopub.status.busy": "2021-11-24T15:54:29.097028Z",
     "iopub.status.idle": "2021-11-24T15:54:29.121967Z",
     "shell.execute_reply": "2021-11-24T15:54:29.120857Z",
     "shell.execute_reply.started": "2021-11-24T15:54:29.097676Z"
    },
    "papermill": {
     "duration": 0.057955,
     "end_time": "2020-09-01T14:11:51.870318",
     "exception": false,
     "start_time": "2020-09-01T14:11:51.812363",
     "status": "completed"
    },
    "tags": []
   },
   "outputs": [],
   "source": [
    "model.summary()"
   ]
  },
  {
   "cell_type": "markdown",
   "metadata": {
    "papermill": {
     "duration": 0.032759,
     "end_time": "2020-09-01T14:11:51.936714",
     "exception": false,
     "start_time": "2020-09-01T14:11:51.903955",
     "status": "completed"
    },
    "tags": []
   },
   "source": [
    "### Fit"
   ]
  },
  {
   "cell_type": "code",
   "execution_count": null,
   "metadata": {
    "execution": {
     "iopub.execute_input": "2021-11-24T15:54:29.124247Z",
     "iopub.status.busy": "2021-11-24T15:54:29.123907Z",
     "iopub.status.idle": "2021-11-24T15:54:29.139409Z",
     "shell.execute_reply": "2021-11-24T15:54:29.138163Z",
     "shell.execute_reply.started": "2021-11-24T15:54:29.124201Z"
    },
    "papermill": {
     "duration": 0.053566,
     "end_time": "2020-09-01T14:11:52.022861",
     "exception": false,
     "start_time": "2020-09-01T14:11:51.969295",
     "status": "completed"
    },
    "tags": []
   },
   "outputs": [],
   "source": [
    "optimizer = tf.keras.optimizers.Adam(0.01)\n",
    "model.compile(loss='MAPE',optimizer=optimizer, metrics=['MAPE'])"
   ]
  },
  {
   "cell_type": "code",
   "execution_count": null,
   "metadata": {
    "execution": {
     "iopub.execute_input": "2021-11-24T15:54:29.142124Z",
     "iopub.status.busy": "2021-11-24T15:54:29.141429Z",
     "iopub.status.idle": "2021-11-24T15:54:29.149412Z",
     "shell.execute_reply": "2021-11-24T15:54:29.148227Z",
     "shell.execute_reply.started": "2021-11-24T15:54:29.142075Z"
    },
    "papermill": {
     "duration": 0.04403,
     "end_time": "2020-09-01T14:11:52.101214",
     "exception": false,
     "start_time": "2020-09-01T14:11:52.057184",
     "status": "completed"
    },
    "tags": []
   },
   "outputs": [],
   "source": [
    "checkpoint = ModelCheckpoint('../working/best_model.hdf5', monitor=['val_MAPE'], verbose=0, mode='min')\n",
    "earlystop = EarlyStopping(monitor='val_MAPE', patience=10, restore_best_weights=True,)\n",
    "callbacks_list = [checkpoint, earlystop]"
   ]
  },
  {
   "cell_type": "code",
   "execution_count": null,
   "metadata": {
    "_kg_hide-output": true,
    "execution": {
     "iopub.execute_input": "2021-11-24T15:54:29.152081Z",
     "iopub.status.busy": "2021-11-24T15:54:29.151446Z"
    },
    "papermill": {
     "duration": 722.337881,
     "end_time": "2020-09-01T14:23:54.473425",
     "exception": false,
     "start_time": "2020-09-01T14:11:52.135544",
     "status": "completed"
    },
    "tags": []
   },
   "outputs": [],
   "source": [
    "history = model.fit([text_train_sequences, X_train], y_train,\n",
    "                    batch_size=512,\n",
    "                    epochs=100, # фактически мы обучаем пока EarlyStopping не остановит обучение\n",
    "                    validation_data=([text_test_sequences, X_test], y_test),\n",
    "                    callbacks=callbacks_list\n",
    "                   )"
   ]
  },
  {
   "cell_type": "code",
   "execution_count": null,
   "metadata": {
    "papermill": {
     "duration": 0.319396,
     "end_time": "2020-09-01T14:23:54.944386",
     "exception": false,
     "start_time": "2020-09-01T14:23:54.62499",
     "status": "completed"
    },
    "tags": []
   },
   "outputs": [],
   "source": [
    "plt.title('Loss')\n",
    "plt.plot(history.history['MAPE'], label='train')\n",
    "plt.plot(history.history['val_MAPE'], label='test')\n",
    "plt.show();"
   ]
  },
  {
   "cell_type": "code",
   "execution_count": null,
   "metadata": {
    "papermill": {
     "duration": 0.664325,
     "end_time": "2020-09-01T14:23:55.758508",
     "exception": false,
     "start_time": "2020-09-01T14:23:55.094183",
     "status": "completed"
    },
    "tags": []
   },
   "outputs": [],
   "source": [
    "model.load_weights('../working/best_model.hdf5')\n",
    "# model.save('../working/nn_mlp_nlp.hdf5')"
   ]
  },
  {
   "cell_type": "code",
   "execution_count": null,
   "metadata": {
    "papermill": {
     "duration": 1.359968,
     "end_time": "2020-09-01T14:23:57.266972",
     "exception": false,
     "start_time": "2020-09-01T14:23:55.907004",
     "status": "completed"
    },
    "tags": []
   },
   "outputs": [],
   "source": [
    "test_predict_nn2 = model.predict([text_test_sequences, X_test])\n",
    "print(f\"TEST mape: {(MAPE(y_test, test_predict_nn2[:,0]))*100:0.2f}%\")"
   ]
  },
  {
   "cell_type": "code",
   "execution_count": null,
   "metadata": {
    "papermill": {
     "duration": 0.98727,
     "end_time": "2020-09-01T14:23:58.419392",
     "exception": false,
     "start_time": "2020-09-01T14:23:57.432122",
     "status": "completed"
    },
    "tags": []
   },
   "outputs": [],
   "source": [
    "sub_predict_nn2 = model.predict([text_sub_sequences, X_sub])\n",
    "sample_submission['price'] = sub_predict_nn2[:,0]\n",
    "sample_submission.to_csv('nn2_submission.csv', index=False)"
   ]
  },
  {
   "cell_type": "markdown",
   "metadata": {
    "papermill": {
     "duration": 0.147273,
     "end_time": "2020-09-01T14:23:58.717361",
     "exception": false,
     "start_time": "2020-09-01T14:23:58.570088",
     "status": "completed"
    },
    "tags": []
   },
   "source": [
    "Идеи для улучшения NLP части:\n",
    "* Выделить из описаний часто встречающиеся блоки текста, заменив их на кодовые слова или удалив\n",
    "* Сделать предобработку текста, например, сделать лемматизацию - алгоритм ставящий все слова в форму по умолчанию (глаголы в инфинитив и т. д.), чтобы токенайзер не преобразовывал разные формы слова в разные числа\n",
    "Статья по теме: https://habr.com/ru/company/Voximplant/blog/446738/\n",
    "* Поработать над алгоритмами очистки и аугментации текста"
   ]
  },
  {
   "cell_type": "markdown",
   "metadata": {
    "papermill": {
     "duration": 0.152802,
     "end_time": "2020-09-01T14:23:59.019666",
     "exception": false,
     "start_time": "2020-09-01T14:23:58.866864",
     "status": "completed"
    },
    "tags": []
   },
   "source": [
    "# Model 5: Добавляем картинки"
   ]
  },
  {
   "cell_type": "markdown",
   "metadata": {
    "papermill": {
     "duration": 0.531608,
     "end_time": "2020-09-01T14:23:59.701222",
     "exception": false,
     "start_time": "2020-09-01T14:23:59.169614",
     "status": "completed"
    },
    "tags": []
   },
   "source": [
    "### Data"
   ]
  },
  {
   "cell_type": "code",
   "execution_count": null,
   "metadata": {
    "papermill": {
     "duration": 0.841346,
     "end_time": "2020-09-01T14:24:00.68931",
     "exception": false,
     "start_time": "2020-09-01T14:23:59.847964",
     "status": "completed"
    },
    "tags": []
   },
   "outputs": [],
   "source": [
    "# убедимся, что цены и фото подгрузились верно\n",
    "plt.figure(figsize = (12,8))\n",
    "\n",
    "random_image = train.sample(n = 9)\n",
    "random_image_paths = random_image['sell_id'].values\n",
    "random_image_cat = random_image['price'].values\n",
    "\n",
    "for index, path in enumerate(random_image_paths):\n",
    "    im = PIL.Image.open(DATA_DIR+'img/img/' + str(path) + '.jpg')\n",
    "    plt.subplot(3, 3, index + 1)\n",
    "    plt.imshow(im)\n",
    "    plt.title('price: ' + str(random_image_cat[index]))\n",
    "    plt.axis('off')\n",
    "plt.show()"
   ]
  },
  {
   "cell_type": "code",
   "execution_count": null,
   "metadata": {
    "papermill": {
     "duration": 83.399776,
     "end_time": "2020-09-01T14:25:24.24095",
     "exception": false,
     "start_time": "2020-09-01T14:24:00.841174",
     "status": "completed"
    },
    "tags": []
   },
   "outputs": [],
   "source": [
    "size = (320, 240)\n",
    "\n",
    "def get_image_array(index):\n",
    "    images_train = []\n",
    "    for index, sell_id in enumerate(data['sell_id'].iloc[index].values):\n",
    "        image = cv2.imread(DATA_DIR + 'img/img/' + str(sell_id) + '.jpg')\n",
    "        assert(image is not None)\n",
    "        image = cv2.resize(image, size)\n",
    "        images_train.append(image)\n",
    "    images_train = np.array(images_train)\n",
    "    print('images shape', images_train.shape, 'dtype', images_train.dtype)\n",
    "    return(images_train)\n",
    "\n",
    "images_train = get_image_array(X_train.index)\n",
    "images_test = get_image_array(X_test.index)\n",
    "images_sub = get_image_array(X_sub.index)"
   ]
  },
  {
   "cell_type": "markdown",
   "metadata": {
    "papermill": {
     "duration": 0.152804,
     "end_time": "2020-09-01T14:25:24.546653",
     "exception": false,
     "start_time": "2020-09-01T14:25:24.393849",
     "status": "completed"
    },
    "tags": []
   },
   "source": [
    "### albumentations"
   ]
  },
  {
   "cell_type": "code",
   "execution_count": null,
   "metadata": {
    "papermill": {
     "duration": 1.132541,
     "end_time": "2020-09-01T14:25:25.833211",
     "exception": false,
     "start_time": "2020-09-01T14:25:24.70067",
     "status": "completed"
    },
    "tags": []
   },
   "outputs": [],
   "source": [
    "from albumentations import (\n",
    "    HorizontalFlip, IAAPerspective, ShiftScaleRotate, CLAHE, RandomRotate90,\n",
    "    Transpose, ShiftScaleRotate, Blur, OpticalDistortion, GridDistortion, HueSaturationValue,\n",
    "    IAAAdditiveGaussianNoise, GaussNoise, MotionBlur, MedianBlur, IAAPiecewiseAffine,\n",
    "    IAASharpen, IAAEmboss, RandomBrightnessContrast, Flip, OneOf, Compose\n",
    ")\n",
    "\n",
    "\n",
    "#пример взят из официальной документации: https://albumentations.readthedocs.io/en/latest/examples.html\n",
    "augmentation = Compose([\n",
    "    HorizontalFlip(),\n",
    "    OneOf([\n",
    "        IAAAdditiveGaussianNoise(),\n",
    "        GaussNoise(),\n",
    "    ], p=0.2),\n",
    "    OneOf([\n",
    "        MotionBlur(p=0.2),\n",
    "        MedianBlur(blur_limit=3, p=0.1),\n",
    "        Blur(blur_limit=3, p=0.1),\n",
    "    ], p=0.2),\n",
    "    ShiftScaleRotate(shift_limit=0.0625, scale_limit=0.2, rotate_limit=15, p=1),\n",
    "    OneOf([\n",
    "        OpticalDistortion(p=0.3),\n",
    "        GridDistortion(p=0.1),\n",
    "        IAAPiecewiseAffine(p=0.3),\n",
    "    ], p=0.2),\n",
    "    OneOf([\n",
    "        CLAHE(clip_limit=2),\n",
    "        IAASharpen(),\n",
    "        IAAEmboss(),\n",
    "        RandomBrightnessContrast(),\n",
    "    ], p=0.3),\n",
    "    HueSaturationValue(p=0.3),\n",
    "], p=1)\n",
    "\n",
    "#пример\n",
    "plt.figure(figsize = (12,8))\n",
    "for i in range(9):\n",
    "    img = augmentation(image = images_train[0])['image']\n",
    "    plt.subplot(3, 3, i + 1)\n",
    "    plt.imshow(img)\n",
    "    plt.axis('off')\n",
    "plt.show()"
   ]
  },
  {
   "cell_type": "code",
   "execution_count": null,
   "metadata": {
    "papermill": {
     "duration": 0.173118,
     "end_time": "2020-09-01T14:25:26.174134",
     "exception": false,
     "start_time": "2020-09-01T14:25:26.001016",
     "status": "completed"
    },
    "tags": []
   },
   "outputs": [],
   "source": [
    "def make_augmentations(images):\n",
    "    print('применение аугментаций', end = '')\n",
    "    augmented_images = np.empty(images.shape)\n",
    "    for i in range(images.shape[0]):\n",
    "        if i % 200 == 0:\n",
    "            print('.', end = '')\n",
    "        augment_dict = augmentation(image = images[i])\n",
    "        augmented_image = augment_dict['image']\n",
    "        augmented_images[i] = augmented_image\n",
    "    print('')\n",
    "    return augmented_images"
   ]
  },
  {
   "cell_type": "markdown",
   "metadata": {
    "papermill": {
     "duration": 0.158023,
     "end_time": "2020-09-01T14:25:26.491373",
     "exception": false,
     "start_time": "2020-09-01T14:25:26.33335",
     "status": "completed"
    },
    "tags": []
   },
   "source": [
    "## tf.data.Dataset\n",
    "Если все изображения мы будем хранить в памяти, то может возникнуть проблема ее нехватки. Не храните все изображения в памяти целиком!\n",
    "\n",
    "Метод .fit() модели keras может принимать либо данные в виде массивов или тензоров, либо разного рода итераторы, из которых наиболее современным и гибким является [tf.data.Dataset](https://www.tensorflow.org/guide/data). Он представляет собой конвейер, то есть мы указываем, откуда берем данные и какую цепочку преобразований с ними выполняем. Далее мы будем работать с tf.data.Dataset.\n",
    "\n",
    "Dataset хранит информацию о конечном или бесконечном наборе кортежей (tuple) с данными и может возвращать эти наборы по очереди. Например, данными могут быть пары (input, target) для обучения нейросети. С данными можно осуществлять преобразования, которые осуществляются по мере необходимости ([lazy evaluation](https://ru.wikipedia.org/wiki/%D0%9B%D0%B5%D0%BD%D0%B8%D0%B2%D1%8B%D0%B5_%D0%B2%D1%8B%D1%87%D0%B8%D1%81%D0%BB%D0%B5%D0%BD%D0%B8%D1%8F)).\n",
    "\n",
    "`tf.data.Dataset.from_tensor_slices(data)` - создает датасет из данных, которые представляют собой либо массив, либо кортеж из массивов. Деление осуществляется по первому индексу каждого массива. Например, если `data = (np.zeros((128, 256, 256)), np.zeros(128))`, то датасет будет содержать 128 элементов, каждый из которых содержит один массив 256x256 и одно число.\n",
    "\n",
    "`dataset2 = dataset1.map(func)` - применение функции к датасету; функция должна принимать столько аргументов, каков размер кортежа в датасете 1 и возвращать столько, сколько нужно иметь в датасете 2. Пусть, например, датасет содержит изображения и метки, а нам нужно создать датасет только из изображений, тогда мы напишем так: `dataset2 = dataset.map(lambda img, label: img)`.\n",
    "\n",
    "`dataset2 = dataset1.batch(8)` - группировка по батчам; если датасет 2 должен вернуть один элемент, то он берет из датасета 1 восемь элементов, склеивает их (нулевой индекс результата - номер элемента) и возвращает.\n",
    "\n",
    "`dataset.__iter__()` - превращение датасета в итератор, из которого можно получать элементы методом `.__next__()`. Итератор, в отличие от самого датасета, хранит позицию текущего элемента. Можно также перебирать датасет циклом for.\n",
    "\n",
    "`dataset2 = dataset1.repeat(X)` - датасет 2 будет повторять датасет 1 X раз.\n",
    "\n",
    "Если нам нужно взять из датасета 1000 элементов и использовать их как тестовые, а остальные как обучающие, то мы напишем так:\n",
    "\n",
    "`test_dataset = dataset.take(1000)\n",
    "train_dataset = dataset.skip(1000)`\n",
    "\n",
    "Датасет по сути неизменен: такие операции, как map, batch, repeat, take, skip никак не затрагивают оригинальный датасет. Если датасет хранит элементы [1, 2, 3], то выполнив 3 раза подряд функцию dataset.take(1) мы получим 3 новых датасета, каждый из которых вернет число 1. Если же мы выполним функцию dataset.skip(1), мы получим датасет, возвращающий числа [2, 3], но исходный датасет все равно будет возвращать [1, 2, 3] каждый раз, когда мы его перебираем.\n",
    "\n",
    "tf.Dataset всегда выполняется в graph-режиме (в противоположность eager-режиму), поэтому либо преобразования (`.map()`) должны содержать только tensorflow-функции, либо мы должны использовать tf.py_function в качестве обертки для функций, вызываемых в `.map()`. Подробнее можно прочитать [здесь](https://www.tensorflow.org/guide/data#applying_arbitrary_python_logic)."
   ]
  },
  {
   "cell_type": "code",
   "execution_count": null,
   "metadata": {
    "papermill": {
     "duration": 2.623146,
     "end_time": "2020-09-01T14:25:29.275565",
     "exception": false,
     "start_time": "2020-09-01T14:25:26.652419",
     "status": "completed"
    },
    "tags": []
   },
   "outputs": [],
   "source": [
    "# NLP part\n",
    "tokenize = Tokenizer(num_words=MAX_WORDS)\n",
    "tokenize.fit_on_texts(data.description)"
   ]
  },
  {
   "cell_type": "code",
   "execution_count": null,
   "metadata": {
    "papermill": {
     "duration": 9.570665,
     "end_time": "2020-09-01T14:25:39.005168",
     "exception": false,
     "start_time": "2020-09-01T14:25:29.434503",
     "status": "completed"
    },
    "tags": []
   },
   "outputs": [],
   "source": [
    "def process_image(image):\n",
    "    return augmentation(image = image.numpy())['image']\n",
    "\n",
    "def tokenize_(descriptions):\n",
    "    return sequence.pad_sequences(tokenize.texts_to_sequences(descriptions), maxlen = MAX_SEQUENCE_LENGTH)\n",
    "\n",
    "def tokenize_text(text):\n",
    "    return tokenize_([text.numpy().decode('utf-8')])[0]\n",
    "\n",
    "def tf_process_train_dataset_element(image, table_data, text, price):\n",
    "    im_shape = image.shape\n",
    "    [image,] = tf.py_function(process_image, [image], [tf.uint8])\n",
    "    image.set_shape(im_shape)\n",
    "    [text,] = tf.py_function(tokenize_text, [text], [tf.int32])\n",
    "    return (image, table_data, text), price\n",
    "\n",
    "def tf_process_val_dataset_element(image, table_data, text, price):\n",
    "    [text,] = tf.py_function(tokenize_text, [text], [tf.int32])\n",
    "    return (image, table_data, text), price\n",
    "\n",
    "train_dataset = tf.data.Dataset.from_tensor_slices((\n",
    "    images_train, X_train, data.description.iloc[X_train.index], y_train\n",
    "    )).map(tf_process_train_dataset_element)\n",
    "\n",
    "test_dataset = tf.data.Dataset.from_tensor_slices((\n",
    "    images_test, X_test, data.description.iloc[X_test.index], y_test\n",
    "    )).map(tf_process_val_dataset_element)\n",
    "\n",
    "y_sub = np.zeros(len(X_sub))\n",
    "sub_dataset = tf.data.Dataset.from_tensor_slices((\n",
    "    images_sub, X_sub, data.description.iloc[X_sub.index], y_sub\n",
    "    )).map(tf_process_val_dataset_element)\n",
    "\n",
    "#проверяем, что нет ошибок (не будет выброшено исключение):\n",
    "train_dataset.__iter__().__next__();\n",
    "test_dataset.__iter__().__next__();\n",
    "sub_dataset.__iter__().__next__();"
   ]
  },
  {
   "cell_type": "markdown",
   "metadata": {
    "papermill": {
     "duration": 0.17061,
     "end_time": "2020-09-01T14:25:39.361623",
     "exception": false,
     "start_time": "2020-09-01T14:25:39.191013",
     "status": "completed"
    },
    "tags": []
   },
   "source": [
    "### Строим сверточную сеть для анализа изображений без \"головы\""
   ]
  },
  {
   "cell_type": "code",
   "execution_count": null,
   "metadata": {
    "papermill": {
     "duration": 4.81727,
     "end_time": "2020-09-01T14:25:44.336877",
     "exception": false,
     "start_time": "2020-09-01T14:25:39.519607",
     "status": "completed"
    },
    "tags": []
   },
   "outputs": [],
   "source": [
    "#нормализация включена в состав модели EfficientNetB3, поэтому на вход она принимает данные типа uint8\n",
    "efficientnet_model = tf.keras.applications.efficientnet.EfficientNetB3(weights = 'imagenet', include_top = False, input_shape = (size[1], size[0], 3))\n",
    "efficientnet_output = L.GlobalAveragePooling2D()(efficientnet_model.output)"
   ]
  },
  {
   "cell_type": "code",
   "execution_count": null,
   "metadata": {
    "papermill": {
     "duration": 0.215116,
     "end_time": "2020-09-01T14:25:44.712676",
     "exception": false,
     "start_time": "2020-09-01T14:25:44.49756",
     "status": "completed"
    },
    "tags": []
   },
   "outputs": [],
   "source": [
    "#строим нейросеть для анализа табличных данных\n",
    "tabular_model = Sequential([\n",
    "    L.Input(shape = X.shape[1]),\n",
    "    L.Dense(512, activation = 'sigmoid'),\n",
    "    L.LayerNormalization(),\n",
    "    L.Dropout(0.5),\n",
    "    L.Dense(128, activation = 'relu'),\n",
    "#     L.Dense(256, activation = 'relu'),\n",
    "    L.Dropout(0.25),\n",
    "    ])"
   ]
  },
  {
   "cell_type": "code",
   "execution_count": null,
   "metadata": {
    "papermill": {
     "duration": 0.942686,
     "end_time": "2020-09-01T14:25:45.816789",
     "exception": false,
     "start_time": "2020-09-01T14:25:44.874103",
     "status": "completed"
    },
    "tags": []
   },
   "outputs": [],
   "source": [
    "# NLP\n",
    "nlp_model = Sequential([\n",
    "    L.Input(shape=MAX_SEQUENCE_LENGTH, name=\"seq_description\"),\n",
    "    L.Embedding(len(tokenize.word_index)+1, MAX_SEQUENCE_LENGTH,),\n",
    "    L.LayerNormalization(),\n",
    "    L.LSTM(256, return_sequences=True),\n",
    "    L.Dropout(0.5),\n",
    "#     L.Dense(128, activation = 'sigmoid'),\n",
    "    L.LSTM(128),\n",
    "    L.Dropout(0.25),\n",
    "    L.Dense(64),\n",
    "    ])"
   ]
  },
  {
   "cell_type": "code",
   "execution_count": null,
   "metadata": {
    "_kg_hide-output": true,
    "papermill": {
     "duration": 0.401007,
     "end_time": "2020-09-01T14:25:46.433104",
     "exception": false,
     "start_time": "2020-09-01T14:25:46.032097",
     "status": "completed"
    },
    "tags": []
   },
   "outputs": [],
   "source": [
    "#объединяем выходы трех нейросетей\n",
    "combinedInput = L.concatenate([efficientnet_output, tabular_model.output, nlp_model.output])\n",
    "\n",
    "# being our regression head\n",
    "head = L.Dense(256, activation=\"relu\")(combinedInput)\n",
    "head = L.Dense(1,)(head)\n",
    "\n",
    "model = Model(inputs=[efficientnet_model.input, tabular_model.input, nlp_model.input], outputs=head)\n",
    "model.summary()"
   ]
  },
  {
   "cell_type": "code",
   "execution_count": null,
   "metadata": {
    "papermill": {
     "duration": 0.203373,
     "end_time": "2020-09-01T14:25:46.951433",
     "exception": false,
     "start_time": "2020-09-01T14:25:46.74806",
     "status": "completed"
    },
    "tags": []
   },
   "outputs": [],
   "source": [
    "optimizer = tf.keras.optimizers.Adam(0.005)\n",
    "model.compile(loss='MAPE',optimizer=optimizer, metrics=['MAPE'])"
   ]
  },
  {
   "cell_type": "code",
   "execution_count": null,
   "metadata": {
    "papermill": {
     "duration": 0.173321,
     "end_time": "2020-09-01T14:25:47.291575",
     "exception": false,
     "start_time": "2020-09-01T14:25:47.118254",
     "status": "completed"
    },
    "tags": []
   },
   "outputs": [],
   "source": [
    "checkpoint = ModelCheckpoint('../working/best_model.hdf5', monitor=['val_MAPE'], verbose=0, mode='min')\n",
    "earlystop = EarlyStopping(monitor='val_MAPE', patience=10, restore_best_weights=True,)\n",
    "callbacks_list = [checkpoint, earlystop]"
   ]
  },
  {
   "cell_type": "code",
   "execution_count": null,
   "metadata": {
    "_kg_hide-output": true,
    "papermill": {
     "duration": 6848.170941,
     "end_time": "2020-09-01T16:19:55.62653",
     "exception": false,
     "start_time": "2020-09-01T14:25:47.455589",
     "status": "completed"
    },
    "tags": []
   },
   "outputs": [],
   "source": [
    "history = model.fit(train_dataset.batch(30),\n",
    "                    epochs=100,\n",
    "                    validation_data = test_dataset.batch(30),\n",
    "                    callbacks=callbacks_list\n",
    "                   )"
   ]
  },
  {
   "cell_type": "code",
   "execution_count": null,
   "metadata": {
    "papermill": {
     "duration": 0.813371,
     "end_time": "2020-09-01T16:19:57.159358",
     "exception": false,
     "start_time": "2020-09-01T16:19:56.345987",
     "status": "completed"
    },
    "tags": []
   },
   "outputs": [],
   "source": [
    "plt.title('Loss')\n",
    "plt.plot(history.history['MAPE'], label='train')\n",
    "plt.plot(history.history['val_MAPE'], label='test')\n",
    "plt.show();"
   ]
  },
  {
   "cell_type": "code",
   "execution_count": null,
   "metadata": {
    "papermill": {
     "duration": 2.936709,
     "end_time": "2020-09-01T16:20:00.736888",
     "exception": false,
     "start_time": "2020-09-01T16:19:57.800179",
     "status": "completed"
    },
    "tags": []
   },
   "outputs": [],
   "source": [
    "model.load_weights('../working/best_model.hdf5')\n",
    "# model.save('../working/nn_final.hdf5')"
   ]
  },
  {
   "cell_type": "code",
   "execution_count": null,
   "metadata": {
    "papermill": {
     "duration": 7.524393,
     "end_time": "2020-09-01T16:20:08.904328",
     "exception": false,
     "start_time": "2020-09-01T16:20:01.379935",
     "status": "completed"
    },
    "tags": []
   },
   "outputs": [],
   "source": [
    "test_predict_nn3 = model.predict(test_dataset.batch(30))\n",
    "print(f\"TEST mape: {(MAPE(y_test, test_predict_nn3[:,0]))*100:0.2f}%\")"
   ]
  },
  {
   "cell_type": "code",
   "execution_count": null,
   "metadata": {
    "papermill": {
     "duration": 7.098852,
     "end_time": "2020-09-01T16:20:16.660225",
     "exception": false,
     "start_time": "2020-09-01T16:20:09.561373",
     "status": "completed"
    },
    "tags": []
   },
   "outputs": [],
   "source": [
    "sub_predict_nn3 = model.predict(sub_dataset.batch(30))\n",
    "sample_submission['price'] = sub_predict_nn3[:,0]\n",
    "sample_submission.to_csv('nn3_submission.csv', index=False)"
   ]
  },
  {
   "cell_type": "markdown",
   "metadata": {
    "papermill": {
     "duration": 0.65083,
     "end_time": "2020-09-01T16:20:19.545762",
     "exception": false,
     "start_time": "2020-09-01T16:20:18.894932",
     "status": "completed"
    },
    "tags": []
   },
   "source": [
    "# Blend"
   ]
  },
  {
   "cell_type": "code",
   "execution_count": null,
   "metadata": {
    "papermill": {
     "duration": 0.703008,
     "end_time": "2020-09-01T16:20:20.951455",
     "exception": false,
     "start_time": "2020-09-01T16:20:20.248447",
     "status": "completed"
    },
    "tags": []
   },
   "outputs": [],
   "source": [
    "blend_predict = (test_predict_catboost + test_predict_nn1[:,0] + test_predict_nn3[:,0]) / 3\n",
    "print(f\"TEST mape: {(MAPE(y_test, blend_predict))*100:0.2f}%\")"
   ]
  },
  {
   "cell_type": "code",
   "execution_count": null,
   "metadata": {
    "papermill": {
     "duration": 0.736236,
     "end_time": "2020-09-01T16:20:22.344603",
     "exception": false,
     "start_time": "2020-09-01T16:20:21.608367",
     "status": "completed"
    },
    "tags": []
   },
   "outputs": [],
   "source": [
    "blend_sub_predict = (sub_predict_catboost + sub_predict_nn1[:,0] + sub_predict_nn3[:,0]) / 3\n",
    "sample_submission['price'] = blend_sub_predict\n",
    "sample_submission.to_csv('blend_submission.csv', index=False)"
   ]
  },
  {
   "cell_type": "markdown",
   "metadata": {},
   "source": [
    "# Выводы:"
   ]
  },
  {
   "cell_type": "markdown",
   "metadata": {},
   "source": [
    "В ходе выполнения проекта проведен анализ данных, их подготовка и обработка. Датасет очищен от шума и выбросов. Выполнена нормализация. Категориальные признаки обработаны с помощью get_dummies. Добавлены новые признаки. Часть признаков удалены на основании анализа корреляции. Для обработки текста использовались классические методы (токенизация). Дополнительно можно поработать над лемматизацией текста. Также в модель добавлена обработка изображений. Методом блендирования удалось еще немного улучшить результат модели. Ссылка на kaggle: https://www.kaggle.com/mukaseevru/car-price-prediction-mukaseevru"
   ]
  },
  {
   "cell_type": "markdown",
   "metadata": {
    "papermill": {
     "duration": 0.638875,
     "end_time": "2020-09-01T16:20:23.635651",
     "exception": false,
     "start_time": "2020-09-01T16:20:22.996776",
     "status": "completed"
    },
    "tags": []
   },
   "source": [
    "# Model Bonus: проброс признака"
   ]
  },
  {
   "cell_type": "code",
   "execution_count": null,
   "metadata": {
    "papermill": {
     "duration": 0.707789,
     "end_time": "2020-09-01T16:20:25.166478",
     "exception": false,
     "start_time": "2020-09-01T16:20:24.458689",
     "status": "completed"
    },
    "tags": []
   },
   "outputs": [],
   "source": [
    "# # MLP\n",
    "# model_mlp = Sequential()\n",
    "# model_mlp.add(L.Dense(512, input_dim=X_train.shape[1], activation=\"relu\"))\n",
    "# model_mlp.add(L.Dropout(0.5))\n",
    "# model_mlp.add(L.Dense(256, activation=\"relu\"))\n",
    "# model_mlp.add(L.Dropout(0.5))"
   ]
  },
  {
   "cell_type": "code",
   "execution_count": null,
   "metadata": {
    "papermill": {
     "duration": 0.66647,
     "end_time": "2020-09-01T16:20:26.538618",
     "exception": false,
     "start_time": "2020-09-01T16:20:25.872148",
     "status": "completed"
    },
    "tags": []
   },
   "outputs": [],
   "source": [
    "# # FEATURE Input\n",
    "# # Iput\n",
    "# productiondate = L.Input(shape=[1], name=\"productiondate\")\n",
    "# # Embeddings layers\n",
    "# emb_productiondate = L.Embedding(len(X.productionDate.unique().tolist())+1, 20)(productiondate)\n",
    "# f_productiondate = L.Flatten()(emb_productiondate)"
   ]
  },
  {
   "cell_type": "code",
   "execution_count": null,
   "metadata": {
    "papermill": {
     "duration": 1.135589,
     "end_time": "2020-09-01T16:20:28.319282",
     "exception": false,
     "start_time": "2020-09-01T16:20:27.183693",
     "status": "completed"
    },
    "tags": []
   },
   "outputs": [],
   "source": [
    "# combinedInput = L.concatenate([model_mlp.output, f_productiondate,])\n",
    "# # being our regression head\n",
    "# head = L.Dense(64, activation=\"relu\")(combinedInput)\n",
    "# head = L.Dense(1, activation=\"linear\")(head)\n",
    "\n",
    "# model = Model(inputs=[model_mlp.input, productiondate], outputs=head)"
   ]
  },
  {
   "cell_type": "code",
   "execution_count": null,
   "metadata": {
    "_kg_hide-output": true,
    "papermill": {
     "duration": 0.716237,
     "end_time": "2020-09-01T16:20:29.840808",
     "exception": false,
     "start_time": "2020-09-01T16:20:29.124571",
     "status": "completed"
    },
    "tags": []
   },
   "outputs": [],
   "source": [
    "# model.summary()"
   ]
  },
  {
   "cell_type": "code",
   "execution_count": null,
   "metadata": {
    "papermill": {
     "duration": 0.684582,
     "end_time": "2020-09-01T16:20:31.206944",
     "exception": false,
     "start_time": "2020-09-01T16:20:30.522362",
     "status": "completed"
    },
    "tags": []
   },
   "outputs": [],
   "source": [
    "# optimizer = tf.keras.optimizers.Adam(0.01)\n",
    "# model.compile(loss='MAPE',optimizer=optimizer, metrics=['MAPE'])"
   ]
  },
  {
   "cell_type": "code",
   "execution_count": null,
   "metadata": {
    "papermill": {
     "duration": 22.400657,
     "end_time": "2020-09-01T16:20:54.31062",
     "exception": false,
     "start_time": "2020-09-01T16:20:31.909963",
     "status": "completed"
    },
    "tags": []
   },
   "outputs": [],
   "source": [
    "# history = model.fit([X_train, X_train.productionDate.values], y_train,\n",
    "#                     batch_size=512,\n",
    "#                     epochs=500, # фактически мы обучаем пока EarlyStopping не остановит обучение\n",
    "#                     validation_data=([X_test, X_test.productionDate.values], y_test),\n",
    "#                     callbacks=callbacks_list\n",
    "#                    )"
   ]
  },
  {
   "cell_type": "code",
   "execution_count": null,
   "metadata": {
    "papermill": {
     "duration": 0.899485,
     "end_time": "2020-09-01T16:20:55.927469",
     "exception": false,
     "start_time": "2020-09-01T16:20:55.027984",
     "status": "completed"
    },
    "tags": []
   },
   "outputs": [],
   "source": [
    "# model.load_weights('../working/best_model.hdf5')\n",
    "# test_predict_nn_bonus = model.predict([X_test, X_test.productionDate.values])\n",
    "# print(f\"TEST mape: {(MAPE(y_test, test_predict_nn_bonus[:,0]))*100:0.2f}%\")"
   ]
  }
 ],
 "metadata": {
  "kernelspec": {
   "display_name": "Python 3 (ipykernel)",
   "language": "python",
   "name": "python3"
  },
  "language_info": {
   "codemirror_mode": {
    "name": "ipython",
    "version": 3
   },
   "file_extension": ".py",
   "mimetype": "text/x-python",
   "name": "python",
   "nbconvert_exporter": "python",
   "pygments_lexer": "ipython3",
   "version": "3.9.7"
  }
 },
 "nbformat": 4,
 "nbformat_minor": 4
}
